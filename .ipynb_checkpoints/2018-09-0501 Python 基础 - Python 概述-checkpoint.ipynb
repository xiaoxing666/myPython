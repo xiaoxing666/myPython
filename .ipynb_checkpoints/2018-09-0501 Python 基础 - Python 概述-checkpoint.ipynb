{
 "cells": [
  {
   "cell_type": "markdown",
   "metadata": {},
   "source": [
    "# Python 基础\n",
    "## Python 概述\n",
    "- 计算机语言概述\n",
    "    - 语言：交流的工具 沟通媒介\n",
    "    - 计算机语言：人跟计算机交流的工具，翻译官\n",
    "    - Python 是计算机语言的一种\n",
    "    - Python 编程语言\n",
    "        - 代码：人类语言，通过代码命令机器，跟计算机交流\n",
    "        - Python 解释器：就是担任翻译工作的二狗子同学\n",
    "        - 流程\n",
    "            - 写代码\n",
    "            - 执行：由翻译官（Python 翻译器）把命令（codde）翻译给机器，同时机器把翻译结果翻译给我们\n",
    "    - Python 读音问题 英 [ˈpaɪθən] 美 [ˈpaɪθɑ:n]\n",
    "    - Python 简史\n",
    "        - 1989年：Guido van Rossum \n",
    "        - 2008年:Python 3.0 诞生\n",
    "        - 2014年：宣布2.7支持到2020年\n",
    "        - 2017年：AI元年，Python崛起\n",
    "    - Python 特点\n",
    "        - 速度问题\n",
    "        - Python 跟其他语言的选择问题\n",
    "    - Python 应用领域\n",
    "        - 全能\n",
    "        - 设计哲学：平衡发展，样样通，简洁明了\n",
    "    - Python 为什么这么火\n",
    "        - 会不会持续火\n",
    "    - 编程环境问题\n",
    "        - Anaconda + pycharm\n",
    "        - python 3.6\n",
    "    - 环境\n",
    "        - 学习环境\n",
    "            - 直播课：网易云课堂\n",
    "            - 讲义+代码：github\n",
    "            - 教科书：gitbook\n",
    "        - 工作环境\n",
    "            - 环境安装\n",
    "                - gitbook 上传 \n",
    "                - http://www.cnblogs.com/zhouzhishuai/p/8401103.html\n",
    "        - 操作环境\n",
    "            - Windows \n",
    "            - Linux \n",
    "            - MacOX\n",
    "            - 我们的标准系统：Windows 下开虚拟机，虚拟机安装 ubuntu\n",
    "        - 软件环境\n",
    "            - 不使用 Python 解释器\n",
    "            - 使用 Anaconda + pycharm代替\n",
    "            - 具体环境…\n",
    "    - Python 的执行方式\n",
    "        - 本质上 Python 是一堆命令的集合\n",
    "        - 执行过程是逐行执行，遇到问题即终止\n",
    "        - 打印 hello world"
   ]
  },
  {
   "cell_type": "code",
   "execution_count": 2,
   "metadata": {},
   "outputs": [
    {
     "name": "stdout",
     "output_type": "stream",
     "text": [
      "Hello World\n"
     ]
    }
   ],
   "source": [
    "print ('Hello World')"
   ]
  }
 ],
 "metadata": {
  "kernelspec": {
   "display_name": "Python 3",
   "language": "python",
   "name": "python3"
  },
  "language_info": {
   "codemirror_mode": {
    "name": "ipython",
    "version": 3
   },
   "file_extension": ".py",
   "mimetype": "text/x-python",
   "name": "python",
   "nbconvert_exporter": "python",
   "pygments_lexer": "ipython3",
   "version": "3.6.1"
  }
 },
 "nbformat": 4,
 "nbformat_minor": 2
}
