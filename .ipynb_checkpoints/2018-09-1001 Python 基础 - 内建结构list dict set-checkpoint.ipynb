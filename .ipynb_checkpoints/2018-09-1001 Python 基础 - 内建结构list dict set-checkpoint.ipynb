{
 "cells": [
  {
   "cell_type": "markdown",
   "metadata": {},
   "source": [
    "# 汉诺塔问题\n",
    "- 规则：\n",
    "    1. 每次移动一个盘子\n",
    "    2. 任何时候大盘子在下面，小盘子在上面\n",
    "- 方法：\n",
    "    1. n = 1:直接把 A 上的一个盘子移动到 C 上,A->C\n",
    "    2. n = 2:\n",
    "        1.把小盘子从 A 放到 B 上,A->B\n",
    "        2.把大盘子从 A 放到 C 上,A->C\n",
    "        3.把小盘子从 B 放到 C 上,B->C\n",
    "    3. n = 3:\n",
    "        1.把 A 上的两个盘子,通过 C 移动到 B 上去,调用递归实现\n",
    "        2.把 A 上剩下的一个最大盘子移动到 C 上,A->C\n",
    "        3.把 B 上两个盘子,借助于 A,挪到 C 上去,调用递归\n",
    "    4. n = n:\n",
    "        1.把 A 上的 n-1 个盘子,借助于C,移动到 B 上去,调用递归\n",
    "        2.把 A 上的最大盘子,也是唯一一个,移动到 C 上,A->C\n",
    "        3.把 B 上 n-1 个盘子,借助于 A,移动到 C 上,调用递归\n",
    "    "
   ]
  },
  {
   "cell_type": "code",
   "execution_count": 11,
   "metadata": {},
   "outputs": [
    {
     "name": "stdout",
     "output_type": "stream",
     "text": [
      "A --> B\n",
      "A --> C\n",
      "B --> C\n",
      "A --> B\n",
      "C --> A\n",
      "C --> B\n",
      "A --> B\n",
      "A --> C\n",
      "B --> C\n",
      "B --> A\n",
      "C --> A\n",
      "B --> C\n",
      "A --> B\n",
      "A --> C\n",
      "B --> C\n"
     ]
    }
   ],
   "source": [
    "def hano(n,a,b,c):\n",
    "    '''\n",
    "    汉诺塔的递归实现\n",
    "    n:代表几个盘子\n",
    "    a:代表第一个塔\n",
    "    b:代表第二个塔\n",
    "    c:代表第三个塔\n",
    "    '''\n",
    "    if n<=0:\n",
    "        return None\n",
    "    if n == 1:\n",
    "        print(a,'-->',c)\n",
    "        return None\n",
    "    if n == 2:\n",
    "        print(a,'-->',b)\n",
    "        print(a,'-->',c)\n",
    "        print(b,'-->',c)\n",
    "        return None\n",
    "    # 把 n-1 个盘子，从 a 塔借助于 c 塔，挪到 b 塔 上去\n",
    "    hano(n-1,a,c,b)\n",
    "    print (a,'-->',c)\n",
    "    hano(n-1,b,a,c)\n",
    " \n",
    "a = 'A'\n",
    "b = 'B'\n",
    "c = 'C'\n",
    "n = 4\n",
    "hano(n,a,b,c)"
   ]
  },
  {
   "cell_type": "markdown",
   "metadata": {},
   "source": [
    "- List (列表)\n",
    "    - del : 删除命令\n",
    "   "
   ]
  },
  {
   "cell_type": "code",
   "execution_count": 12,
   "metadata": {},
   "outputs": [
    {
     "name": "stdout",
     "output_type": "stream",
     "text": [
      "[1, 3, 7, 9]\n"
     ]
    }
   ],
   "source": [
    "# del 删除\n",
    "a = [1,3,5,7,9]\n",
    "del a[2]\n",
    "print (a)"
   ]
  },
  {
   "cell_type": "code",
   "execution_count": 16,
   "metadata": {},
   "outputs": [
    {
     "name": "stdout",
     "output_type": "stream",
     "text": [
      "2872891613256\n",
      "2872891613256\n"
     ]
    }
   ],
   "source": [
    "# del 删除， id 不会变\n",
    "a = [1,3,5,7,9]\n",
    "print (id(a))\n",
    "del a[2]\n",
    "print (id(a))"
   ]
  },
  {
   "cell_type": "code",
   "execution_count": 19,
   "metadata": {
    "collapsed": true
   },
   "outputs": [],
   "source": [
    "# del 一旦删除一个变量，id 就不存在\n",
    "a = [1,3,5,7,9]\n",
    "del a\n",
    "# print (id(a)) 会报错"
   ]
  },
  {
   "cell_type": "markdown",
   "metadata": {},
   "source": [
    "### 列表相加\n",
    "- 使用加好连接两个列表"
   ]
  },
  {
   "cell_type": "code",
   "execution_count": 21,
   "metadata": {},
   "outputs": [
    {
     "name": "stdout",
     "output_type": "stream",
     "text": [
      "[1, 2, 3, 4, 5, 6, 7, 8, 'a', 'b', 'c']\n"
     ]
    }
   ],
   "source": [
    "# 使用加好操作列表\n",
    "a = [1,2,3,4]\n",
    "b = [5,6,7,8]\n",
    "c = ['a','b','c']\n",
    "d = a + b + c\n",
    "print (d)"
   ]
  },
  {
   "cell_type": "code",
   "execution_count": 23,
   "metadata": {},
   "outputs": [
    {
     "name": "stdout",
     "output_type": "stream",
     "text": [
      "[1, 2, 3, 4, 1, 2, 3, 4, 1, 2, 3, 4, 1, 2, 3, 4, 1, 2, 3, 4]\n"
     ]
    }
   ],
   "source": [
    "# 使用乘号操作列表\n",
    "a = [1,2,3,4]\n",
    "b = 5\n",
    "d = a * b # 乘 5 次 \n",
    "print (d)"
   ]
  },
  {
   "cell_type": "code",
   "execution_count": 26,
   "metadata": {},
   "outputs": [
    {
     "name": "stdout",
     "output_type": "stream",
     "text": [
      "True\n",
      "False\n"
     ]
    }
   ],
   "source": [
    "# 成员资格运算\n",
    "# 判断一个元素是否在list里边\n",
    "\n",
    "a = [1,2,3,4,5,6,7,9]\n",
    "b = 8\n",
    "\n",
    "c = d not in a\n",
    "d = b in a\n",
    "\n",
    "print (c)\n",
    "print (d)"
   ]
  },
  {
   "cell_type": "markdown",
   "metadata": {},
   "source": [
    "- 链表的遍历\n",
    "    - for\n",
    "    - while"
   ]
  },
  {
   "cell_type": "code",
   "execution_count": 27,
   "metadata": {},
   "outputs": [
    {
     "name": "stdout",
     "output_type": "stream",
     "text": [
      "1\n",
      "2\n",
      "3\n",
      "4\n",
      "5\n"
     ]
    }
   ],
   "source": [
    "# for in list\n",
    "a = [1,2,3,4,5]\n",
    "\n",
    "# 挨个打印 a 里面的元素\n",
    "for i in a:\n",
    "    print (i)"
   ]
  },
  {
   "cell_type": "code",
   "execution_count": 32,
   "metadata": {
    "scrolled": true
   },
   "outputs": [
    {
     "name": "stdout",
     "output_type": "stream",
     "text": [
      "i\n",
      " \n",
      "l\n",
      "o\n",
      "v\n",
      "e\n",
      " \n",
      "w\n",
      "a\n",
      "n\n",
      "x\n",
      "i\n",
      "a\n",
      "o\n",
      "x\n",
      "i\n",
      "n\n",
      "g\n"
     ]
    }
   ],
   "source": [
    "b = \"i love wanxiaoxing\"\n",
    "for i in b:\n",
    "    print (i)"
   ]
  },
  {
   "cell_type": "code",
   "execution_count": 33,
   "metadata": {},
   "outputs": [
    {
     "name": "stdout",
     "output_type": "stream",
     "text": [
      "1\n",
      "2\n",
      "3\n",
      "4\n",
      "5\n",
      "6\n",
      "7\n",
      "8\n",
      "9\n",
      "<class 'range'>\n"
     ]
    }
   ],
   "source": [
    "# range\n",
    "# in 后面的变量要求是可以带带的内容\n",
    "\n",
    "for i in range(1,10):\n",
    "    print(i)\n",
    "print (type(range(1,10)))"
   ]
  },
  {
   "cell_type": "code",
   "execution_count": 37,
   "metadata": {},
   "outputs": [
    {
     "name": "stdout",
     "output_type": "stream",
     "text": [
      "1\n",
      "2\n",
      "3\n",
      "4\n",
      "5\n"
     ]
    }
   ],
   "source": [
    "# while 循环访问 list\n",
    "# 一般不用 while 遍历 list\n",
    "\n",
    "a = [1,2,3,4,5]\n",
    "length = len(a)\n",
    "# index 表示的是 a 的下标\n",
    "index = 0\n",
    "while index < length:\n",
    "    print (a[index])\n",
    "    index += 1"
   ]
  },
  {
   "cell_type": "code",
   "execution_count": 41,
   "metadata": {},
   "outputs": [
    {
     "name": "stdout",
     "output_type": "stream",
     "text": [
      "wanxi 24\n",
      "xiaozhang 19\n",
      "wangba 38\n"
     ]
    }
   ],
   "source": [
    "# 双层列表循环 双层 双层...\n",
    "a = [['wanxi',24],['xiaozhang',19],['wangba',38]]\n",
    "\n",
    "for k,v in a:\n",
    "    print (k,v)"
   ]
  },
  {
   "cell_type": "code",
   "execution_count": 46,
   "metadata": {},
   "outputs": [
    {
     "name": "stdout",
     "output_type": "stream",
     "text": [
      "wanxi --- 24 --- 10000\n",
      "xiaozhang --- 19 --- 10086\n",
      "wangba --- 38 --- 10010\n"
     ]
    }
   ],
   "source": [
    "# 多层列表循环  for 循环多写几个参数,名字随便起\n",
    "a = [['wanxi',24,'10000'],['xiaozhang',19,'10086'],['wangba',38,'10010']]\n",
    "\n",
    "for a1,a2,a3 in a:\n",
    "    print (a1,'---',a2,'---',a3)"
   ]
  },
  {
   "cell_type": "markdown",
   "metadata": {},
   "source": [
    "# 列表内涵 : list content\n",
    "- 通过简单的方法做列表"
   ]
  },
  {
   "cell_type": "code",
   "execution_count": 49,
   "metadata": {},
   "outputs": [
    {
     "name": "stdout",
     "output_type": "stream",
     "text": [
      "9\n",
      "['a', 'b', 'c']\n"
     ]
    }
   ],
   "source": [
    "# for 创建\n",
    "a = ['a','b','c']\n",
    "# 用 list a 创建一个 list b\n",
    "# 下面代码的含义是,对于所有 a 中的元素,逐个放入新列表 b 中\n",
    "b = [i for i in a]\n",
    "print (b)"
   ]
  },
  {
   "cell_type": "code",
   "execution_count": 50,
   "metadata": {},
   "outputs": [
    {
     "name": "stdout",
     "output_type": "stream",
     "text": [
      "['aaaaaaaaaa', 'bbbbbbbbbb', 'cccccccccc']\n"
     ]
    }
   ],
   "source": [
    "# 对 a 中所有元素乘10,生成一个新 list\n",
    "a = ['a','b','c']\n",
    "# 用 list a 创建一个 list b\n",
    "# 下面代码的含义是,对于所有 a 中的元素,逐个放入新列表 b 中\n",
    "b = [i*10 for i in a]\n",
    "print (b)"
   ]
  },
  {
   "cell_type": "code",
   "execution_count": 51,
   "metadata": {},
   "outputs": [
    {
     "name": "stdout",
     "output_type": "stream",
     "text": [
      "[2, 4, 6, 8, 10, 12, 14, 16, 18, 20, 22, 24, 26, 28, 30, 32, 34]\n"
     ]
    }
   ],
   "source": [
    "# 还可以过滤原来 list 中的内容放入新内容\n",
    "# 比如原有列表 a , 需要把所有 a 中的偶数生成新的列表 b\n",
    "a = [x for x in range(1,35)] # 生成从 1 到 35 的一个列表\n",
    "# 把 a 中所有偶数生成一个新的列表 b\n",
    "b = [y for y in a if y%2==0]\n",
    "print (b)\n"
   ]
  },
  {
   "cell_type": "code",
   "execution_count": 62,
   "metadata": {},
   "outputs": [
    {
     "name": "stdout",
     "output_type": "stream",
     "text": [
      "[1, 2, 3, 4, 5, 6, 7, 8, 9]\n",
      "[100, 200, 300]\n",
      "[101, 201, 301, 102, 202, 302, 103, 203, 303, 104, 204, 304, 105, 205, 305, 106, 206, 306, 107, 207, 307, 108, 208, 308, 109, 209, 309]\n",
      "101 201 301 102 202 302 103 203 303 104 204 304 105 205 305 106 206 306 107 207 307 108 208 308 109 209 309 [301, 302, 303, 304, 305, 306, 307, 308, 309]\n"
     ]
    }
   ],
   "source": [
    "# 列表生成式可以嵌套\n",
    "# 由两个列表 a ,b\n",
    "a = [i for i in range(1,10)] #生成 list a\n",
    "print (a)\n",
    "b = [i for i in range(100,301) if i%100==0]\n",
    "print (b)\n",
    "\n",
    "# 列表生成是可以嵌套的\n",
    "c = [x+y for x in a for y in b]\n",
    "print (c)\n",
    "\n",
    "# 相当于\n",
    "for x in a:\n",
    "    for y in b:\n",
    "        print (x+y,end = ' ')\n",
    "\n",
    "# 嵌套的列表生成时也可以用条件表达式\n",
    "c = [x+y for x in a for y in b if x+y>250]\n",
    "print (c)"
   ]
  },
  {
   "cell_type": "markdown",
   "metadata": {},
   "source": [
    "# 关于列表的常用函数"
   ]
  },
  {
   "cell_type": "code",
   "execution_count": 68,
   "metadata": {},
   "outputs": [
    {
     "name": "stdout",
     "output_type": "stream",
     "text": [
      "99\n",
      "3\n",
      "99\n",
      "xing\n",
      "1\n",
      "wan\n"
     ]
    }
   ],
   "source": [
    "# len:求列表长度\n",
    "a = [x for x in range(1,100)]\n",
    "b= ['wan','xiaox','xing']\n",
    "print (len(a))\n",
    "print (len(b))\n",
    "\n",
    "# max:求列表中的最大值\n",
    "print (max(a))\n",
    "print (max(b))\n",
    "\n",
    "# min:求列表中的最小值\n",
    "print (min(a))\n",
    "print (min(b))"
   ]
  },
  {
   "cell_type": "code",
   "execution_count": 71,
   "metadata": {},
   "outputs": [
    {
     "name": "stdout",
     "output_type": "stream",
     "text": [
      "['w', 'a', 'n', 'x', 'i', 'a', 'o', 'x', 'i', 'n', 'g']\n"
     ]
    }
   ],
   "source": [
    "# list : 将其他格式的数据转换成 list\n",
    "a = \"wanxiaoxing\"\n",
    "b = list(a)\n",
    "print (b)"
   ]
  },
  {
   "cell_type": "code",
   "execution_count": 74,
   "metadata": {},
   "outputs": [
    {
     "name": "stdout",
     "output_type": "stream",
     "text": [
      "[23, 24, 25, 26, 27, 28, 29, 30, 31, 32, 33, 34, 35, 36, 37, 38, 39, 40, 41, 42]\n"
     ]
    }
   ],
   "source": [
    "# 把 range 产生的内容转换成 list\n",
    "print (list(range(23,43)))"
   ]
  },
  {
   "cell_type": "code",
   "execution_count": null,
   "metadata": {
    "collapsed": true
   },
   "outputs": [],
   "source": []
  }
 ],
 "metadata": {
  "kernelspec": {
   "display_name": "Python 3",
   "language": "python",
   "name": "python3"
  },
  "language_info": {
   "codemirror_mode": {
    "name": "ipython",
    "version": 3
   },
   "file_extension": ".py",
   "mimetype": "text/x-python",
   "name": "python",
   "nbconvert_exporter": "python",
   "pygments_lexer": "ipython3",
   "version": "3.6.1"
  }
 },
 "nbformat": 4,
 "nbformat_minor": 2
}
