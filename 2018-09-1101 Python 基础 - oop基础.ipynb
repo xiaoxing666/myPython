{
 "cells": [
  {
   "cell_type": "code",
   "execution_count": 1,
   "metadata": {},
   "outputs": [
    {
     "name": "stdout",
     "output_type": "stream",
     "text": [
      "dana\n"
     ]
    }
   ],
   "source": [
    "class Student():\n",
    "    name = 'dana'\n",
    "    age = 18\n",
    "Student.__dict__\n",
    "\n",
    "# 实例化\n",
    "xiaoxin = Student()\n",
    "xiaoxin.__dict__\n",
    "print(xiaoxin.name)"
   ]
  },
  {
   "cell_type": "code",
   "execution_count": 17,
   "metadata": {},
   "outputs": [
    {
     "name": "stdout",
     "output_type": "stream",
     "text": [
      "dana\n18\n******************************\n2163158622592\n1806232560\n******************************\n{'__module__': '__main__', 'name': 'dana', 'age': 18, 'say': <function A.say at 0x000001F7A64D0C80>, '__dict__': <attribute '__dict__' of 'A' objects>, '__weakref__': <attribute '__weakref__' of 'A' objects>, '__doc__': None}\n******************************\n{}\n{}\n******************************\ndana\n18\n2163158622592\n1806232560\n"
     ]
    }
   ],
   "source": [
    "class A():\n",
    "    name = 'dana'\n",
    "    age = 18\n",
    "    # 定义一个方法,注意有一个参数 self\n",
    "    def say(self):\n",
    "        self.name = 'aaaa'\n",
    "        self.age = 20\n",
    "\n",
    "# 此案例说明\n",
    "# 类实例的属性和其对象的示例的属性在不对对象的实例属性赋值下指向同一个地址\n",
    "\n",
    "# 此时,A 称为类的示例\n",
    "print (A.name)\n",
    "print(A.age)\n",
    "\n",
    "print (\"*\"*30)\n",
    "\n",
    "# id 可以鉴别一个变量是否和另一个变量是同一个变量\n",
    "print (id(A.name)) \n",
    "print (id(A.age))\n",
    "\n",
    "a = A()\n",
    "# 查看 A 内所有的属性\n",
    "print (\"*\"*30)\n",
    "print (A.__dict__)\n",
    "print (\"*\"*30)\n",
    "# 创建对象的时候,类中的成员不会放入对象当中,而是得到一个空的对象,没有成员\n",
    "print (a.__dict__)\n",
    "print (a.__dict__)\n",
    "print (\"*\"*30)\n",
    "print (a.name)\n",
    "print (a.age)\n",
    "print (id(a.name)) \n",
    "print (id(a.age))"
   ]
  },
  {
   "cell_type": "markdown",
   "metadata": {},
   "source": [
    "- 类和对象的成员分析\n",
    "\t- 类和对象都可以存储成员,成员可以归类所有,也可以归对象所有\n",
    "\t- 类存储成员时使用的是与类关联的一个对象\n",
    "\t- 独享存储成员时存储在当前对象中\n",
    "\t- 对象访问一个成员时,如果对象中没有该成员,那么尝试同名的成员\n",
    "\t- 创建对象的时候,类中的成员不会放入对象当中,而是得到一个空的对象,没有成员\n",
    "\t- 通过对象对类中成员重新赋值或者添加成员时,对象成员会保存在对象中"
   ]
  },
  {
   "cell_type": "code",
   "execution_count": 21,
   "metadata": {},
   "outputs": [
    {
     "name": "stdout",
     "output_type": "stream",
     "text": [
      "我的名字是dana,我的年龄是18岁.\n"
     ]
    }
   ],
   "source": [
    "class Student():\n",
    "    name = 'dana'\n",
    "    age = 18\n",
    "    # 定义一个方法,注意有一个参数 self\n",
    "    def say(self):\n",
    "        print ('我的名字是{0},我的年龄是{1}岁.'.format(self.name,self.age))\n",
    "\n",
    "xiaoxin = Student()\n",
    "xiaoxin.say()"
   ]
  },
  {
   "cell_type": "code",
   "execution_count": 34,
   "metadata": {},
   "outputs": [
    {
     "name": "stdout",
     "output_type": "stream",
     "text": [
      "我的名字是xiaoxin,我的年龄是23岁.\nxiaoxin 23\n又见面啦!\n"
     ]
    }
   ],
   "source": [
    "class Teacher():\n",
    "    name = 'xiaoxin'\n",
    "    age = 23\n",
    "\n",
    "    def say(self):\n",
    "        print ('我的名字是{0},我的年龄是{1}岁.'.format(self.name,self.age))\n",
    "    # 方法中有 self 形参的方法称为非绑定类的方法,可以通过对象访问,没有 self 的是绑定类的方法,只能通过类访问\n",
    "    def sayAgain():\n",
    "        print (__class__.name,__class__.age)\n",
    "        print ('又见面啦!')\n",
    "t = Teacher()\n",
    "t.say()\n",
    "# 调用绑定类函数使用类名\n",
    "Teacher.sayAgain()"
   ]
  },
  {
   "cell_type": "code",
   "execution_count": 48,
   "metadata": {},
   "outputs": [
    {
     "name": "stdout",
     "output_type": "stream",
     "text": [
      "aaaaaaaaa\n80\naaaaaaaaa\n80\nxiaoxin\n23\nbbbbbbbbbbb\n18\n"
     ]
    }
   ],
   "source": [
    "# 关于 self 的案例\n",
    "class A():\n",
    "    name = 'xiaoxin'\n",
    "    age = 23\n",
    "    def __init__(self):\n",
    "        self.name = 'aaaaaaaaa'\n",
    "        self.age = 80\n",
    "    \n",
    "    def say(self):\n",
    "        print (self.name)\n",
    "        print (self.age)\n",
    "\n",
    "class B():\n",
    "    name = 'bbbbbbbbbbb'\n",
    "    age = 18\n",
    "    sex = 'male'\n",
    "    \n",
    "a = A()\n",
    "a.say()\n",
    "\n",
    "# 此时,self 被 a 替换\n",
    "A.say(a)\n",
    "\n",
    "# 同样,可以把 A 作为参数传入\n",
    "A.say(A)\n",
    "\n",
    "# 同样,可以把 B 作为参数传入,因为 B 类实例中,也有 name 和 age 属性,所以不会报错\n",
    "A.say(B)\n",
    "\n",
    "# 以上代码,利用了鸭子模型"
   ]
  },
  {
   "cell_type": "markdown",
   "metadata": {},
   "source": [
    "- 私有\n",
    "    - 私有成员是最高级别的封装,只能在当前类或对象中进行访问\n",
    "    - 在成员前面添加两个下划线就完成了私有"
   ]
  },
  {
   "cell_type": "code",
   "execution_count": 18,
   "metadata": {},
   "outputs": [
    {
     "name": "stdout",
     "output_type": "stream",
     "text": [
      "xiaoxin\n{'__module__': '__main__', 'name': 'xiaoxin', '_Person__age': 24, '__dict__': <attribute '__dict__' of 'Person' objects>, '__weakref__': <attribute '__weakref__' of 'Person' objects>, '__doc__': None}\n24\n"
     ]
    }
   ],
   "source": [
    "class Person():\n",
    "    # name 是共有的成员\n",
    "    name = 'xiaoxin'\n",
    "    # age 就是私有成员,前面加了两个下划线\n",
    "    __age = 24\n",
    "p = Person()\n",
    "print (p.name)\n",
    "\n",
    "# 以下无法打印出 __age,因为是私有属性\n",
    "#print (p.__age)\n",
    "#python 的私有不是真私有,是一种称为name mangling的改名策略,,可以使用对象 .classname_attributename 访问\n",
    "\n",
    "#name mangling 技术\n",
    "print(Person.__dict__)\n",
    "\n",
    "# 类名前 1 个下划线,后面 2 个下划线\n",
    "print (p._Person__age)"
   ]
  },
  {
   "cell_type": "markdown",
   "metadata": {},
   "source": [
    "## 继承"
   ]
  },
  {
   "cell_type": "code",
   "execution_count": 31,
   "metadata": {},
   "outputs": [
    {
     "name": "stdout",
     "output_type": "stream",
     "text": [
      "我在睡觉觉!\n今天考试!\n10086\nxingxiao\nxiaoxinxin\n赚点钱....\n赚点钱....\nNone\n"
     ]
    }
   ],
   "source": [
    "# 继承的语法\n",
    "# 在 python 中,任何一个类都有一个父类叫 object\n",
    "class Person():\n",
    "    name = 'wanxiaoxing'\n",
    "    __age = 24 # 起一个私有的 private 的年龄\n",
    "    gender = 'male'\n",
    "    _petname = 'xiaoxinxin' #起一个保护 protected 的小名\n",
    "    def sleep(self):\n",
    "        print ('我在睡觉觉!')\n",
    "    def work(self):\n",
    "        print ('赚点钱....')\n",
    "# 父类写在括号内\n",
    "class Teacher(Person):\n",
    "    name = 'xingxiao'\n",
    "    teacher_id = '10086'\n",
    "    def make_exam(self):\n",
    "        print ('今天考试!')\n",
    "    def work(self):\n",
    "        # 扩充父类 的功能需要调用父类相应的函数\n",
    "        Person.work(self) # 调用父类的功能\n",
    "        super().work() # ....super 小写 s \n",
    "        pass\n",
    "    \n",
    "t = Teacher()\n",
    "t.sleep()  # 子类没有 sleep 方法,调用父类方法\n",
    "t.make_exam() # 子类有 make_exam 方法,调用子类方法\n",
    "# __age 是私有的,无法访问\n",
    "# t.__age\n",
    "print (t.teacher_id) # 调用子类属性\n",
    "print (t.name) # 属性 name 同名时被重写,打印子类的 name\n",
    "print (t._petname) # 父类 protected 可以访问到\n",
    "print (t.work())\n",
    "\n",
    "\n",
    "# 打印结果为什么会有个 None ??"
   ]
  },
  {
   "cell_type": "code",
   "execution_count": 33,
   "metadata": {},
   "outputs": [
    {
     "name": "stdout",
     "output_type": "stream",
     "text": [
      "这个就是构造函数\n"
     ]
    }
   ],
   "source": [
    "# 构造函数的概念\n",
    "class Dog():\n",
    "    # __init__ 就是构造函数,叫法是固定的,不能更改\n",
    "    # 每次实例化的时候,第一个被调用\n",
    "    # 因为主要是进行初始化,所以叫构造函数\n",
    "    def __init__(self):\n",
    "        print ('这个就是构造函数')\n",
    "        \n",
    "d = Dog() # 调用构造函数,直接打印出了 '这个就是构造函数'"
   ]
  },
  {
   "cell_type": "code",
   "execution_count": 40,
   "metadata": {},
   "outputs": [
    {
     "name": "stdout",
     "output_type": "stream",
     "text": [
      "这个是狗的构造函数,狗子初始化中...\n"
     ]
    }
   ],
   "source": [
    "# 继承中的构造函数 - 1\n",
    "\n",
    "class Animal():\n",
    "    pass\n",
    "\n",
    "class BuRuDongWu():\n",
    "    pass\n",
    "\n",
    "class Dog():\n",
    "    # __init__ 就是构造函数,叫法是固定的,不能更改\n",
    "    # 每次实例化的时候,第一个被调用\n",
    "    # 因为主要是进行初始化,所以叫构造函数\n",
    "    def __init__(self):\n",
    "        print ('这个是狗的构造函数,狗子初始化中...')\n",
    "        \n",
    "# 实例化的时候,括号内参数需要与构造函数一致\n",
    "wangcai = Dog()\n"
   ]
  },
  {
   "cell_type": "code",
   "execution_count": 42,
   "metadata": {},
   "outputs": [
    {
     "name": "stdout",
     "output_type": "stream",
     "text": [
      "这个是狗的构造函数,狗子初始化中...\n这里是哺乳动物的构造函数!!\n"
     ]
    }
   ],
   "source": [
    "# 继承中的构造函数 - 2\n",
    "\n",
    "class Animal():\n",
    "    pass\n",
    "\n",
    "class BuRuDongWu():\n",
    "    def __init__(self):\n",
    "        print ('这里是哺乳动物的构造函数!!')\n",
    "\n",
    "class Dog():\n",
    "    # __init__ 就是构造函数,叫法是固定的,不能更改\n",
    "    # 每次实例化的时候,第一个被调用\n",
    "    # 因为主要是进行初始化,所以叫构造函数\n",
    "    def __init__(self):\n",
    "        print ('这个是狗的构造函数,狗子初始化中...')\n",
    "\n",
    "# 猫没有构造函数,继承了哺乳动物的构造函数      \n",
    "class Cat(BuRuDongWu):\n",
    "    pass\n",
    "        \n",
    "# 实例化的时候,括号内参数需要与构造函数一致\n",
    "wangcai = Dog()\n",
    "c = Cat()\n",
    "\n"
   ]
  },
  {
   "cell_type": "code",
   "execution_count": 47,
   "metadata": {},
   "outputs": [
    {
     "name": "stdout",
     "output_type": "stream",
     "text": [
      "这个是狗的构造函数,狗子初始化中...\n这里是 动物 !!\n"
     ]
    }
   ],
   "source": [
    "# 继承中的构造函数 - 3\n",
    "\n",
    "class Animal():\n",
    "    def __init__(self):\n",
    "        print ('这里是 动物 !!')\n",
    "\n",
    "class BuRuDongWu(Animal):\n",
    "    # 继承父类 Animal\n",
    "    pass\n",
    "\n",
    "class Dog(BuRuDongWu):\n",
    "    # 继承父类 BuRuDongWu\n",
    "    # __init__ 就是构造函数,叫法是固定的,不能更改\n",
    "    # 每次实例化的时候,第一个被调用\n",
    "    # 因为主要是进行初始化,所以叫构造函数\n",
    "    def __init__(self):\n",
    "        print ('这个是狗的构造函数,狗子初始化中...')\n",
    "class Cat(BuRuDongWu):\n",
    "    pass\n",
    "wangcai = Dog()\n",
    "miaomi = Cat()"
   ]
  },
  {
   "cell_type": "code",
   "execution_count": 53,
   "metadata": {},
   "outputs": [
    {
     "name": "stdout",
     "output_type": "stream",
     "text": [
      "<class 'type'>\n"
     ]
    }
   ],
   "source": [
    "# super 不是关键字,而是一个类\n",
    "\n",
    "print (type(super))"
   ]
  },
  {
   "cell_type": "code",
   "execution_count": 61,
   "metadata": {},
   "outputs": [
    {
     "name": "stdout",
     "output_type": "stream",
     "text": [
      "(<class '__main__.A'>, <class 'object'>)\n(<class '__main__.B'>, <class '__main__.A'>, <class 'object'>)\n(<class '__main__.C'>, <class '__main__.B'>, <class '__main__.A'>, <class 'object'>)\n"
     ]
    }
   ],
   "source": [
    "class A():\n",
    "    pass\n",
    "class B(A):\n",
    "    pass\n",
    "# 多个父类 ,不推荐使用\n",
    "class C(B,A):\n",
    "    pass\n",
    "# __mro__ 查询父类\n",
    "print (A.__mro__)\n",
    "print (B.__mro__)\n",
    "print (C.__mro__)"
   ]
  },
  {
   "cell_type": "code",
   "execution_count": 69,
   "metadata": {},
   "outputs": [
    {
     "name": "stdout",
     "output_type": "stream",
     "text": [
      "我是xiaoxin,我在游泳\n我是xiaoxin,我在飞\n我是xiaoxin,我在工作\n"
     ]
    }
   ],
   "source": [
    "# 单继承与多继承示例\n",
    "# 子类可以直接拥有父类的方法和使用,私有属性除外\n",
    "class Fish():\n",
    "    def __init__(self,name):\n",
    "        self.name = name\n",
    "    def swim(self):\n",
    "        print ('我是{0},我在游泳'.format(self.name))\n",
    "        \n",
    "class Bird():\n",
    "    def __init__(self,name):\n",
    "        self.name = name\n",
    "    def fly(self):\n",
    "        print ('我是{0},我在飞'.format(self.name))\n",
    "        \n",
    "class Person():\n",
    "    def __init__(self,name):\n",
    "        self.name = name\n",
    "    def work(self):\n",
    "        print ('我是{0},我在工作'.format(self.name))       \n",
    "\n",
    "class SuperMan(Person,Bird,Fish):\n",
    "    pass\n",
    "\n",
    "s = SuperMan('xiaoxin')\n",
    "s.swim()\n",
    "s.fly()\n",
    "s.work()"
   ]
  },
  {
   "cell_type": "code",
   "execution_count": 76,
   "metadata": {},
   "outputs": [],
   "source": [
    "# 菱形继承/钻石继承问题\n",
    "class A():\n",
    "    pass\n",
    "class B(A):\n",
    "    pass\n",
    "class C(A):\n",
    "    pass\n",
    "# 孙子类只会继承 C 类的父类\n",
    "class D(C,B):\n",
    "    pass"
   ]
  },
  {
   "cell_type": "code",
   "execution_count": 82,
   "metadata": {},
   "outputs": [
    {
     "name": "stdout",
     "output_type": "stream",
     "text": [
      "我的名字是xiaoxin,我的年龄是23,我的性别是male.\n"
     ]
    }
   ],
   "source": [
    "# 构造函数例子\n",
    "class Person():\n",
    "    \n",
    "    def __init__(self,name,age,sex):\n",
    "        self.name = name\n",
    "        self.age = age\n",
    "        self.sex = sex\n",
    "        print ('我的名字是{0},我的年龄是{1},我的性别是{2}.'.format(self.name,self.age,self.sex))\n",
    "\n",
    "p = Person('xiaoxin',23,'male')"
   ]
  },
  {
   "cell_type": "code",
   "execution_count": 98,
   "metadata": {},
   "outputs": [
    {
     "name": "stdout",
     "output_type": "stream",
     "text": [
      "(<class '__main__.Tutor'>, <class '__main__.Teacher'>, <class '__main__.Student'>, <class '__main__.Person'>, <class 'object'>)\n{}\n{'__module__': '__main__', '__doc__': None}\n******************************\n(<class '__main__.TutorMixin'>, <class '__main__.Person'>, <class '__main__.TeacherMixin'>, <class '__main__.StudentMixin'>, <class 'object'>)\n{}\n{'__module__': '__main__', '__doc__': None}\n******************************\n"
     ]
    }
   ],
   "source": [
    "# Mixin 案例\n",
    "class Person():\n",
    "    name = 'wanxiaoxing'\n",
    "    age = 23\n",
    "    \n",
    "    def eat(self):\n",
    "        print ('吃.........')\n",
    "    def drink(self):\n",
    "        print ('喝.........')\n",
    "    def sleep(self):\n",
    "        print ('睡.........')\n",
    "        \n",
    "class Teacher(Person):\n",
    "    def work(self):\n",
    "        print ('工作........')\n",
    "class Student(Person):\n",
    "    def study(self):\n",
    "        print ('学习........')\n",
    "class Tutor(Teacher,Student):\n",
    "    pass\n",
    "\n",
    "t = Tutor()\n",
    "print (Tutor.__mro__)\n",
    "print (t.__dict__)\n",
    "print (Tutor.__dict__)\n",
    "print ('*'*30)\n",
    "\n",
    "# Mixin 不需要父类,不需要构造函数\n",
    "class TeacherMixin():\n",
    "    def work(self):\n",
    "        print ('工作...')\n",
    "class StudentMixin():\n",
    "    def study(self):\n",
    "        print ('学习...')\n",
    "class TutorMixin(Person,TeacherMixin,StudentMixin):\n",
    "    pass\n",
    "tt = TutorMixin()\n",
    "print (TutorMixin.__mro__)\n",
    "print (tt.__dict__)\n",
    "print (TutorMixin.__dict__)\n",
    "print ('*'*30)\n",
    "\n"
   ]
  },
  {
   "cell_type": "code",
   "execution_count": 103,
   "metadata": {},
   "outputs": [
    {
     "name": "stdout",
     "output_type": "stream",
     "text": [
      "True\nTrue\nTrue\n"
     ]
    }
   ],
   "source": [
    "# 类和相关函数\n",
    "class A():\n",
    "    name = 'wan'\n",
    "\n",
    "class B(A):\n",
    "    pass\n",
    "\n",
    "a = A()\n",
    "print (hasattr(A,'name'))\n",
    "print (isinstance(a,A))\n",
    "print (issubclass(B,A))"
   ]
  },
  {
   "cell_type": "code",
   "execution_count": null,
   "metadata": {},
   "outputs": [],
   "source": []
  }
 ],
 "metadata": {},
 "nbformat": 4,
 "nbformat_minor": 2
}
