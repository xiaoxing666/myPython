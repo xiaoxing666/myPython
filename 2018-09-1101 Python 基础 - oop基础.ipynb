{
 "cells": [
  {
   "cell_type": "code",
   "execution_count": 1,
   "metadata": {},
   "outputs": [
    {
     "name": "stdout",
     "output_type": "stream",
     "text": [
      "dana\n"
     ]
    }
   ],
   "source": [
    "class Student():\n",
    "    name = 'dana'\n",
    "    age = 18\n",
    "Student.__dict__\n",
    "\n",
    "# 实例化\n",
    "xiaoxin = Student()\n",
    "xiaoxin.__dict__\n",
    "print(xiaoxin.name)"
   ]
  },
  {
   "cell_type": "code",
   "execution_count": 17,
   "metadata": {},
   "outputs": [
    {
     "name": "stdout",
     "output_type": "stream",
     "text": [
      "dana\n18\n******************************\n2163158622592\n1806232560\n******************************\n{'__module__': '__main__', 'name': 'dana', 'age': 18, 'say': <function A.say at 0x000001F7A64D0C80>, '__dict__': <attribute '__dict__' of 'A' objects>, '__weakref__': <attribute '__weakref__' of 'A' objects>, '__doc__': None}\n******************************\n{}\n{}\n******************************\ndana\n18\n2163158622592\n1806232560\n"
     ]
    }
   ],
   "source": [
    "class A():\n",
    "    name = 'dana'\n",
    "    age = 18\n",
    "    # 定义一个方法,注意有一个参数 self\n",
    "    def say(self):\n",
    "        self.name = 'aaaa'\n",
    "        self.age = 20\n",
    "\n",
    "# 此案例说明\n",
    "# 类实例的属性和其对象的示例的属性在不对对象的实例属性赋值下指向同一个地址\n",
    "\n",
    "# 此时,A 称为类的示例\n",
    "print (A.name)\n",
    "print(A.age)\n",
    "\n",
    "print (\"*\"*30)\n",
    "\n",
    "# id 可以鉴别一个变量是否和另一个变量是同一个变量\n",
    "print (id(A.name)) \n",
    "print (id(A.age))\n",
    "\n",
    "a = A()\n",
    "# 查看 A 内所有的属性\n",
    "print (\"*\"*30)\n",
    "print (A.__dict__)\n",
    "print (\"*\"*30)\n",
    "# 创建对象的时候,类中的成员不会放入对象当中,而是得到一个空的对象,没有成员\n",
    "print (a.__dict__)\n",
    "print (a.__dict__)\n",
    "print (\"*\"*30)\n",
    "print (a.name)\n",
    "print (a.age)\n",
    "print (id(a.name)) \n",
    "print (id(a.age))"
   ]
  },
  {
   "cell_type": "markdown",
   "metadata": {},
   "source": [
    "- 类和对象的成员分析\n",
    "\t- 类和对象都可以存储成员,成员可以归类所有,也可以归对象所有\n",
    "\t- 类存储成员时使用的是与类关联的一个对象\n",
    "\t- 独享存储成员时存储在当前对象中\n",
    "\t- 对象访问一个成员时,如果对象中没有该成员,那么尝试同名的成员\n",
    "\t- 创建对象的时候,类中的成员不会放入对象当中,而是得到一个空的对象,没有成员\n",
    "\t- 通过对象对类中成员重新赋值或者添加成员时,对象成员会保存在对象中"
   ]
  },
  {
   "cell_type": "code",
   "execution_count": 21,
   "metadata": {},
   "outputs": [
    {
     "name": "stdout",
     "output_type": "stream",
     "text": [
      "我的名字是dana,我的年龄是18岁.\n"
     ]
    }
   ],
   "source": [
    "class Student():\n",
    "    name = 'dana'\n",
    "    age = 18\n",
    "    # 定义一个方法,注意有一个参数 self\n",
    "    def say(self):\n",
    "        print ('我的名字是{0},我的年龄是{1}岁.'.format(self.name,self.age))\n",
    "\n",
    "xiaoxin = Student()\n",
    "xiaoxin.say()"
   ]
  },
  {
   "cell_type": "code",
   "execution_count": 34,
   "metadata": {},
   "outputs": [
    {
     "name": "stdout",
     "output_type": "stream",
     "text": [
      "我的名字是xiaoxin,我的年龄是23岁.\nxiaoxin 23\n又见面啦!\n"
     ]
    }
   ],
   "source": [
    "class Teacher():\n",
    "    name = 'xiaoxin'\n",
    "    age = 23\n",
    "\n",
    "    def say(self):\n",
    "        print ('我的名字是{0},我的年龄是{1}岁.'.format(self.name,self.age))\n",
    "    # 方法中有 self 形参的方法称为非绑定类的方法,可以通过对象访问,没有 self 的是绑定类的方法,只能通过类访问\n",
    "    def sayAgain():\n",
    "        print (__class__.name,__class__.age)\n",
    "        print ('又见面啦!')\n",
    "t = Teacher()\n",
    "t.say()\n",
    "# 调用绑定类函数使用类名\n",
    "Teacher.sayAgain()"
   ]
  },
  {
   "cell_type": "code",
   "execution_count": 48,
   "metadata": {},
   "outputs": [
    {
     "name": "stdout",
     "output_type": "stream",
     "text": [
      "aaaaaaaaa\n80\naaaaaaaaa\n80\nxiaoxin\n23\nbbbbbbbbbbb\n18\n"
     ]
    }
   ],
   "source": [
    "# 关于 self 的案例\n",
    "class A():\n",
    "    name = 'xiaoxin'\n",
    "    age = 23\n",
    "    def __init__(self):\n",
    "        self.name = 'aaaaaaaaa'\n",
    "        self.age = 80\n",
    "    \n",
    "    def say(self):\n",
    "        print (self.name)\n",
    "        print (self.age)\n",
    "\n",
    "class B():\n",
    "    name = 'bbbbbbbbbbb'\n",
    "    age = 18\n",
    "    sex = 'male'\n",
    "    \n",
    "a = A()\n",
    "a.say()\n",
    "\n",
    "# 此时,self 被 a 替换\n",
    "A.say(a)\n",
    "\n",
    "# 同样,可以把 A 作为参数传入\n",
    "A.say(A)\n",
    "\n",
    "# 同样,可以把 B 作为参数传入,因为 B 类实例中,也有 name 和 age 属性,所以不会报错\n",
    "A.say(B)\n",
    "\n",
    "# 以上代码,利用了鸭子模型"
   ]
  },
  {
   "cell_type": "markdown",
   "metadata": {},
   "source": [
    "- 私有\n",
    "    - 私有成员是最高级别的封装,只能在当前类或对象中进行访问\n",
    "    - 在成员前面添加两个下划线就完成了私有"
   ]
  },
  {
   "cell_type": "code",
   "execution_count": 55,
   "metadata": {},
   "outputs": [
    {
     "name": "stdout",
     "output_type": "stream",
     "text": [
      "xiaoxin\n{'__module__': '__main__', 'name': 'xiaoxin', '_Person__age': 24, '__dict__': <attribute '__dict__' of 'Person' objects>, '__weakref__': <attribute '__weakref__' of 'Person' objects>, '__doc__': None}\n24\n"
     ]
    }
   ],
   "source": [
    "class Person():\n",
    "    # name 是共有的成员\n",
    "    name = 'xiaoxin'\n",
    "    # age 就是私有成员,前面加了两个下划线\n",
    "    __age = 24\n",
    "p = Person()\n",
    "print (p.name)\n",
    "\n",
    "# 以下无法打印出 __age,因为是私有属性\n",
    "#print (p.__age)\n",
    "#python 的私有不是真私有,是一种称为name mangling的改名策略,,可以使用对象 .classname_attributename 访问\n",
    "\n",
    "#name mangling 技术\n",
    "print(Person.__dict__)\n",
    "\n",
    "# 类名前 1 个下划线,后面 2 个下划线\n",
    "print (p._Person__age)"
   ]
  },
  {
   "cell_type": "code",
   "execution_count": null,
   "metadata": {},
   "outputs": [],
   "source": [
    "# class"
   ]
  }
 ],
 "metadata": {},
 "nbformat": 4,
 "nbformat_minor": 2
}
