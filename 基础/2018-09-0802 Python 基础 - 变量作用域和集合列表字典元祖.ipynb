{
 "cells": [
  {
   "cell_type": "markdown",
   "metadata": {},
   "source": [
    "# 变量作用域\n",
    "- 变量由作用范围限制\n",
    "- 分类：按照作用域分类\n",
    "    - 全局（global）：在函数外部定义\n",
    "    - 局部（local）：在函数内部定义\n",
    "- 变量的作用范围\n",
    "    - 全局变量：在整个全局范围内都有效\n",
    "    - 全局变量在局部可以使用（函数外部定义的可以在函数内使用）\n",
    "    - 局部变量在局部范围内可以使用\n",
    "- LEGB原则\n",
    "    - L （local） 局部作用域\n",
    "    - E （Enclosing function locale）外部潜逃函数作用域\n",
    "    - G （Global module）函数定义所在模块作用于\n",
    "    - B （Buildin）python 内置模块的作用域"
   ]
  },
  {
   "cell_type": "code",
   "execution_count": 2,
   "metadata": {},
   "outputs": [
    {
     "name": "stdout",
     "output_type": "stream",
     "text": [
      "100\n",
      "100\n",
      "i am fun\n",
      "99\n"
     ]
    }
   ],
   "source": [
    "a1 = 100\n",
    "def fun():\n",
    "    print(a1)\n",
    "    print('i am fun')\n",
    "    \n",
    "    a2 = 99\n",
    "    print (a2)\n",
    "\n",
    "print (a1)\n",
    "fun ()\n",
    "# print (a2) 无法调用 a2 "
   ]
  },
  {
   "cell_type": "markdown",
   "metadata": {},
   "source": [
    "## 提升局部变量为全局变量\n",
    "- 使用 global\n",
    "- 示例如下"
   ]
  },
  {
   "cell_type": "code",
   "execution_count": 28,
   "metadata": {},
   "outputs": [
    {
     "name": "stdout",
     "output_type": "stream",
     "text": [
      "99\n",
      "99\n"
     ]
    }
   ],
   "source": [
    "def fun2():\n",
    "    global b1\n",
    "    b1 = 99\n",
    "    print (b1)\n",
    "\n",
    "fun2()\n",
    "print (b1)"
   ]
  },
  {
   "cell_type": "markdown",
   "metadata": {},
   "source": [
    "# globals,locals 函数\n",
    "- 可以通过 globals 和locals 显示出局部变量和全局变量\n",
    "- 示例如下"
   ]
  },
  {
   "cell_type": "code",
   "execution_count": 18,
   "metadata": {},
   "outputs": [],
   "source": [
    "# globals 和 locals\n",
    "a = 1\n",
    "b = 2\n",
    "def fun(c,d):\n",
    "    e = 111\n",
    "    print(\"Locals={0}\".format(locals()))\n",
    "    print(\"Globals={0}\".format(globals()))\n",
    "    \n",
    "# fun(2,3)"
   ]
  },
  {
   "cell_type": "markdown",
   "metadata": {},
   "source": [
    "# eval() 函数\n",
    "- 把一个字符串当成一个表达式来执行，返回表达式执行后的结果\n",
    "- 语法：\n",
    "            \n",
    "            eval(string_code,globals=None,locals-None)\n",
    "            \n",
    "# exec 函数\n",
    "- 直接执行字符串\n",
    "- 语法：\n",
    "            \n",
    "            eval(string_code,globals=None,locals-None)"
   ]
  },
  {
   "cell_type": "code",
   "execution_count": 21,
   "metadata": {},
   "outputs": [
    {
     "name": "stdout",
     "output_type": "stream",
     "text": [
      "300\n",
      "300\n"
     ]
    }
   ],
   "source": [
    "x = 100\n",
    "y = 200\n",
    "\n",
    "z = eval(\"x+y\")\n",
    "print(z)\n",
    "z2 =exec(\"print(x+y)\")"
   ]
  },
  {
   "cell_type": "markdown",
   "metadata": {},
   "source": [
    "# 递归函数\n",
    "- 含税直接或者间接调用自身\n",
    "- 优点：间接，理解容易\n",
    "- 缺点：对递归深度有限制，消耗资源大\n",
    "- Python 对递归深度有限制，超过限制报错\n",
    "- 在写递归程序的时候，一定注意结束条件"
   ]
  },
  {
   "cell_type": "code",
   "execution_count": 27,
   "metadata": {},
   "outputs": [
    {
     "name": "stdout",
     "output_type": "stream",
     "text": [
      "1\n",
      "2\n",
      "3\n",
      "4\n"
     ]
    }
   ],
   "source": [
    "# 递归调用深度代码\n",
    "\n",
    "x = 0\n",
    "def fun_dg():\n",
    "    # global 一下 x\n",
    "    global x\n",
    "    x += 1\n",
    "    print (x)\n",
    "    if x < 4:\n",
    "        # 函数调用自己\n",
    "        fun_dg()\n",
    "fun_dg()"
   ]
  },
  {
   "cell_type": "code",
   "execution_count": 74,
   "metadata": {},
   "outputs": [
    {
     "data": {
      "text/plain": [
       "False"
      ]
     },
     "execution_count": 74,
     "metadata": {},
     "output_type": "execute_result"
    }
   ],
   "source": [
    "# 递归 斐波那契数列 打印\n",
    "\n",
    "# 下面的函数有一定问题，如果 n 一开始就是负数，如何修正\n",
    "def fibo(n):\n",
    "    if n <= 0:\n",
    "        return False\n",
    "    if n == 1:\n",
    "        return 1\n",
    "    if n == 2:\n",
    "        return 1\n",
    "    else:\n",
    "        # 思考，为什么后面能正常执行\n",
    "        return fibo(n-1) + fibo(n-2)\n",
    "    \n",
    "fibo(-1)"
   ]
  },
  {
   "cell_type": "markdown",
   "metadata": {},
   "source": [
    "# 内置数据结构（变量类型）\n",
    "- list\n",
    "- set\n",
    "- dict\n",
    "- tuple\n",
    "## list (列表)\n",
    "- 一组有顺序的数据的组合\n",
    "- 创建列表\n",
    "    - 空列表"
   ]
  },
  {
   "cell_type": "code",
   "execution_count": 81,
   "metadata": {},
   "outputs": [
    {
     "name": "stdout",
     "output_type": "stream",
     "text": [
      "<class 'list'>\n",
      "100\n",
      "[100]\n",
      "3\n",
      "5\n",
      "7\n",
      "2\n",
      "7\n",
      "9\n",
      "2\n",
      "5\n",
      "2\n",
      "5\n",
      "1\n"
     ]
    }
   ],
   "source": [
    "# 1.创建空列表\n",
    "li = []\n",
    "# type 是内置函数，负责打印出变量的类型\n",
    "print(type(li))\n",
    "\n",
    "# 2.创建带1个值的列表\n",
    "li2 = [100]\n",
    "print(li2[0])\n",
    "print(li2)\n",
    "\n",
    "# 3.创建列表带多个值\n",
    "li3 = [3,5,7,2,7,9,2,5,2,5,1]\n",
    "for i in range(len(li3)):\n",
    "    print (li3[i])"
   ]
  },
  {
   "cell_type": "markdown",
   "metadata": {},
   "source": [
    "## 列表常用操作\n",
    "- 访问\n",
    "    - 使用下表操作（索引）\n",
    "    - 列表的位置是从0开始\n",
    "- 分片操作\n",
    "    - 对列表进行任意一段的截取\n",
    "    - [a:b]  从a下标（含）到 b下标（不含）的列表值\n",
    "    - [a:b:c] c表示间隔几位输出\n",
    "    - 分片可以超出范围，超出后不考虑多余下标内容\n",
    "    - 分片可以为负数，表示倒数第几个数字，最后一个数字下标为-1"
   ]
  },
  {
   "cell_type": "code",
   "execution_count": 85,
   "metadata": {},
   "outputs": [
    {
     "name": "stdout",
     "output_type": "stream",
     "text": [
      "3\n",
      "5\n",
      "7\n",
      "2\n",
      "9\n",
      "1\n"
     ]
    }
   ],
   "source": [
    "# 下标访问列表\n",
    "li4 = [3,5,7,2,9,1]\n",
    "for i in range(0,len(li4)):\n",
    "    print (li4[i])"
   ]
  },
  {
   "cell_type": "code",
   "execution_count": 87,
   "metadata": {},
   "outputs": [
    {
     "name": "stdout",
     "output_type": "stream",
     "text": [
      "[3, 5, 7]\n",
      "[3, 7, 9]\n"
     ]
    }
   ],
   "source": [
    "# 分片访问\n",
    "li4 = [3,5,7,2,9,1]\n",
    "print (li4[0:3])\n",
    "print (li4[0:5:2])"
   ]
  },
  {
   "cell_type": "markdown",
   "metadata": {},
   "source": [
    "## 分片操作是生成的新的list，\n",
    "- 内置函数id，负责显示一个变量或者数据的唯一确定编号"
   ]
  },
  {
   "cell_type": "code",
   "execution_count": 92,
   "metadata": {},
   "outputs": [
    {
     "name": "stdout",
     "output_type": "stream",
     "text": [
      "2202454884592\n",
      "1354433200\n",
      "2202454884592\n"
     ]
    }
   ],
   "source": [
    "# id 函数举例\n",
    "\n",
    "a = \"wanxiaoxing\"\n",
    "b = 200\n",
    "print(id(a))\n",
    "print(id(b))\n",
    "c = \"wanxiaoxing\"\n",
    "print(id(c))"
   ]
  },
  {
   "cell_type": "code",
   "execution_count": null,
   "metadata": {
    "collapsed": true
   },
   "outputs": [],
   "source": []
  }
 ],
 "metadata": {
  "kernelspec": {
   "display_name": "Python 3",
   "language": "python",
   "name": "python3"
  },
  "language_info": {
   "codemirror_mode": {
    "name": "ipython",
    "version": 3
   },
   "file_extension": ".py",
   "mimetype": "text/x-python",
   "name": "python",
   "nbconvert_exporter": "python",
   "pygments_lexer": "ipython3",
   "version": "3.6.1"
  },
  "widgets": {
   "application/vnd.jupyter.widget-state+json": {
    "state": {},
    "version_major": 1,
    "version_minor": 0
   }
  }
 },
 "nbformat": 4,
 "nbformat_minor": 2
}
