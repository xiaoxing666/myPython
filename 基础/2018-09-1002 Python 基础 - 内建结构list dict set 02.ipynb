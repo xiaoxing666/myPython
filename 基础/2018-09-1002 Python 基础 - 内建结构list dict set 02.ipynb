{
 "cells": [
  {
   "cell_type": "code",
   "execution_count": 2,
   "metadata": {},
   "outputs": [
    {
     "name": "stdout",
     "output_type": "stream",
     "text": [
      "[1, 2, 3, 4, 5]\n",
      "[1, 2, 300, 4, 5]\n",
      "[1, 2, 300, 4, 5]\n",
      "9\n",
      "109\n",
      "9\n"
     ]
    }
   ],
   "source": [
    "def a(n):\n",
    "    n[2] = 300\n",
    "    print (n)\n",
    "    return None\n",
    "def b(n):\n",
    "    n += 100\n",
    "    print(n)\n",
    "    return None\n",
    "\n",
    "an = [1,2,3,4,5]\n",
    "bn = 9\n",
    "print (an)\n",
    "a(an)\n",
    "print(an)\n",
    "\n",
    "print (bn)\n",
    "b(bn)\n",
    "print (bn)\n",
    "\n",
    "# 由输出结果得知,list 是传址,普通变量是传值"
   ]
  },
  {
   "cell_type": "markdown",
   "metadata": {},
   "source": [
    "# 关于列表的函数"
   ]
  },
  {
   "cell_type": "code",
   "execution_count": 3,
   "metadata": {},
   "outputs": [
    {
     "name": "stdout",
     "output_type": "stream",
     "text": [
      "['a', 'i love wanxiaoxing', 54, 45.33, (5+9j)]\n"
     ]
    }
   ],
   "source": [
    "li = ['a','i love wanxiaoxing',54,45.33,5+9j]\n",
    "print (li)"
   ]
  },
  {
   "cell_type": "code",
   "execution_count": 18,
   "metadata": {},
   "outputs": [
    {
     "name": "stdout",
     "output_type": "stream",
     "text": [
      "[1, 2, 3, 4, 5, 6, 7, 8, 9]\n",
      "[1, 2, 3, 4, 5, 6, 7, 8, 9, 100]\n"
     ]
    }
   ],
   "source": [
    "# append 插入一个内容\n",
    "a = [i for i in range(1,10)]\n",
    "print (a)\n",
    "a.append(100)\n",
    "print (a)"
   ]
  },
  {
   "cell_type": "code",
   "execution_count": 19,
   "metadata": {},
   "outputs": [
    {
     "name": "stdout",
     "output_type": "stream",
     "text": [
      "[1, 2, 3, 4, 5, 6, 7, 8, 9, 100]\n",
      "[1, 2, 3, 666, 4, 5, 6, 7, 8, 9, 100]\n"
     ]
    }
   ],
   "source": [
    "# insert 指定位置插入\n",
    "print (a)\n",
    "# 在列表 a 中,数字 4 后面插入一个 666\n",
    "a.insert(3,666)\n",
    "print (a)"
   ]
  },
  {
   "cell_type": "code",
   "execution_count": 20,
   "metadata": {},
   "outputs": [
    {
     "name": "stdout",
     "output_type": "stream",
     "text": [
      "[1, 2, 3, 666, 4, 5, 6, 7, 8, 9, 100]\n",
      "100\n",
      "[1, 2, 3, 666, 4, 5, 6, 7, 8, 9]\n"
     ]
    }
   ],
   "source": [
    "# 删除 \n",
    "# del 删除\n",
    "# pop ,从最后位拿出一个元素,即把最后一个元素取出来\n",
    "\n",
    "print (a)\n",
    "last_ele = a.pop()\n",
    "print (last_ele)\n",
    "print (a)"
   ]
  },
  {
   "cell_type": "code",
   "execution_count": 23,
   "metadata": {},
   "outputs": [
    {
     "name": "stdout",
     "output_type": "stream",
     "text": [
      "[1, 2, 3, 4, 5, 6, 7, 8, 9]\n",
      "2593794648776\n",
      "[1, 2, 3, 4, 5, 6, 7, 8, 9]\n",
      "2593794648776\n"
     ]
    }
   ],
   "source": [
    "# remove :在列表中删除指定的值的元素\n",
    "print (a)\n",
    "print (id(a))\n",
    "# 没有的值删除会报错,可以用 in 先进行判断\n",
    "if 666 in a:\n",
    "    a.remove(666)\n",
    "print (a)\n",
    "print (id(a))"
   ]
  },
  {
   "cell_type": "code",
   "execution_count": 26,
   "metadata": {},
   "outputs": [
    {
     "name": "stdout",
     "output_type": "stream",
     "text": [
      "[]\n",
      "2593794648776\n",
      "[]\n",
      "2593794648776\n",
      "2593795877448\n"
     ]
    }
   ],
   "source": [
    "# clear :清空\n",
    "print (a)\n",
    "print (id(a))\n",
    "a.clear()\n",
    "print (a)\n",
    "print (id(a))\n",
    "\n",
    "# 如果不需要列表地址保持不变,则清空列表可以试用一下方式\n",
    "# a = list() 这样相当于重新赋值,地址会变\n",
    "a = list()\n",
    "print (id(a))"
   ]
  },
  {
   "cell_type": "code",
   "execution_count": 29,
   "metadata": {},
   "outputs": [
    {
     "name": "stdout",
     "output_type": "stream",
     "text": [
      "[1, 2, 3, 4, 5]\n",
      "2593795705928\n",
      "[5, 4, 3, 2, 1]\n",
      "2593795705928\n"
     ]
    }
   ],
   "source": [
    "# reverse :翻转\n",
    "\n",
    "a = [1,2,3,4,5]\n",
    "print(a)\n",
    "print(id(a))\n",
    "\n",
    "a.reverse()\n",
    "\n",
    "print(a)\n",
    "print(id(a))"
   ]
  },
  {
   "cell_type": "code",
   "execution_count": 31,
   "metadata": {},
   "outputs": [
    {
     "name": "stdout",
     "output_type": "stream",
     "text": [
      "[1, 2, 3, 4]\n",
      "2593776965320\n",
      "[1, 2, 3, 4, 6, 7, 8, 9]\n",
      "2593776965320\n"
     ]
    }
   ],
   "source": [
    "# extend :扩展列表,两个列表,把一个直接拼接到后一个上\n",
    "a = [1,2,3,4]\n",
    "b = [6,7,8,9]\n",
    "print (a)\n",
    "print (id(a))\n",
    "\n",
    "a.extend(b)\n",
    "\n",
    "print(a)\n",
    "print (id(a))"
   ]
  },
  {
   "cell_type": "code",
   "execution_count": 44,
   "metadata": {},
   "outputs": [
    {
     "name": "stdout",
     "output_type": "stream",
     "text": [
      "[1, 9, 9, 9, 2, 3, 4, 6, 7, 8, 9, 8, 8, 8, 8]\n",
      "[1, 9, 9, 9, 9, 2, 3, 4, 6, 7, 8, 9, 8, 8, 8, 8, 8]\n",
      "6\n"
     ]
    }
   ],
   "source": [
    "# count :查找列表中指定值或元素的个数\n",
    "\n",
    "print (a)\n",
    "a.append(8)\n",
    "a.insert(1,9)\n",
    "print (a)\n",
    "print(a.count(8))\n"
   ]
  },
  {
   "cell_type": "code",
   "execution_count": 55,
   "metadata": {},
   "outputs": [
    {
     "name": "stdout",
     "output_type": "stream",
     "text": [
      "[1, 2, 3, 4, 5, 6, 7, 8, 9]\n",
      "[1, 2, 3, 777, 5, 6, 7, 8, 9]\n",
      "[1, 2, 3, 777, 5, 6, 7, 8, 9]\n",
      "2593795959560\n",
      "2593795959560\n",
      "2593796052424\n",
      "2593795703880\n",
      "2593795959560\n",
      "2593795959560\n",
      "2593795959560\n",
      "2593795959560\n"
     ]
    }
   ],
   "source": [
    "# copy :拷贝,浅拷贝\n",
    "# 列表类型变量赋值示例 直接赋值:\n",
    "a = [1,2,3,4,5,6,7,8,9]\n",
    "print (a)\n",
    "b = a\n",
    "b[3] = 777\n",
    "print (a)\n",
    "print (b)\n",
    "# list 传址操作,所以都会一起改变"
   ]
  },
  {
   "cell_type": "code",
   "execution_count": 59,
   "metadata": {},
   "outputs": [
    {
     "name": "stdout",
     "output_type": "stream",
     "text": [
      "2593796016008\n",
      "2593795704136\n",
      "2593796016008\n",
      "2593795704136\n"
     ]
    }
   ],
   "source": [
    "# 为了解决这个问题,copy 出现啦!\n",
    "a2 = [4,5,7,6,8,0]\n",
    "b2 = a2.copy()\n",
    "print (id(a2))\n",
    "print (id(b2))\n",
    "\n",
    "b2[3] = 777\n",
    "\n",
    "print (id(a2))\n",
    "print (id(b2))\n",
    "# a2 ,b2 地址不一样"
   ]
  },
  {
   "cell_type": "code",
   "execution_count": 60,
   "metadata": {},
   "outputs": [
    {
     "name": "stdout",
     "output_type": "stream",
     "text": [
      "2593794087688\n",
      "2593794088008\n",
      "2593794087688\n",
      "2593794088008\n"
     ]
    }
   ],
   "source": [
    "# 也可以用 b2 = a2[::]\n",
    "\n",
    "a3 = [12,23,45,65,87]\n",
    "b3 = a3[::]\n",
    "print (id(a3))\n",
    "print (id(b3))\n",
    "\n",
    "b3[3] = 777\n",
    "\n",
    "print (id(a3))\n",
    "print (id(b3))\n",
    "# a3 ,b3 地址不一样"
   ]
  },
  {
   "cell_type": "code",
   "execution_count": 69,
   "metadata": {},
   "outputs": [
    {
     "name": "stdout",
     "output_type": "stream",
     "text": [
      "2593796017032\n",
      "2593796052488\n",
      "[10, 20, 30, [11, 22, 33]]\n",
      "[10, 20, 30, [11, 22, 33]]\n",
      "2593796015816\n",
      "2593796015816\n"
     ]
    }
   ],
   "source": [
    "# 深拷贝和浅拷贝的区别\n",
    "# 出现下列问题的原因是,copy 函数是个浅拷贝函数,即只拷贝一层内容\n",
    "# 深拷贝需要使用特定工具\n",
    "a4 = [10,20,30,[11,22,33]]\n",
    "b4 = a4.copy()\n",
    "print(id(a4))\n",
    "print(id(b4))\n",
    "\n",
    "# copy 函数拷贝,所以 id 会不一样\n",
    "print (a4)\n",
    "print (b4)\n",
    "\n",
    "# 但是,第二层的[11,22,33],也就是 a4[3]没有 copy,直接用的地址\n",
    "\n",
    "print (id(a4[3]))\n",
    "print (id(a4[3]))"
   ]
  },
  {
   "cell_type": "markdown",
   "metadata": {},
   "source": [
    "# 元祖-tuple\n",
    "- 元祖可以看成是一个不可更改的 list\n",
    "## 元祖创建"
   ]
  },
  {
   "cell_type": "code",
   "execution_count": 75,
   "metadata": {},
   "outputs": [
    {
     "name": "stdout",
     "output_type": "stream",
     "text": [
      "<class 'tuple'>\n",
      "<class 'tuple'>\n",
      "<class 'tuple'>\n",
      "<class 'tuple'>\n",
      "(1, 2, 3, 4)\n",
      "<class 'tuple'>\n",
      "(2, 3, 4, 5)\n"
     ]
    }
   ],
   "source": [
    "# 创建元祖\n",
    "t1 = ()\n",
    "print (type(t1))\n",
    "\n",
    "# 创建一个只有一个值的元祖,需要加一个逗号\n",
    "# 不加逗号的话,从数学角度看,就只是个 1\n",
    "t2 = (1,)\n",
    "print (type(t2))\n",
    "\n",
    "t3 = 1,\n",
    "print (type(t3))\n",
    "\n",
    "# 创建多个值的元祖\n",
    "t4 = (1,2,3,4)\n",
    "t5 = 2,3,4,5\n",
    "print (type(t4))\n",
    "print (t4)\n",
    "\n",
    "print (type(t5))\n",
    "print (t5)"
   ]
  },
  {
   "cell_type": "markdown",
   "metadata": {},
   "source": [
    "## 元祖的特性\n",
    "- 是序列表,有序\n",
    "- 元祖数据组可以访问,不能修改,不能修改,不能修改\n",
    "- 元祖数据可以是任意类型\n",
    "- 总之,list 所有特性,除了可修改外,元祖都具有\n",
    "- 也就意味着,list 具有的一些操作,比如索引,分片,序列相加,想成,成员资格操作等,一模一样"
   ]
  },
  {
   "cell_type": "code",
   "execution_count": 82,
   "metadata": {},
   "outputs": [
    {
     "name": "stdout",
     "output_type": "stream",
     "text": [
      "2593794985656\n",
      "2593794985656\n",
      "(1, 2, 3, 4, 5)\n"
     ]
    }
   ],
   "source": [
    "# 索引操作\n",
    "t = (1,2,3,4,5)\n",
    "t2 = t\n",
    "print (id(t))\n",
    "print (id(t2))\n",
    "\n",
    "# 切片可以超标\n",
    "t3 = t[0:100000]\n",
    "print (t3)"
   ]
  },
  {
   "cell_type": "code",
   "execution_count": 83,
   "metadata": {},
   "outputs": [
    {
     "name": "stdout",
     "output_type": "stream",
     "text": [
      "(1, 2, 3, 5, 6, 7)\n"
     ]
    }
   ],
   "source": [
    "# 序列相加\n",
    "t1 = 1,2,3\n",
    "t2 = 5,6,7\n",
    "t3 = t1 + t2\n",
    "print (t3)"
   ]
  },
  {
   "cell_type": "code",
   "execution_count": 84,
   "metadata": {},
   "outputs": [
    {
     "name": "stdout",
     "output_type": "stream",
     "text": [
      "(1, 2, 3, 1, 2, 3, 1, 2, 3)\n"
     ]
    }
   ],
   "source": [
    "# 元祖相乘\n",
    "t1 = 1,2,3\n",
    "t1 *= 3\n",
    "print (t1)"
   ]
  },
  {
   "cell_type": "code",
   "execution_count": 85,
   "metadata": {},
   "outputs": [
    {
     "name": "stdout",
     "output_type": "stream",
     "text": [
      "yes!\n"
     ]
    }
   ],
   "source": [
    "# 成员检测\n",
    "t = 1,2,3\n",
    "if 2 in t:\n",
    "    print ('yes!')"
   ]
  },
  {
   "cell_type": "code",
   "execution_count": 87,
   "metadata": {},
   "outputs": [
    {
     "name": "stdout",
     "output_type": "stream",
     "text": [
      "1 2 3 wanxiaoxing i love "
     ]
    }
   ],
   "source": [
    "# 元祖遍历,一般用 for\n",
    "# 1.单层元祖遍历\n",
    "t = 1,2,3,'wanxiaoxing','i','love'\n",
    "for i in t:\n",
    "    print (i,end=' ')"
   ]
  },
  {
   "cell_type": "code",
   "execution_count": 91,
   "metadata": {},
   "outputs": [
    {
     "name": "stdout",
     "output_type": "stream",
     "text": [
      "1\n",
      "3\n",
      "4\n",
      "6\n",
      "7\n",
      "9\n",
      "2\n",
      "5\n",
      "8\n"
     ]
    }
   ],
   "source": [
    "# 2.双层元祖的遍历\n",
    "t = (1,3,4),(6,7,9),(2,5,8)\n",
    "\n",
    "for i in t:\n",
    "    for j in i:\n",
    "        print (j)"
   ]
  },
  {
   "cell_type": "code",
   "execution_count": null,
   "metadata": {
    "collapsed": true
   },
   "outputs": [],
   "source": []
  }
 ],
 "metadata": {
  "kernelspec": {
   "display_name": "Python 3",
   "language": "python",
   "name": "python3"
  },
  "language_info": {
   "codemirror_mode": {
    "name": "ipython",
    "version": 3
   },
   "file_extension": ".py",
   "mimetype": "text/x-python",
   "name": "python",
   "nbconvert_exporter": "python",
   "pygments_lexer": "ipython3",
   "version": "3.6.1"
  }
 },
 "nbformat": 4,
 "nbformat_minor": 2
}
