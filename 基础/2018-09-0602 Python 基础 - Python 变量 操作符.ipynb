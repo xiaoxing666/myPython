{
 "cells": [
  {
   "cell_type": "markdown",
   "metadata": {},
   "source": [
    "# 字符串\n",
    "- 转义字符\n",
    "- 格式化\n",
    "- 内建函数（后延）\n",
    "\n",
    "## 转义字符\n",
    "- 用一个特殊的方法表示出一系列不方便写出的内容，比如回车键/换行键/退格键\n",
    "- 借助反斜杠字符，一旦字符串中出现反斜杠，反斜杠后面一个或几个字符表示已经不是原来的意思，进行了转义\n",
    "- 不同系统对操作符有不同的表示\n",
    "    - Windows : \\n\n",
    "    - Linux : \\r\\n"
   ]
  },
  {
   "cell_type": "code",
   "execution_count": 3,
   "metadata": {},
   "outputs": [
    {
     "name": "stdout",
     "output_type": "stream",
     "text": [
      "i love wanxiaoxing\n"
     ]
    }
   ],
   "source": [
    "s = 'i love wanxiaoxing'\n",
    "print (s)"
   ]
  },
  {
   "cell_type": "code",
   "execution_count": 17,
   "metadata": {},
   "outputs": [
    {
     "name": "stdout",
     "output_type": "stream",
     "text": [
      "Let's go\n",
      "Let's go\n",
      "c:\r\n",
      " windows\n"
     ]
    }
   ],
   "source": [
    "# 如果祥表示出Let's go 出来\n",
    "# 1.可以使用嵌套引号，即外层使用双引号\n",
    "# 2.转移字符\n",
    "s = \"Let's go\"\n",
    "print (s)\n",
    "s = 'Let\\'s go'\n",
    "print (s)\n",
    "\n",
    "sss = 'c:\\r\\n windows'\n",
    "print (sss)\n",
    "# 回车换行符 \\r\\n \n",
    "# 退格 \\b\n",
    "# 制表符 \\t\n",
    "# \\r"
   ]
  },
  {
   "cell_type": "markdown",
   "metadata": {},
   "source": [
    "## 字符串的格式化\n",
    "- 把字符串按照一定格式打印或者填充\n",
    "- 格式化的两种方法\n",
    "    - 利用百分号（%）\n",
    "    - 利用format()函数"
   ]
  },
  {
   "cell_type": "code",
   "execution_count": 18,
   "metadata": {
    "collapsed": true
   },
   "outputs": [],
   "source": [
    "s = \"xxx你好，小葵花妈妈课堂开课啦，不学白不学，学了也白学！\""
   ]
  },
  {
   "cell_type": "markdown",
   "metadata": {},
   "source": [
    "### 利用百分号格式化\n",
    "- 在字符串中，利用%表示一个特殊的含义，表示对字符进行格式化\n",
    "- %d：此处应该放一个整数\n",
    "- $s：表示此处应该放入一个字符串"
   ]
  },
  {
   "cell_type": "code",
   "execution_count": 20,
   "metadata": {},
   "outputs": [
    {
     "name": "stdout",
     "output_type": "stream",
     "text": [
      "I love %s \n"
     ]
    }
   ],
   "source": [
    "s = 'I love %s '\n",
    "# 下面打印，直接用%s作为字符串的一个内容打印出来\n",
    "print(s)"
   ]
  },
  {
   "cell_type": "code",
   "execution_count": 22,
   "metadata": {},
   "outputs": [
    {
     "name": "stdout",
     "output_type": "stream",
     "text": [
      "I love wanxiaoxing\n"
     ]
    }
   ],
   "source": [
    "print ('I love %s'%'wanxiaoxing')"
   ]
  },
  {
   "cell_type": "code",
   "execution_count": 23,
   "metadata": {},
   "outputs": [
    {
     "name": "stdout",
     "output_type": "stream",
     "text": [
      "I love wanxiaoxing \n"
     ]
    }
   ],
   "source": [
    "print(s%'wanxiaoxing')"
   ]
  },
  {
   "cell_type": "code",
   "execution_count": 25,
   "metadata": {},
   "outputs": [
    {
     "name": "stdout",
     "output_type": "stream",
     "text": [
      "i am %d years old\n",
      "i am 18 years old\n"
     ]
    }
   ],
   "source": [
    "s = 'i am %d years old'\n",
    "print (s)\n",
    "print(s%18)"
   ]
  },
  {
   "cell_type": "code",
   "execution_count": 33,
   "metadata": {},
   "outputs": [
    {
     "name": "stdout",
     "output_type": "stream",
     "text": [
      "i am $s,i am %d years old\n",
      "i am wanxiaoxing,i am 25 years old\n"
     ]
    }
   ],
   "source": [
    "str = 'i am %s,i am %d years old'\n",
    "print(s)\n",
    "# 注意一下表达的出错原因\n",
    "# 如果字符串中有占位符，则有几个占位符必须使用几个实际内容替代，或者全部不替代\n",
    "print(str%('wanxiaoxing',25))"
   ]
  },
  {
   "cell_type": "markdown",
   "metadata": {},
   "source": [
    "### format()函数格式化字符串\n",
    "- 直接用format()函数进行格式化\n",
    "- 推荐使用这种方法\n",
    "- 在使用上，以{}和:代替%号，后面用format带参数完成"
   ]
  },
  {
   "cell_type": "code",
   "execution_count": 37,
   "metadata": {},
   "outputs": [
    {
     "name": "stdout",
     "output_type": "stream",
     "text": [
      "i love wanxiaoxing\n",
      "Yes ,i am 25 years old, i love wanxiaoxing and i am 25 years old\n"
     ]
    }
   ],
   "source": [
    "str = 'i love {}'.format('wanxiaoxing')\n",
    "print (str)\n",
    "\n",
    "# 从{0}开始替代 0 1 2……\n",
    "str = 'Yes ,i am {1} years old, i love {0} and i am {1} years old'.format(\"wanxiaoxing\",25)\n",
    "print (str)"
   ]
  },
  {
   "cell_type": "markdown",
   "metadata": {},
   "source": [
    "## None\n",
    "- 表示什么都没有\n",
    "- 任何一个函数没有返回值，可以返回 None\n",
    "- 用来占位置\n",
    "- 用来解除变量绑定"
   ]
  },
  {
   "cell_type": "markdown",
   "metadata": {},
   "source": [
    "# 表达式\n",
    "- 由一个或者几个数字或者变量和运算符合成的一行代码\n",
    "- 通常会返回一个结果\n",
    "# 运算符\n",
    "- 由一个以上的值经过变化得到新值得过程就叫运算\n",
    "- 用于运算的符号叫运算符\n",
    "- 运算符分类：\n",
    "    - 算数运算符\n",
    "    - 比较或者关系运算符\n",
    "    - 赋值运算符\n",
    "    - 逻辑运算符\n",
    "    - 位运算\n",
    "    - 成员运算符\n",
    "    - 身份运算符"
   ]
  },
  {
   "cell_type": "markdown",
   "metadata": {},
   "source": [
    "## 算数运算符\n",
    "- 进行算数运算的符号\n",
    "- python 没有自增自减运算符"
   ]
  },
  {
   "cell_type": "code",
   "execution_count": 43,
   "metadata": {},
   "outputs": [
    {
     "name": "stdout",
     "output_type": "stream",
     "text": [
      "355\n",
      "42\n",
      "2.25\n",
      "1\n",
      "2\n",
      "9\n"
     ]
    }
   ],
   "source": [
    "# + - 跟正常运算符一样\n",
    "a = 321+34\n",
    "print (a)\n",
    "\n",
    "# 乘号用{*}星号代替\n",
    "a = 21*2\n",
    "print(a)\n",
    "\n",
    "# 除号用{/}斜杠代替\n",
    "# python2.x和python3.x中，除号(/)结果可能不一致，此处以3.x系列为准\n",
    "a = 9/4 \n",
    "print(a)\n",
    "\n",
    "# % 取余运算\n",
    "a = 9%4\n",
    "print(a)\n",
    "\n",
    "# //表示取商运算，也叫地板除\n",
    "a = 9//4\n",
    "print(a)\n",
    "\n",
    "# ** 表示幂运算\n",
    "a = 3**2\n",
    "print (a)"
   ]
  },
  {
   "cell_type": "markdown",
   "metadata": {},
   "source": [
    "## 比较运算符\n",
    "- 对两个变量或者值进行比较的运算符\n",
    "- 比较的结果是布尔值，即True/False"
   ]
  },
  {
   "cell_type": "code",
   "execution_count": 48,
   "metadata": {},
   "outputs": [
    {
     "name": "stdout",
     "output_type": "stream",
     "text": [
      "81\n",
      "False\n"
     ]
    }
   ],
   "source": [
    "# == 等于号\n",
    "\n",
    "a = 3 ** 4\n",
    "#执行顺序是：从右到左，先比较a==81，再把结果赋值给b\n",
    "b = a == 80\n",
    "print (a)\n",
    "print (b)\n",
    "\n",
    "# != 不等于号\n",
    "# > 大于号\n",
    "# < 小于号\n",
    "# >= 大于等于\n",
    "# <= 小于等于"
   ]
  },
  {
   "cell_type": "markdown",
   "metadata": {},
   "source": [
    "## 赋值运算符"
   ]
  },
  {
   "cell_type": "code",
   "execution_count": 51,
   "metadata": {},
   "outputs": [
    {
     "name": "stdout",
     "output_type": "stream",
     "text": [
      "7\n"
     ]
    }
   ],
   "source": [
    "# = 赋值\n",
    "a = 1\n",
    "b = c = a = 8\n",
    "\n",
    "# += \n",
    "a = 0\n",
    "a += 7  # a = a + 7 的缩写\n",
    "\n",
    "# 所有数学运算符都有缩写形式\n",
    "# -+ += *= /= //= **=\n",
    "print(a)"
   ]
  },
  {
   "cell_type": "markdown",
   "metadata": {},
   "source": [
    "## 逻辑运算符\n",
    "- 对布尔值进行计算的符号\n",
    "- and  逻辑与\n",
    "- or 逻辑或\n",
    "- not 逻辑非\n",
    "- python中逻辑运算没有异或运算\n",
    "- 运算规则:\n",
    "    - and 看做乘法，or 看做加法\n",
    "    - True看做1，False看做0\n",
    "    - 则逻辑运算就能转换成整数数学运算\n",
    "    - 最后结果 如果是0则为false，否则为True\n",
    "- 逻辑运算的短路问题\n",
    "    - 逻辑运算符，按照运算顺序计算，一旦能够确定整个式子未来的值，则不再计算，直接返回"
   ]
  },
  {
   "cell_type": "code",
   "execution_count": 55,
   "metadata": {},
   "outputs": [
    {
     "name": "stdout",
     "output_type": "stream",
     "text": [
      "True\n",
      "True\n"
     ]
    }
   ],
   "source": [
    "# 逻辑运算符案例\n",
    "a = True\n",
    "b = False\n",
    "c = True\n",
    "\n",
    "#等价于 d = 1 * 0 + 1\n",
    "d = a and b or c\n",
    "print (d)\n",
    "\n",
    "#等价于 d = 1 + 0 * 1\n",
    "d = a or b and c\n",
    "print (d)"
   ]
  },
  {
   "cell_type": "code",
   "execution_count": 64,
   "metadata": {},
   "outputs": [
    {
     "name": "stdout",
     "output_type": "stream",
     "text": [
      "True\n",
      "False\n"
     ]
    }
   ],
   "source": [
    "# 逻辑运算的短路示例\n",
    "\n",
    "\n",
    "# 下面的逻辑表达式，a的值一定是True，则不往后计算\n",
    "a = True or xxxxxxxxxxxxxxxxx\n",
    "print (a)\n",
    "\n",
    "\n",
    "# 下面的逻辑表达式，a的值一定是False，则不往后计算\n",
    "a = False and xxxxxxxxxxxxxxxxx\n",
    "print (a)\n",
    "\n",
    "# xxxxxxxxx中有表达式也不会进行计算"
   ]
  },
  {
   "cell_type": "markdown",
   "metadata": {},
   "source": [
    "## 成员运算符号\n",
    "- 用来检测一个变量是否是另一个变量的成员\n",
    "- in\n",
    "- not in\n"
   ]
  },
  {
   "cell_type": "code",
   "execution_count": 67,
   "metadata": {},
   "outputs": [
    {
     "name": "stdout",
     "output_type": "stream",
     "text": [
      "False\n",
      "False\n"
     ]
    }
   ],
   "source": [
    "# 案例\n",
    "lis = [1,2,3,4,5]\n",
    "a = 7\n",
    "b = 3\n",
    "\n",
    "c = a in lis\n",
    "print (c)\n",
    "\n",
    "d = b not in lis\n",
    "print (d)\n"
   ]
  },
  {
   "cell_type": "markdown",
   "metadata": {},
   "source": [
    "## 身份运算\n",
    "- is：用来检测两个变量是否是同一个变量\n",
    "    - 语法： var1 is var2\n",
    "- is not：用来检测两个变量不是同一个变量\n",
    "    - 语法： var1 is not var2"
   ]
  },
  {
   "cell_type": "code",
   "execution_count": 70,
   "metadata": {},
   "outputs": [
    {
     "name": "stdout",
     "output_type": "stream",
     "text": [
      "True\n",
      "False\n"
     ]
    }
   ],
   "source": [
    "# 数值较小 共用变量\n",
    "a = 9\n",
    "b = 9\n",
    "print (a is b)\n",
    "\n",
    "# 数值较复杂 单独分开\n",
    "a = 'wanxiaoxing'\n",
    "a = 'wanxiaoxing'\n",
    "print (a is b)"
   ]
  },
  {
   "cell_type": "markdown",
   "metadata": {},
   "source": [
    "## 运算符的优先级问题\n",
    "- 永远记住，括号具有最高优先级\n",
    "- 优先级表格\n",
    "        从高到低\n",
    "        ** \t指数 (最高优先级)\n",
    "        ~ + - \t按位翻转, 一元加号和减号 (最后两个的方法名为 +@ 和 -@)\n",
    "        * / % // \t乘，除，取模和取整除\n",
    "        + - \t加法减法\n",
    "        >> << \t右移，左移运算符\n",
    "        & \t位 'AND'\n",
    "        ^ | \t位运算符\n",
    "        <= < > >= \t比较运算符\n",
    "        <> == != \t等于运算符\n",
    "        = %= /= //= -= += *= **= \t赋值运算符\n",
    "        is is not \t身份运算符\n",
    "        in not in \t成员运算符\n",
    "        not or and \t逻辑运算符 "
   ]
  },
  {
   "cell_type": "markdown",
   "metadata": {},
   "source": [
    "# 程序结构\n",
    "- 循环\n",
    "- 分支\n",
    "- 循环"
   ]
  },
  {
   "cell_type": "code",
   "execution_count": null,
   "metadata": {
    "collapsed": true
   },
   "outputs": [],
   "source": []
  }
 ],
 "metadata": {
  "kernelspec": {
   "display_name": "Python 3",
   "language": "python",
   "name": "python3"
  },
  "language_info": {
   "codemirror_mode": {
    "name": "ipython",
    "version": 3
   },
   "file_extension": ".py",
   "mimetype": "text/x-python",
   "name": "python",
   "nbconvert_exporter": "python",
   "pygments_lexer": "ipython3",
   "version": "3.6.1"
  }
 },
 "nbformat": 4,
 "nbformat_minor": 2
}
