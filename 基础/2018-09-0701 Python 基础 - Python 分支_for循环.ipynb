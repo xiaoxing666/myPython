{
 "cells": [
  {
   "cell_type": "markdown",
   "metadata": {},
   "source": [
    "# 三大结构\n",
    "- 顺序\n",
    "- 分支\n",
    "- 循环"
   ]
  },
  {
   "cell_type": "markdown",
   "metadata": {},
   "source": [
    "# 分支\n",
    "- 分支的基本语法\n",
    "\n",
    "         if 条件表达式:\n",
    "            语句1\n",
    "            语句2\n",
    "            语句3\n",
    "            ……\n",
    "- 条件表达式就是计算结果必须为布尔值的表达式\n",
    "- 表达式后面的冒号不能少\n",
    "- 注意if后面出现的语句，如果属于if语句块，则必须同一个缩进等级\n",
    "- 条件表达式结果为True执行if后面的缩进的语句块"
   ]
  },
  {
   "cell_type": "code",
   "execution_count": 15,
   "metadata": {},
   "outputs": [
    {
     "name": "stdout",
     "output_type": "stream",
     "text": [
      "55\n",
      "年龄大于18！\n"
     ]
    }
   ],
   "source": [
    "# if 语句练习\n",
    "# 如果age小于18，则打印信息 去叫家长\n",
    "age = input()\n",
    "if int(age) < 18 :\n",
    "    print ('年龄小于18！')\n",
    "else:\n",
    "    print ('年龄大于18！')"
   ]
  },
  {
   "cell_type": "code",
   "execution_count": 17,
   "metadata": {},
   "outputs": [
    {
     "name": "stdout",
     "output_type": "stream",
     "text": [
      "今天学习for循环\n",
      "7777777\n",
      "开始讲for循环\n"
     ]
    }
   ],
   "source": [
    "print ('今天学习for循环')\n",
    "gender = 'male'\n",
    "if gender == 'female':\n",
    "    print ('6666666')\n",
    "else:\n",
    "    print ('7777777')\n",
    "print ('开始讲for循环')"
   ]
  },
  {
   "cell_type": "markdown",
   "metadata": {},
   "source": [
    "### 双向分支\n",
    "- if……else……语句\n",
    "\n",
    "        if 条件表达式\n",
    "            语句1\n",
    "            语句2\n",
    "            ……\n",
    "        else：\n",
    "            语句1\n",
    "            语句2\n",
    "            ……\n",
    "- 双向分支有两个分支，当程序执行到if…else…语句的时候，一定会执行if或else中的一个，且只执行一个\n",
    "- 缩进问题，if 和 else 一个层级，其余语句一个层级"
   ]
  },
  {
   "cell_type": "code",
   "execution_count": 23,
   "metadata": {},
   "outputs": [
    {
     "name": "stdout",
     "output_type": "stream",
     "text": [
      "请输入性别:nan\n",
      "你输入的性别是：nan\n",
      "男的\n"
     ]
    }
   ],
   "source": [
    "# input 的作用是\n",
    "# 1.在屏幕上输出括号内的字符串\n",
    "# 2.接受用户输入的内容并返回到程序\n",
    "# 3.input返回的内容一定是字符串类型\n",
    "\n",
    "gender = input('请输入性别:')\n",
    "print ('你输入的性别是：{0}'.format(gender))\n",
    "\n",
    "if gender == 'nan':\n",
    "    print ('男的')\n",
    "else:\n",
    "    print ('女的')\n",
    "    "
   ]
  },
  {
   "cell_type": "code",
   "execution_count": 27,
   "metadata": {},
   "outputs": [
    {
     "name": "stdout",
     "output_type": "stream",
     "text": [
      "请输入成绩:97\n",
      "优秀！\n"
     ]
    }
   ],
   "source": [
    "# 考试成绩判断\n",
    "# 90 (含)以上输出：优秀\n",
    "# 80(含)-90 输出：良\n",
    "# 70(含)-80 输出：中\n",
    "# 60(含)-70 输出：平\n",
    "# 60 以下 输出：我没你这个学生\n",
    "\n",
    "# score 存放学生成绩\n",
    "score = int(input('请输入成绩:'))\n",
    "if score >= 90:\n",
    "    print ('优秀！')\n",
    "elif score >= 80:\n",
    "    print ('良好！')\n",
    "elif score >=70 :\n",
    "    print ('中等！')\n",
    "elif score >= 60:\n",
    "    print ('及格！')\n",
    "else:\n",
    "    print ('没你这个学生！')"
   ]
  },
  {
   "cell_type": "markdown",
   "metadata": {},
   "source": [
    "## 多路分支\n",
    "- 很多分支的情况，简称多路分支\n",
    "        if 条件表达式1:\n",
    "            语句1\n",
    "            语句2\n",
    "            ……\n",
    "        elif 条件表达式2:\n",
    "            语句1\n",
    "            语句2\n",
    "            ……\n",
    "        elif 条件表达式3:\n",
    "            语句1\n",
    "            语句2\n",
    "            ……\n",
    "        else:\n",
    "            语句1\n",
    "            语句2\n",
    "            ……\n",
    "- elif 可以有很多个\n",
    "- else 可选\n",
    "- 多路分支只会选择一个执行"
   ]
  },
  {
   "cell_type": "markdown",
   "metadata": {},
   "source": [
    "## if语句其他\n",
    "- if语句可以嵌套使用，但是不推荐\n",
    "- python没有switch-case语句"
   ]
  },
  {
   "cell_type": "markdown",
   "metadata": {},
   "source": [
    "# 循环语句\n",
    "- 重复执行某些固定动作或者处理基本固定的事物\n",
    "- 分类\n",
    "    - for 循环\n",
    "    - while 循环\n",
    "## for 循环\n",
    "- for 循环\n",
    "        \n",
    "        for 变量 in 序列:\n",
    "            语句1\n",
    "            语句2\n",
    "            ……"
   ]
  },
  {
   "cell_type": "code",
   "execution_count": 31,
   "metadata": {},
   "outputs": [
    {
     "name": "stdout",
     "output_type": "stream",
     "text": [
      "wanxiaoxing\n",
      "xiaowang\n",
      "zhangsan\n"
     ]
    },
    {
     "data": {
      "text/plain": [
       "range(0, 10)"
      ]
     },
     "execution_count": 31,
     "metadata": {},
     "output_type": "execute_result"
    }
   ],
   "source": [
    "# 列表 就是一列数字或者其他值，一般用中括号表示\n",
    "# 例如 ['wanxiaoxing','xiaowang','zhangsan']\n",
    "name = ['wanxiaoxing','xiaowang','zhangsan']\n",
    "for n in name:\n",
    "    print (n)"
   ]
  },
  {
   "cell_type": "markdown",
   "metadata": {},
   "source": [
    "## range介绍\n",
    "- 生成一个数字序列\n",
    "- 具体范围可以设定"
   ]
  },
  {
   "cell_type": "code",
   "execution_count": 39,
   "metadata": {},
   "outputs": [
    {
     "name": "stdout",
     "output_type": "stream",
     "text": [
      "1\n",
      "2\n",
      "3\n",
      "4\n",
      "5\n",
      "6\n",
      "7\n",
      "8\n",
      "9\n",
      "10\n"
     ]
    }
   ],
   "source": [
    "# range 练习\n",
    "# 打印1-10的数字\n",
    "# 在python中，一般是左闭右开\n",
    "# randint是特例，它左右都包含\n",
    "# range函数在python 2.x 和python 3.x中有严重区别\n",
    "\n",
    "for i in range(1,11):\n",
    "    print (i)"
   ]
  },
  {
   "cell_type": "markdown",
   "metadata": {},
   "source": [
    "## for-else 语句\n",
    "- 当for循环结束的时候，会执行else 语句\n",
    "- else语句是可选语句"
   ]
  },
  {
   "cell_type": "code",
   "execution_count": 41,
   "metadata": {},
   "outputs": [
    {
     "name": "stdout",
     "output_type": "stream",
     "text": [
      "wanxiaoxing\n",
      "xiaowang\n",
      "zhangsan\n",
      "就这3个名字了！\n"
     ]
    }
   ],
   "source": [
    "# for - else语句\n",
    "# 打印列表中的同学\n",
    "# 如果没有在列表中，或者列表结束，我们需要打印提示语句\n",
    "\n",
    "name = ['wanxiaoxing','xiaowang','zhangsan']\n",
    "for n in name:\n",
    "    print (n)\n",
    "else:\n",
    "    print ('就这{0}个名字了！'.format(len(name)))"
   ]
  },
  {
   "cell_type": "markdown",
   "metadata": {},
   "source": [
    "## for 循环之 break ，continue，pass\n",
    "- break:无条件结束整个循环，简称循环猝死\n",
    "- continue:跳出当前循环，重新进入下一轮循环\n",
    "- pass:表示跳过"
   ]
  },
  {
   "cell_type": "code",
   "execution_count": 60,
   "metadata": {},
   "outputs": [
    {
     "name": "stdout",
     "output_type": "stream",
     "text": [
      "看见了个1\n",
      "看见了个2\n",
      "看见了个3\n",
      "看见了个4\n",
      "看见了个5\n",
      "看见了个6\n",
      "我找打了7！\n"
     ]
    }
   ],
   "source": [
    "# break 在数字1-10中，寻找数字7，打印出来\n",
    "for i in range(1,11):\n",
    "    \n",
    "    if i == 7:\n",
    "        print ('我找打了7！')\n",
    "        break\n",
    "    print ('看见了个{0}'.format(i))\n"
   ]
  },
  {
   "cell_type": "code",
   "execution_count": 66,
   "metadata": {},
   "outputs": [
    {
     "name": "stdout",
     "output_type": "stream",
     "text": [
      "2\n",
      "4\n",
      "6\n",
      "8\n",
      "10\n"
     ]
    }
   ],
   "source": [
    "# continue 在数字1-10中，只打印偶数\n",
    "for i in range(1,11):\n",
    "    if i % 2 != 0:\n",
    "        continue\n",
    "    print (i)"
   ]
  },
  {
   "cell_type": "code",
   "execution_count": 67,
   "metadata": {
    "collapsed": true
   },
   "outputs": [],
   "source": [
    "# pass 例子，一般用于占位\n",
    "for i in range(1,11):\n",
    "    pass\n",
    "    print('Hello ')"
   ]
  },
  {
   "cell_type": "code",
   "execution_count": null,
   "metadata": {
    "collapsed": true
   },
   "outputs": [],
   "source": []
  }
 ],
 "metadata": {
  "kernelspec": {
   "display_name": "Python 3",
   "language": "python",
   "name": "python3"
  },
  "language_info": {
   "codemirror_mode": {
    "name": "ipython",
    "version": 3
   },
   "file_extension": ".py",
   "mimetype": "text/x-python",
   "name": "python",
   "nbconvert_exporter": "python",
   "pygments_lexer": "ipython3",
   "version": "3.6.1"
  }
 },
 "nbformat": 4,
 "nbformat_minor": 2
}
