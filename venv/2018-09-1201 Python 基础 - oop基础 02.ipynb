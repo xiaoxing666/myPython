{
 "cells": [
  {
   "cell_type": "code",
   "execution_count": 6,
   "metadata": {
    "collapsed": true
   },
   "outputs": [
    {
     "name": "stdout",
     "output_type": "stream",
     "text": [
      "Hello,我叫XIAOXIN,今年12岁啦!\nHello,我叫LAOWAN,今年19岁啦!\n"
     ]
    }
   ],
   "source": [
    "# 属性案例\n",
    "# 创建 Student 学生类\n",
    "# 学生具有 name 属性\n",
    "# 但 name 格式不统一\n",
    "\n",
    "class Student():\n",
    "    def __init__(self,name,age):\n",
    "        self.name = name\n",
    "        self.age = age\n",
    "        self.setName(name)\n",
    "    # 介绍下自己\n",
    "    def intro(self):\n",
    "        print ('Hello,我叫{0},今年{1}岁啦!'.format(self.name,self.age))\n",
    "    \n",
    "    def setName(self,name):\n",
    "        self.name = name.upper()\n",
    "\n",
    "s1 = Student('xiaoxin',12)\n",
    "s2 = Student('laowan',19)\n",
    "s1.intro()\n",
    "s2.intro()"
   ]
  },
  {
   "cell_type": "code",
   "execution_count": 11,
   "metadata": {},
   "outputs": [],
   "source": [
    "# property 函数\n",
    "# 定义一个 Person 类\n",
    "# 对于任意输入的姓名,都希望大写保存\n",
    "# 年龄统一整数保存\n",
    "# x = property(fget,fset,fdel,fdoc)\n",
    "class Person():\n",
    "    def fget(self):\n",
    "        return self._name * 2\n",
    "    def fset(self,name):\n",
    "        # 所有输入的姓名以大写形式保存\n",
    "        self._name = name.upper()\n",
    "    def fdel(self):\n",
    "        self._name = 'NoName'\n",
    "        \n",
    "    name = property(fget,fset,fdel,'对name进行操作')\n",
    "\n",
    "# 作业\n",
    "# 1.在用户输入年龄的时候,可以输入整数,小数,浮点数\n",
    "# 2.我们统一需要保存整数,直接小数部分"
   ]
  },
  {
   "cell_type": "code",
   "execution_count": 13,
   "metadata": {},
   "outputs": [
    {
     "data": {
      "text/plain": [
       "'WANXIAOXIWANXIAOXI'"
      ]
     },
     "execution_count": 13,
     "metadata": {},
     "output_type": "execute_result"
    }
   ],
   "source": [
    "p1 = Person()\n",
    "p1.name = 'WanXiaoXi'\n",
    "p1.name"
   ]
  },
  {
   "cell_type": "code",
   "execution_count": 37,
   "metadata": {},
   "outputs": [
    {
     "name": "stdout",
     "output_type": "stream",
     "text": [
      "12\n"
     ]
    }
   ],
   "source": [
    "# 作业示例\n",
    "class Person():\n",
    "    '''\n",
    "    这是说明文档\n",
    "    \n",
    "    '''\n",
    "    def fget(self):\n",
    "        return self._age\n",
    "    def fset(self,age):\n",
    "        self._age = format(age,'0.0f')\n",
    "    def fdel(self):\n",
    "        self._age = 0\n",
    "    age = property(fget,fset,fdel,'对年龄进行操作')\n",
    "\n",
    "p2 = Person()\n",
    "p2.age = 11.50000\n",
    "print (p2.age)"
   ]
  },
  {
   "cell_type": "code",
   "execution_count": 38,
   "metadata": {},
   "outputs": [
    {
     "name": "stdout",
     "output_type": "stream",
     "text": [
      "{'__module__': '__main__', '__doc__': '\\n    这是说明文档\\n    \\n    ', 'fget': <function Person.fget at 0x000002569EE22510>, 'fset': <function Person.fset at 0x000002569EE22730>, 'fdel': <function Person.fdel at 0x000002569EE22488>, 'age': <property object at 0x000002569EE2E9F8>, '__dict__': <attribute '__dict__' of 'Person' objects>, '__weakref__': <attribute '__weakref__' of 'Person' objects>}\n\n    这是说明文档\n    \n    \nPerson\n(<class 'object'>,)\n"
     ]
    }
   ],
   "source": [
    "# 类的内置属性举例\n",
    "print (Person.__dict__)\n",
    "print (Person.__doc__)\n",
    "print (Person.__name__)\n",
    "print (Person.__bases__)"
   ]
  },
  {
   "cell_type": "code",
   "execution_count": null,
   "metadata": {},
   "outputs": [],
   "source": []
  }
 ],
 "metadata": {
  "kernelspec": {
   "display_name": "Python 2",
   "language": "python",
   "name": "python2"
  },
  "language_info": {
   "codemirror_mode": {
    "name": "ipython",
    "version": 2
   },
   "file_extension": ".py",
   "mimetype": "text/x-python",
   "name": "python",
   "nbconvert_exporter": "python",
   "pygments_lexer": "ipython2",
   "version": "2.7.6"
  }
 },
 "nbformat": 4,
 "nbformat_minor": 0
}
