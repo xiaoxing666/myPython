{
 "cells": [
  {
   "cell_type": "markdown",
   "metadata": {
    "collapsed": true
   },
   "source": [
    "# 文件\n",
    "- 长久保存信息的一种数据信息集合\n",
    "- 常用操作\n",
    "\t- 打开关闭\n",
    "\t- 读写内容\n",
    "\t- 查找\n",
    "# open 函数\n",
    "- open 函数负责打开文件,带有很多参数\n",
    "- 第一个参数:文件路径和名称,必须有\n",
    "- mode : 表明文件用什么方式打开 rw\n",
    "\t- r : read 以只读方式\n",
    "\t- w : write 以写的方式,会覆盖内容\n",
    "\t- x : 创建方式打开,如果文件已经存在,报错\n",
    "\t- a : append , 追加方式,不会覆盖文件内容\n",
    "\t- b : binary 方式,二进制方式写入\n",
    "\t- t : 文本方式打开\n",
    "\t- + : 可读写\n",
    "\n"
   ]
  },
  {
   "cell_type": "code",
   "execution_count": 1,
   "metadata": {
    "collapsed": true
   },
   "outputs": [],
   "source": [
    "# 打开文件,用写的方式\n",
    "# r 后面的字符串不需要转义\n",
    "f = open (r'./test01.txt','w')\n",
    "# 文件打开后必须关闭\n",
    "f.close()"
   ]
  },
  {
   "cell_type": "markdown",
   "metadata": {},
   "source": [
    "# with 语句\n",
    "- with 语句使用的技术是一种称为上下文管理协议的技术(ContextManagementProtocal)\n",
    "- 自动判断文件的作用域,自动关闭不在使用的打开的文件句柄(上面的 f 就是一个句柄)"
   ]
  },
  {
   "cell_type": "code",
   "execution_count": 27,
   "metadata": {},
   "outputs": [
    {
     "name": "stdout",
     "output_type": "stream",
     "text": [
      "银烛秋光冷画屏，轻罗小扇扑流萤。\n",
      "\n",
      "天阶夜色凉如水，卧看牵牛织女星。\n"
     ]
    }
   ],
   "source": [
    "# 读取中文,需要加入编码 encoding='utf-8'\n",
    "with open (r'./test01.txt','r',encoding='utf-8') as f:\n",
    "    lines = f.readline()\n",
    "    while lines:\n",
    "        print (lines)\n",
    "        lines = f.readline()"
   ]
  },
  {
   "cell_type": "code",
   "execution_count": 31,
   "metadata": {},
   "outputs": [
    {
     "name": "stdout",
     "output_type": "stream",
     "text": [
      "银烛秋光冷画屏，轻罗小扇扑流萤。\n",
      "\n",
      "天阶夜色凉如水，卧看牵牛织女星。\n"
     ]
    }
   ],
   "source": [
    "# list 全部读取\n",
    "with open (r'./test01.txt','r',encoding='utf-8') as f:\n",
    "    for line in f.readlines():\n",
    "        print (line)"
   ]
  },
  {
   "cell_type": "code",
   "execution_count": 38,
   "metadata": {},
   "outputs": [
    {
     "name": "stdout",
     "output_type": "stream",
     "text": [
      "银烛秋光冷画屏，轻罗小扇扑流萤。\n",
      "天阶夜色凉如水，卧看牵牛织女星。\n",
      "\n"
     ]
    }
   ],
   "source": [
    "# read 是按字符读取文件内容\n",
    "# 允许输入参数决定读取几个字符,如果没有指定,从当前位置读取到结尾\n",
    "# 否则从当前位置读取指定个数字符\n",
    "with open (r'./test01.txt','r',encoding='utf-8') as f:\n",
    "    # 没有参数,则全部读取\n",
    "    print (f.read())\n"
   ]
  },
  {
   "cell_type": "markdown",
   "metadata": {},
   "source": [
    "# seek (offset , from)\n",
    "- 移动文件的读取位置,也叫读取指针\n",
    "- from 的取值范围:\n",
    "    - 0 : 从文件头开始偏移\n",
    "    - 1 : 从文件当前位置开始偏移\n",
    "    - 2 : 从文件末尾开始偏移\n",
    "- 移动的单位是字节 (byte)\n",
    "- 返回文件只针对当前位置"
   ]
  },
  {
   "cell_type": "code",
   "execution_count": 78,
   "metadata": {},
   "outputs": [
    {
     "name": "stdout",
     "output_type": "stream",
     "text": [
      "银烛秋光冷画屏，轻罗小扇扑流萤。\n",
      "天阶夜色凉如水，卧看牵牛织女星。\n"
     ]
    }
   ],
   "source": [
    "# seek \n",
    "# 打开文件\n",
    "with open(r'./test01.txt','r',encoding='utf-8') as f:\n",
    "    print (f.read())    "
   ]
  },
  {
   "cell_type": "code",
   "execution_count": 99,
   "metadata": {},
   "outputs": [
    {
     "name": "stdout",
     "output_type": "stream",
     "text": [
      "银烛秋光冷画屏，轻罗小扇扑流萤。\n",
      "天阶夜色凉如水，卧看牵牛织女星。"
     ]
    }
   ],
   "source": [
    "# 关于读取文件的练习\n",
    "# 打开文件,三个字符一组读出内容,然后显示屏幕\n",
    "# 没读一次,休息1秒钟\n",
    "import time\n",
    "with open(r'./test01.txt','r',encoding='utf-8') as f:\n",
    "    bytes = f.read(3)\n",
    "    while bytes:\n",
    "        print (bytes,end='')\n",
    "        bytes = f.read(3)\n",
    "        time.sleep(1)"
   ]
  },
  {
   "cell_type": "code",
   "execution_count": null,
   "metadata": {
    "collapsed": true
   },
   "outputs": [],
   "source": []
  },
  {
   "cell_type": "code",
   "execution_count": null,
   "metadata": {
    "collapsed": true
   },
   "outputs": [],
   "source": []
  }
 ],
 "metadata": {
  "kernelspec": {
   "display_name": "Python 3",
   "language": "python",
   "name": "python3"
  },
  "language_info": {
   "codemirror_mode": {
    "name": "ipython",
    "version": 3
   },
   "file_extension": ".py",
   "mimetype": "text/x-python",
   "name": "python",
   "nbconvert_exporter": "python",
   "pygments_lexer": "ipython3",
   "version": "3.6.1"
  }
 },
 "nbformat": 4,
 "nbformat_minor": 1
}
