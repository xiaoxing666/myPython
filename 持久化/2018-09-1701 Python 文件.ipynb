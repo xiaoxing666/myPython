{
 "cells": [
  {
   "cell_type": "markdown",
   "metadata": {
    "collapsed": true
   },
   "source": [
    "# 文件\n",
    "- 长久保存信息的一种数据信息集合\n",
    "- 常用操作\n",
    "\t- 打开关闭\n",
    "\t- 读写内容\n",
    "\t- 查找\n",
    "# open 函数\n",
    "- open 函数负责打开文件,带有很多参数\n",
    "- 第一个参数:文件路径和名称,必须有\n",
    "- mode : 表明文件用什么方式打开 rw\n",
    "\t- r : read 以只读方式\n",
    "\t- w : write 以写的方式,会覆盖内容\n",
    "\t- x : 创建方式打开,如果文件已经存在,报错\n",
    "\t- a : append , 追加方式,不会覆盖文件内容\n",
    "\t- b : binary 方式,二进制方式写入\n",
    "\t- t : 文本方式打开\n",
    "\t- + : 可读写\n",
    "\n"
   ]
  },
  {
   "cell_type": "code",
   "execution_count": 2,
   "metadata": {},
   "outputs": [],
   "source": [
    "# 打开文件,用写的方式\n",
    "# r 后面的字符串不需要转义\n",
    "f = open (r'./test01.txt','w')\n",
    "# 文件打开后必须关闭\n",
    "f.close()"
   ]
  },
  {
   "cell_type": "code",
   "execution_count": 3,
   "metadata": {},
   "outputs": [],
   "source": []
  },
  {
   "cell_type": "code",
   "execution_count": null,
   "metadata": {},
   "outputs": [],
   "source": []
  }
 ],
 "metadata": {
  "kernelspec": {
   "display_name": "Python 2",
   "language": "python",
   "name": "python2"
  },
  "language_info": {
   "codemirror_mode": {
    "name": "ipython",
    "version": 2
   },
   "file_extension": ".py",
   "mimetype": "text/x-python",
   "name": "python",
   "nbconvert_exporter": "python",
   "pygments_lexer": "ipython2",
   "version": "2.7.6"
  }
 },
 "nbformat": 4,
 "nbformat_minor": 0
}
