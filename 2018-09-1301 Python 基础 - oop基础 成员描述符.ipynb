{
 "cells": [
  {
   "cell_type": "code",
   "execution_count": 6,
   "metadata": {
    "collapsed": true
   },
   "outputs": [
    {
     "name": "stdout",
     "output_type": "stream",
     "text": [
      "haha\nBigBrother\n"
     ]
    }
   ],
   "source": [
    "# 变量的三种用法\n",
    "\n",
    "class A():\n",
    "    def __init__(self):\n",
    "        self._name = 'haha'\n",
    "        self._age = 23\n",
    "\n",
    "a = A()\n",
    "# 属性的三种用法\n",
    "#`1. 赋值\n",
    "# 2. 读取\n",
    "# 3. 删除\n",
    "print (a._name)\n",
    "a._name = 'BigBrother'\n",
    "del a._age\n",
    "# 此时 a._age 已经删除,无法再输出\n",
    "print (a._name)\n"
   ]
  },
  {
   "cell_type": "code",
   "execution_count": 28,
   "metadata": {},
   "outputs": [
    {
     "data": {
      "text/plain": [
       "'WANXIAOXINGWANXIAOXING'"
      ]
     },
     "execution_count": 28,
     "metadata": {},
     "output_type": "execute_result"
    }
   ],
   "source": [
    "# 类属性 property\n",
    "# 应用场景:\n",
    "# 对变量除了普通的三种操作,还想增加一些附加的功能\n",
    "class A():\n",
    "    def fget(self):\n",
    "        return self._name * 2 \n",
    "    def fset(self,name):\n",
    "        self._name = name.upper()\n",
    "    def fdel(self):\n",
    "        self._name = 'Noname'\n",
    "    name = property(fget,fset,fdel,'处理name')\n",
    "a = A()\n",
    "a.name = 'wanxiaoxing'\n",
    "a.name"
   ]
  },
  {
   "cell_type": "code",
   "execution_count": 29,
   "metadata": {},
   "outputs": [],
   "source": [
    "# 抽象方法\n",
    "\n",
    "class Ab():\n",
    "    def hello(self):\n",
    "        pass"
   ]
  },
  {
   "cell_type": "code",
   "execution_count": 37,
   "metadata": {},
   "outputs": [
    {
     "name": "stdout",
     "output_type": "stream",
     "text": [
      "大家好\n在睡觉\n快乐地玩耍\n"
     ]
    }
   ],
   "source": [
    "# 抽象类的实现\n",
    "import abc\n",
    "# 声明一个类并且指定当前类的元类\n",
    "class Human(metaclass=abc.ABCMeta):\n",
    "    \n",
    "    # 定义一个抽象的方法\n",
    "    @abc.abstractmethod\n",
    "    def say(self):\n",
    "        pass\n",
    "    \n",
    "    # 定义类抽象方法\n",
    "    @abc.abstractclassmethod\n",
    "    def sleep():\n",
    "        pass\n",
    "    \n",
    "    # 定义静态抽象方法\n",
    "    @abc.abstractstaticmethod\n",
    "    def play():\n",
    "        pass\n",
    "    \n",
    "    def drink(self):\n",
    "        print ('一起干杯')\n",
    "\n",
    "class Teacher(Human):\n",
    "    def say(self):\n",
    "        print (\"大家好\")\n",
    "        \n",
    "    def sleep(self):\n",
    "        print ('在睡觉')\n",
    "        \n",
    "    def play(self):\n",
    "        print ('快乐地玩耍')\n",
    "        \n",
    "t = Teacher()\n",
    "t.say()\n",
    "t.sleep()\n",
    "t.play()\n",
    "    \n",
    "\n",
    "        "
   ]
  },
  {
   "cell_type": "code",
   "execution_count": 40,
   "metadata": {},
   "outputs": [
    {
     "name": "stdout",
     "output_type": "stream",
     "text": [
      "saying\nsaying\n"
     ]
    }
   ],
   "source": [
    "# 组装一个类 - 1\n",
    "# 函数名可以当变量使用\n",
    "class A():\n",
    "    pass\n",
    "\n",
    "def say(self):\n",
    "    print ('saying')\n",
    "say(9)\n",
    "A.say = say\n",
    "a = A()\n",
    "a.say()"
   ]
  },
  {
   "cell_type": "code",
   "execution_count": 42,
   "metadata": {},
   "outputs": [
    {
     "name": "stdout",
     "output_type": "stream",
     "text": [
      "saying\n"
     ]
    }
   ],
   "source": [
    "# 组装一个类 - 2\n",
    "from types import MethodType\n",
    "\n",
    "class A():\n",
    "    pass\n",
    "\n",
    "def say(self):\n",
    "    print ('saying')\n",
    "a = A()\n",
    "a.say = MethodType(say,A)\n",
    "a.say()"
   ]
  },
  {
   "cell_type": "code",
   "execution_count": 48,
   "metadata": {},
   "outputs": [],
   "source": [
    "# help(MethodType) 可以查阅帮助文档\n",
    "# help(type)"
   ]
  },
  {
   "cell_type": "code",
   "execution_count": 54,
   "metadata": {},
   "outputs": [
    {
     "name": "stdout",
     "output_type": "stream",
     "text": [
      "{}\nworking\n"
     ]
    }
   ],
   "source": [
    "# 组装一个类 - 3\n",
    "# 用 type 造一个类 \n",
    "\n",
    "class A():\n",
    "    pass\n",
    "\n",
    "def say(self):\n",
    "    print ('saying')\n",
    "def work(self):\n",
    "    print ('working')\n",
    "    \n",
    "# 用 type 造一个类 \n",
    "A = type('Aname',(object,),{'say':say,'work':work})\n",
    "a = A()\n",
    "a.work()"
   ]
  },
  {
   "cell_type": "code",
   "execution_count": 61,
   "metadata": {},
   "outputs": [
    {
     "name": "stdout",
     "output_type": "stream",
     "text": [
      "哈哈,我是元类呀\n10086\n"
     ]
    }
   ],
   "source": [
    "# 组装一个类 - 4\n",
    "# 元类的写法是固定的,必须继承自 type 注意: T 小写 \n",
    "# 元类一般命名以 MetaClass 结尾\n",
    "\n",
    "class PersonMetaClass(type):\n",
    "    def __new__(cls,name,bases,attrs):\n",
    "        print ('哈哈,我是元类呀')\n",
    "        attrs['id'] = 10086\n",
    "        return type.__new__(cls,name,bases,attrs)\n",
    "# 元类定义完就可以使用\n",
    "\n",
    "class Teacher(object,metaclass=PersonMetaClass):\n",
    "    pass\n",
    "\n",
    "t = Teacher()\n",
    "print (t.id)"
   ]
  },
  {
   "cell_type": "code",
   "execution_count": null,
   "metadata": {},
   "outputs": [],
   "source": []
  }
 ],
 "metadata": {
  "kernelspec": {
   "display_name": "Python 2",
   "language": "python",
   "name": "python2"
  },
  "language_info": {
   "codemirror_mode": {
    "name": "ipython",
    "version": 2
   },
   "file_extension": ".py",
   "mimetype": "text/x-python",
   "name": "python",
   "nbconvert_exporter": "python",
   "pygments_lexer": "ipython2",
   "version": "2.7.6"
  }
 },
 "nbformat": 4,
 "nbformat_minor": 0
}
