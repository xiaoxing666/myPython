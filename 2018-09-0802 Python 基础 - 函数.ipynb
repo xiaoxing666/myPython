{
 "cells": [
  {
   "cell_type": "markdown",
   "metadata": {},
   "source": [
    "# 四类函数\n",
    "- 普通参数\n",
    "- 默认参数\n",
    "- 关键字参数\n",
    "- 收集参数\n",
    "\n",
    "## 关键字参数开始\n",
    "- 语法\n",
    "        \n",
    "        def fun(p1=v1,p2=v2……):\n",
    "            fun_body\n",
    "            \n",
    "        调用函数\n",
    "         fun(p1=v1,p2=v2,……)\n",
    "         \n",
    "- 比较麻烦，但也有好处\n",
    "    - 不容易混淆，一般实参和形参只是按照位置一一对应即可容易出错\n",
    "    - 使用关键字参数，可以不烤熟参数位置\n",
    "  \n",
    "        "
   ]
  },
  {
   "cell_type": "code",
   "execution_count": 5,
   "metadata": {},
   "outputs": [
    {
     "name": "stdout",
     "output_type": "stream",
     "text": [
      "我是一个学生：\n",
      "我叫wanxiaoxing，我的年龄是24,我是jiangxi人\n",
      "我是一个学生：\n",
      "我叫wanxiaoxing，我的年龄是24,我是jiangxi人\n"
     ]
    }
   ],
   "source": [
    "# 关键字参数案例\n",
    "def stu(name,age,addr):\n",
    "    print ('我是一个学生：')\n",
    "    print ('我叫{0}，我的年龄是{1},我是{2}人'.format(name,age,addr))\n",
    "    \n",
    "nm = 'wanxiaoxing'\n",
    "ag = 24\n",
    "ad = 'jiangxi'\n",
    "\n",
    "# 普通参数，只按照位置传递，容易出错\n",
    "stu(nm,ag,ad)\n",
    "\n",
    "# 关键字参数传递\n",
    "stu(name=nm,age=ag,addr=ad)"
   ]
  },
  {
   "cell_type": "markdown",
   "metadata": {},
   "source": [
    "## 收集参数\n",
    "- 把没有位置，不能和定义时的参数位置想对应的参数，放入一个特定的数据结构中\n",
    "- 语法\n",
    "            def func(*args):\n",
    "                func_body\n",
    "            \n",
    "            调用：\n",
    "            func(p1,p2,p3……)\n",
    "- 参数 args 不是必须这么写，但是约定俗成这么写\n",
    "- 参数名 args 前需要有星号\n",
    "- 收集参数可以和其他参数共存"
   ]
  },
  {
   "cell_type": "code",
   "execution_count": 16,
   "metadata": {},
   "outputs": [
    {
     "name": "stdout",
     "output_type": "stream",
     "text": [
      "wanxx\n",
      "24\n",
      "jiangxi\n"
     ]
    }
   ],
   "source": [
    "# 收集参数示例\n",
    "# 函数模拟一个学生进行自我介绍，但具体内容不能确定\n",
    "def stu( *args):\n",
    "    for i in args:\n",
    "        print (i)\n",
    "stu('wanxx','24','jiangxi')"
   ]
  },
  {
   "cell_type": "code",
   "execution_count": 17,
   "metadata": {},
   "outputs": [
    {
     "ename": "TypeError",
     "evalue": "stu() got an unexpected keyword argument 'name'",
     "traceback": [
      "\u001b[1;31m---------------------------------------------------------------------------\u001b[0m",
      "\u001b[1;31mTypeError\u001b[0m                                 Traceback (most recent call last)",
      "\u001b[1;32m<ipython-input-17-91458a029c66>\u001b[0m in \u001b[0;36m<module>\u001b[1;34m()\u001b[0m\n\u001b[0;32m      1\u001b[0m \u001b[1;31m# 如果使用关键字参数格式调用，会出现问题\u001b[0m\u001b[1;33m\u001b[0m\u001b[1;33m\u001b[0m\u001b[0m\n\u001b[1;32m----> 2\u001b[1;33m \u001b[0mstu\u001b[0m\u001b[1;33m(\u001b[0m\u001b[0mname\u001b[0m\u001b[1;33m=\u001b[0m\u001b[1;34m'wanxi'\u001b[0m\u001b[1;33m)\u001b[0m\u001b[1;33m\u001b[0m\u001b[0m\n\u001b[0m",
      "\u001b[1;31mTypeError\u001b[0m: stu() got an unexpected keyword argument 'name'"
     ],
     "output_type": "error"
    }
   ],
   "source": [
    "# 如果使用关键字参数格式调用，会出现问题\n",
    "stu(name='wanxi')   #会报错"
   ]
  },
  {
   "cell_type": "markdown",
   "metadata": {},
   "source": [
    "### 收集参数之关键字收集\n",
    "- 把关键字参数按照字典格式存入收集参数\n",
    "- 语法:\n",
    "        \n",
    "        def func( **kwargs):\n",
    "            func_body\n",
    "            \n",
    "        #调用\n",
    "        func(p1=v1,p2=v2……)\n",
    "- kwargs 一般约定俗成\n",
    "- 调用的时候，把多余的关键字参数放入kwargs\n",
    "- 访问kwargs需要按字典格式访问\n",
    "       "
   ]
  },
  {
   "cell_type": "code",
   "execution_count": 24,
   "metadata": {},
   "outputs": [
    {
     "name": "stdout",
     "output_type": "stream",
     "text": [
      "name wanxx\n",
      "age 24\n",
      "addr jiangxi\n",
      "********************\n",
      "name 大神\n"
     ]
    }
   ],
   "source": [
    "# 收集参数案例\n",
    "def stu( **kwargs):\n",
    "    # 对于字典的访问，python 2.x 和 python 3.x 有区别\n",
    "    for k,v in kwargs.items():\n",
    "        print(k,v)\n",
    "        \n",
    "stu(name='wanxx',age='24',addr='jiangxi')\n",
    "\n",
    "print ('*'*20)\n",
    "\n",
    "stu(name='大神')"
   ]
  },
  {
   "cell_type": "markdown",
   "metadata": {},
   "source": [
    "### 收集参数混合调用的顺序问题\n",
    "- 收集参数，关键字参数，普通参数可以混合使用\n",
    "- 使用规则就是，普通参数和关键字参数优先\n",
    "- 定义的时候一般找普通参数，关键字参数，收集参数tuple，收集参数dict"
   ]
  },
  {
   "cell_type": "code",
   "execution_count": 52,
   "metadata": {},
   "outputs": [
    {
     "name": "stdout",
     "output_type": "stream",
     "text": [
      "Hello，大家好，我的名字是wanxi，我今天23岁,我爱好冒有\n",
      "daqiu\n",
      "Hello，大家好，我的名字是wanxi，我今天23岁,我爱好chifan\n",
      "daqiu\n",
      "word : 今天很高兴见到大家！\n"
     ]
    }
   ],
   "source": [
    "# 收集参数混合调用案例\n",
    "# stu 模拟一个学生的自我介绍\n",
    "\n",
    "def stu(name,age,*args,hobby='冒有',**kwargs):\n",
    "    print ('Hello，大家好，我的名字是{0}，我今天{1}岁,我爱好{2}'.format(name,age,hobby))\n",
    "    for i in args:\n",
    "        print (i)\n",
    "    for k,v in kwargs.items():\n",
    "        print (k,':',v)\n",
    "    \n",
    "# 调用\n",
    "stu('wanxi',23,'daqiu')\n",
    "stu('wanxi',23,'daqiu',hobby='chifan',word='今天很高兴见到大家！')\n",
    "\n",
    "# 报错……"
   ]
  },
  {
   "cell_type": "markdown",
   "metadata": {},
   "source": [
    "### 收集参数的解包问题\n",
    "- 把参数放入 list 中，直接使用 list 中的值放入收集参数中\n",
    "- 语法：参考案例"
   ]
  },
  {
   "cell_type": "code",
   "execution_count": 59,
   "metadata": {},
   "outputs": [
    {
     "name": "stdout",
     "output_type": "stream",
     "text": [
      "Hahahahaha\n",
      "['wanxiaoxing', '24', '10086']\n",
      "****************************************\n",
      "Hahahahaha\n",
      "wanxiaoxing\n",
      "24\n",
      "10086\n"
     ]
    }
   ],
   "source": [
    "# 收集参数的解包问题\n",
    "\n",
    "def stu(*args):\n",
    "    print ('Hahahahaha')\n",
    "    for i in args:\n",
    "        print (i)\n",
    "li =['wanxiaoxing','24','10086']\n",
    "stu(li)\n",
    "# 此时，args是li中的一个元素，即 arg = ['wanxiaoxing','24','10086']\n",
    "print ('*'*40)\n",
    "# 此时的调用，我们就需要解包符号，即调用的时候前面加一个星号\n",
    "stu(*li)"
   ]
  },
  {
   "cell_type": "markdown",
   "metadata": {},
   "source": [
    "### 同理，dict类型收集参数一样可以解包，但是\n",
    "- 对 dict 类型进行解包需要两个 * "
   ]
  },
  {
   "cell_type": "markdown",
   "metadata": {},
   "source": [
    "## 返回值\n",
    "- 函数和过程的去呗\n",
    "    - 有误返回值\n",
    "- 需要用 return 现实返回内容\n",
    "- 如果没有返回，则默认返回 None\n",
    "- 推荐写法，无论有无返回值，最后都以 return 结束"
   ]
  },
  {
   "cell_type": "markdown",
   "metadata": {},
   "source": [
    "# 函数文档\n",
    "- 函数的文档的作用是对当前函数提供相关使用的参考信息\n",
    "- 文档的写法\n",
    "    - 在函数内开始第一行使用三字符串定义符'''\n",
    "    - 一般具有特定格式\n",
    "    - 参考案例\n",
    "- 文档查看\n",
    "    - 使用 help 函数，形如 help(func)\n",
    "    - 使用 func.\\__doc__ 参考案例"
   ]
  },
  {
   "cell_type": "code",
   "execution_count": 65,
   "metadata": {},
   "outputs": [
    {
     "name": "stdout",
     "output_type": "stream",
     "text": [
      "\n",
      "    我是介绍文档！\n",
      "    这是第一行\n",
      "    这是第二行\n",
      "    \n"
     ]
    }
   ],
   "source": [
    "# 文档案例\n",
    "# 函数 stu 模拟一个自我介绍的内容\n",
    "def stu(name,age,*args):\n",
    "    '''\n",
    "    我是介绍文档！\n",
    "    这是第一行\n",
    "    这是第二行\n",
    "    '''\n",
    "print (stu.__doc__)"
   ]
  },
  {
   "cell_type": "code",
   "execution_count": null,
   "metadata": {
    "collapsed": true
   },
   "outputs": [],
   "source": []
  }
 ],
 "metadata": {
  "kernelspec": {
   "display_name": "Python 3",
   "language": "python",
   "name": "python3"
  },
  "language_info": {
   "codemirror_mode": {
    "name": "ipython",
    "version": 3
   },
   "file_extension": ".py",
   "mimetype": "text/x-python",
   "name": "python",
   "nbconvert_exporter": "python",
   "pygments_lexer": "ipython3",
   "version": "3.6.1"
  }
 },
 "nbformat": 4,
 "nbformat_minor": 2
}
