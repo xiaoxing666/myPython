{
 "cells": [
  {
   "cell_type": "markdown",
   "metadata": {},
   "source": [
    "# 元祖的函数\n",
    "- 基本跟 list 通用\n",
    "- append,insert 等不可用\n",
    "- 以下看代码"
   ]
  },
  {
   "cell_type": "code",
   "execution_count": 5,
   "metadata": {},
   "outputs": [
    {
     "name": "stdout",
     "output_type": "stream",
     "text": [
      "7\n",
      "9\n",
      "-3\n"
     ]
    }
   ],
   "source": [
    "# len:获取元祖长度\n",
    "t = 1,2,3,4,5,-3,9\n",
    "print(len(t))\n",
    "\n",
    "# max:获取元祖中最大的值\n",
    "print(max(t))\n",
    "# min:获取元祖中最小的值\n",
    "print(min(t))"
   ]
  },
  {
   "cell_type": "code",
   "execution_count": 13,
   "metadata": {},
   "outputs": [
    {
     "name": "stdout",
     "output_type": "stream",
     "text": [
      "(3, 5, 7, 3, 2, 6, 2, 4, 5, 2, 5, 2)\n",
      "4\n",
      "5\n"
     ]
    }
   ],
   "source": [
    "# tuple: 转化或创建元祖\n",
    "li = [3,5,7,3,2,6,2,4,5,2,5,2]\n",
    "t1 = tuple(li)\n",
    "# count 返回元祖中的值的个数\n",
    "\n",
    "# index 返回想值得下标,如果有多个值,返回第一个下标\n",
    "print (t1)\n",
    "print (t1.count(2))\n",
    "print (t1.index(6))"
   ]
  },
  {
   "cell_type": "code",
   "execution_count": 16,
   "metadata": {},
   "outputs": [
    {
     "name": "stdout",
     "output_type": "stream",
     "text": [
      "1\n",
      "3\n",
      "3\n",
      "1\n"
     ]
    }
   ],
   "source": [
    "# 两个变量交换值\n",
    "a = 1\n",
    "b = 3\n",
    "\n",
    "print (a)\n",
    "print (b)\n",
    "\n",
    "# 注意注意,简单粗暴~~~!!!\n",
    "a,b = b,a\n",
    "\n",
    "print (a)\n",
    "print (b)"
   ]
  },
  {
   "cell_type": "markdown",
   "metadata": {},
   "source": [
    "# 集合-set\n",
    "- 集合是高中数学中的一个概念\n",
    "- 一堆确定的无序的唯一的数据,集合中的每一个数据成为一个元素"
   ]
  },
  {
   "cell_type": "code",
   "execution_count": 31,
   "metadata": {},
   "outputs": [
    {
     "name": "stdout",
     "output_type": "stream",
     "text": [
      "<class 'set'>\n",
      "<class 'dict'>\n"
     ]
    }
   ],
   "source": [
    "# 集合的定义\n",
    "# 空值集合需要 set() 的方式创建\n",
    "s1 = set()\n",
    "print (type(s1))\n",
    "\n",
    "# 如果没有值,直接用 {} 定义则是一个字典 dict\n",
    "s = {}\n",
    "print (type(s))"
   ]
  },
  {
   "cell_type": "markdown",
   "metadata": {},
   "source": [
    "# 集合的特征\n",
    "- 集合数据无序,即无法使用索引和分片\n",
    "- 集合内部数据具有唯一性,可以用来排除重复数据\n",
    "- 集合内的数据,str,int,float,tuple,list集合等,即内部只能放置可哈希数据"
   ]
  },
  {
   "cell_type": "markdown",
   "metadata": {},
   "source": [
    "# 集合数列操作"
   ]
  },
  {
   "cell_type": "code",
   "execution_count": 35,
   "metadata": {},
   "outputs": [
    {
     "name": "stdout",
     "output_type": "stream",
     "text": [
      "{4, 5, 'i', 'love', 'wanxiaoxing'}\n",
      "True\n"
     ]
    }
   ],
   "source": [
    "# 成员检测\n",
    "# in, not in\n",
    "a = {4,5,'wanxiaoxing','i','love'}\n",
    "# 无序输出\n",
    "print (a)\n",
    "print (4 in a)"
   ]
  },
  {
   "cell_type": "markdown",
   "metadata": {},
   "source": [
    "# 集合的遍历"
   ]
  },
  {
   "cell_type": "code",
   "execution_count": 38,
   "metadata": {},
   "outputs": [
    {
     "name": "stdout",
     "output_type": "stream",
     "text": [
      "4 5 i love wanxiaoxing "
     ]
    }
   ],
   "source": [
    "# for 循环\n",
    "a = {4,5,'wanxiaoxing','i','love'}\n",
    "for i in a:\n",
    "    print (i,end=\" \")"
   ]
  },
  {
   "cell_type": "code",
   "execution_count": 39,
   "metadata": {},
   "outputs": [
    {
     "name": "stdout",
     "output_type": "stream",
     "text": [
      "4 5 6\n",
      "7 8 9\n",
      "1 2 3\n"
     ]
    }
   ],
   "source": [
    "# 带有元祖的集合遍历\n",
    "s = {(1,2,3),(4,5,6),(7,8,9)}\n",
    "for x,y,z in s:\n",
    "    print (x,y,z)"
   ]
  },
  {
   "cell_type": "markdown",
   "metadata": {},
   "source": [
    "# 集合的内涵"
   ]
  },
  {
   "cell_type": "code",
   "execution_count": 44,
   "metadata": {},
   "outputs": [
    {
     "name": "stdout",
     "output_type": "stream",
     "text": [
      "{34, 5, 6, 8, 73, 234, 47, 23}\n",
      "{34, 5, 6, 8, 73, 234, 47, 23}\n"
     ]
    }
   ],
   "source": [
    "# 普通集合内涵\n",
    "# 以下集合在初始化后自动过滤掉重复元素\n",
    "s = {23,34,23,234,34,5,6,73,8,234,8,47,23}\n",
    "print (s)\n",
    "\n",
    "# 普通集合内涵\n",
    "ss = {i for i in s}\n",
    "print (ss)"
   ]
  },
  {
   "cell_type": "code",
   "execution_count": 45,
   "metadata": {},
   "outputs": [
    {
     "name": "stdout",
     "output_type": "stream",
     "text": [
      "{34, 5, 6, 8, 73, 234, 47, 23}\n",
      "{8, 34, 234, 6}\n"
     ]
    }
   ],
   "source": [
    "# 带条件的集合内涵\n",
    "s = {23,34,23,234,34,5,6,73,8,234,8,47,23}\n",
    "print (s)\n",
    "\n",
    "# 普通集合内涵\n",
    "ss = {i for i in s if i%2==0}\n",
    "print (ss)"
   ]
  },
  {
   "cell_type": "code",
   "execution_count": 48,
   "metadata": {},
   "outputs": [
    {
     "name": "stdout",
     "output_type": "stream",
     "text": [
      "{'xingxingxingxingxing', 'xingxingxingxingxingxingxing', 'xingxing', 'wanwanwanwanwanwanwan', 'xingxingxing', 'wanwan', 'xiaoxiaoxiao', 'xiaoxiaoxiaoxiaoxiaoxiaoxiao', 'xingxingxingxingxingxingxingxingxing', 'wanwanwanwanwan', 'xiaoxiaoxiaoxiaoxiaoxiaoxiaoxiaoxiao', 'wanwanwanwanwanwanwanwanwan', 'xiaoxiaoxiaoxiaoxiao', 'wanwanwan', 'xiaoxiao'}\n"
     ]
    }
   ],
   "source": [
    "# 多循环的集合内涵\n",
    "s1 = {2,3,5,7,9}\n",
    "s2 = {'wan','xiao','xing'}\n",
    "\n",
    "sss = {m*n for m in s1 for n in s2}\n",
    "print (sss)"
   ]
  },
  {
   "cell_type": "markdown",
   "metadata": {},
   "source": [
    "# 集合函数/关于集合的函数"
   ]
  },
  {
   "cell_type": "code",
   "execution_count": 51,
   "metadata": {},
   "outputs": [
    {
     "name": "stdout",
     "output_type": "stream",
     "text": [
      "{34, 5, 6, 8, 73, 234, 47, 23}\n",
      "8\n",
      "234\n",
      "5\n"
     ]
    }
   ],
   "source": [
    "# len,max,min:跟其他基本函数一致\n",
    "s = {23,34,23,234,34,5,6,73,8,234,8,47,23}\n",
    "print (s)\n",
    "print (len(s))\n",
    "print (max(s))\n",
    "print (min(s))"
   ]
  },
  {
   "cell_type": "code",
   "execution_count": 53,
   "metadata": {},
   "outputs": [
    {
     "name": "stdout",
     "output_type": "stream",
     "text": [
      "{2, 3, 4, 5, 6, 7, 8, 9}\n"
     ]
    }
   ],
   "source": [
    "# set:生成一个集合\n",
    "li = [2,3,5,6,8,9,2,5,8,9,2,4,7,9,5,3,2,6,8,5]\n",
    "ss = set(li)\n",
    "print (ss)"
   ]
  },
  {
   "cell_type": "code",
   "execution_count": 54,
   "metadata": {},
   "outputs": [
    {
     "name": "stdout",
     "output_type": "stream",
     "text": [
      "{1, 222}\n"
     ]
    }
   ],
   "source": [
    "# add:向集合内添加元素\n",
    "s = {1}\n",
    "s.add(222)\n",
    "print (s)"
   ]
  },
  {
   "cell_type": "code",
   "execution_count": 56,
   "metadata": {},
   "outputs": [
    {
     "name": "stdout",
     "output_type": "stream",
     "text": [
      "1952348627240\n",
      "1952348627240\n"
     ]
    }
   ],
   "source": [
    "# clear \n",
    "s = {2,3,5,6,8,9,2,5,8,9,2,4,7,9,5,3,2,6,8,5}\n",
    "print (id(s))\n",
    "s.clear()\n",
    "print (id(s))\n",
    "# 结果表明 clear 函数就是原地清空数据"
   ]
  },
  {
   "cell_type": "code",
   "execution_count": 60,
   "metadata": {},
   "outputs": [
    {
     "name": "stdout",
     "output_type": "stream",
     "text": [
      "{2, 3, 5, 6, 7, 8, 9}\n",
      "{2, 3, 5, 6, 7, 8, 9}\n"
     ]
    }
   ],
   "source": [
    "# copy :拷贝\n",
    "# remove : 移除指定的值,直接改变原有值,如果要删除的值不存在会报错\n",
    "# discard :移除集合中指定的值,跟remove一样,但是没有要删除的值不会报错\n",
    "s = {2, 3, 4, 5, 6, 7, 8, 9}\n",
    "s.remove(4)\n",
    "print (s)\n",
    "s.discard(4)\n",
    "print (s)"
   ]
  },
  {
   "cell_type": "code",
   "execution_count": 62,
   "metadata": {},
   "outputs": [
    {
     "name": "stdout",
     "output_type": "stream",
     "text": [
      "2\n"
     ]
    }
   ],
   "source": [
    "# pop 随机弹出一个元素\n",
    "s = {2, 3, 4, 5, 6, 7, 8, 9}\n",
    "d = s.pop()\n",
    "print (d)"
   ]
  },
  {
   "cell_type": "code",
   "execution_count": 65,
   "metadata": {},
   "outputs": [
    {
     "name": "stdout",
     "output_type": "stream",
     "text": [
      "{3, 4}\n",
      "{1, 2}\n",
      "{1, 2, 3, 4, 5, 6}\n"
     ]
    }
   ],
   "source": [
    "# 集合函数\n",
    "# intersection :交集\n",
    "# different:差集\n",
    "# union 并集\n",
    "# issubset :检查一个集合是否为另一个集合的子集\n",
    "# issuperset:检查一个集合是否为另一个集合的超集\n",
    "s1 = {1,2,3,4}\n",
    "s2 = {3,4,5,6}\n",
    "\n",
    "# 交集\n",
    "s_1 = s1.intersection(s2)\n",
    "print(s_1)\n",
    "\n",
    "# 差集\n",
    "s_2 = s1.difference(s2)\n",
    "print (s_2)\n",
    "\n",
    "# 并集\n",
    "s_3 = s1.union(s2)\n",
    "print (s_3)"
   ]
  },
  {
   "cell_type": "code",
   "execution_count": 66,
   "metadata": {},
   "outputs": [
    {
     "name": "stdout",
     "output_type": "stream",
     "text": [
      "{1, 2}\n"
     ]
    }
   ],
   "source": [
    "# 集合的数字操作\n",
    "s1 = {1,2,3,4}\n",
    "s2 = {3,4,5,6}\n",
    "\n",
    "s_1 = s1 - s2\n",
    "print (s_1)"
   ]
  },
  {
   "cell_type": "markdown",
   "metadata": {},
   "source": [
    "# frozenset :冰冻集合\n",
    "- 冰冻集合就是不可以进行任何修改的集合\n",
    "- frozenset是一种特殊的集合"
   ]
  },
  {
   "cell_type": "code",
   "execution_count": 67,
   "metadata": {},
   "outputs": [
    {
     "name": "stdout",
     "output_type": "stream",
     "text": [
      "<class 'frozenset'>\n",
      "frozenset()\n"
     ]
    }
   ],
   "source": [
    "# 创建\n",
    "s = frozenset()\n",
    "print (type(s))\n",
    "print (s)"
   ]
  },
  {
   "cell_type": "markdown",
   "metadata": {},
   "source": [
    "# dict字典\n",
    "- 字典是一种组合数据,没有顺序的组合数据,顺序以键值对的形式出现"
   ]
  },
  {
   "cell_type": "code",
   "execution_count": 70,
   "metadata": {},
   "outputs": [
    {
     "name": "stdout",
     "output_type": "stream",
     "text": [
      "<class 'dict'>\n",
      "<class 'dict'>\n"
     ]
    }
   ],
   "source": [
    "# 字典的创建\n",
    "# 创建空字典1\n",
    "d = {}\n",
    "print (type(d))\n",
    "\n",
    "# 创建空字典2\n",
    "d2 = dict()\n",
    "print (type(d2))"
   ]
  },
  {
   "cell_type": "code",
   "execution_count": 76,
   "metadata": {},
   "outputs": [],
   "source": [
    "# 创建有值的字典,每个键值对用冒号隔开\n",
    "d = {\"name\":\"wanxiaoxing\",\"age\":18,\"sex\":\"male\"}"
   ]
  },
  {
   "cell_type": "markdown",
   "metadata": {},
   "source": [
    "# 字典的特征\n",
    "-  字典是序列类型,但是是无序序列,所以没有分片和索引\n",
    "- 字典中的数据每个都由键值对组成,集kv对\n",
    "    - key:必须是可哈希的值,比如int str float tuple ,但是list set sict 不行\n",
    "    - value:任何值"
   ]
  },
  {
   "cell_type": "markdown",
   "metadata": {},
   "source": [
    "# 字典常见操作"
   ]
  },
  {
   "cell_type": "code",
   "execution_count": 77,
   "metadata": {},
   "outputs": [
    {
     "name": "stdout",
     "output_type": "stream",
     "text": [
      "wanxiaoxing\n",
      "18\n",
      "male\n"
     ]
    }
   ],
   "source": [
    "# 访问数据\n",
    "d = {\"name\":\"wanxiaoxing\",\"age\":18,\"sex\":\"male\"}\n",
    "print (d['name'])\n",
    "print (d['age'])\n",
    "print (d['sex'])"
   ]
  },
  {
   "cell_type": "code",
   "execution_count": 78,
   "metadata": {},
   "outputs": [
    {
     "name": "stdout",
     "output_type": "stream",
     "text": [
      "{'age': 18, 'sex': 'male'}\n"
     ]
    }
   ],
   "source": [
    "# 删除\n",
    "# 使用 del\n",
    "del d['name']\n",
    "print (d)"
   ]
  },
  {
   "cell_type": "code",
   "execution_count": 79,
   "metadata": {},
   "outputs": [
    {
     "name": "stdout",
     "output_type": "stream",
     "text": [
      "key\n"
     ]
    }
   ],
   "source": [
    "# 成员检测 in, not in\n",
    "d = {\"name\":\"wanxiaoxing\",\"age\":18,\"sex\":\"male\"}\n",
    "\n",
    "if \"wanxiaoxing\" in d:\n",
    "    print(\"value\")\n",
    "if \"name\" in d:\n",
    "    print(\"key\")\n",
    "if (\"name\",\"wanxiaoxing\") in d:\n",
    "    print (\"k ,v\")"
   ]
  },
  {
   "cell_type": "code",
   "execution_count": 86,
   "metadata": {},
   "outputs": [
    {
     "name": "stdout",
     "output_type": "stream",
     "text": [
      "name wanxiaoxing\n",
      "age 18\n",
      "sex male\n",
      "name wanxiaoxing\n",
      "age 18\n",
      "sex male\n",
      "name\n",
      "age\n",
      "sex\n",
      "wanxiaoxing\n",
      "18\n",
      "male\n"
     ]
    }
   ],
   "source": [
    "# 遍历在 python 2.x 和 python 3.x 区别比较大,代码不适用\n",
    "# 按 key 来使用 for 循环\n",
    "for k in d:\n",
    "    print (k,d[k])\n",
    "for k,v in d.items():\n",
    "    print (k,v)\n",
    "for k in d.keys():\n",
    "    print (k)\n",
    "for v in d.values():\n",
    "    print (v)"
   ]
  },
  {
   "cell_type": "markdown",
   "metadata": {},
   "source": [
    "# 字典生成式"
   ]
  },
  {
   "cell_type": "code",
   "execution_count": 94,
   "metadata": {},
   "outputs": [
    {
     "name": "stdout",
     "output_type": "stream",
     "text": [
      "{'name': 'wanxiaoxing'}\n"
     ]
    }
   ],
   "source": [
    "d = {\"name\":\"wanxiaoxing\",\"age\":18,\"sex\":\"male\"}\n",
    "\n",
    "# 注意 第一个 k:v 中间用冒号隔开\n",
    "dd  = {k:v for k,v in d.items() if k==\"name\"}\n",
    "\n",
    "print (dd)"
   ]
  },
  {
   "cell_type": "markdown",
   "metadata": {},
   "source": [
    "# 字典相关函数"
   ]
  },
  {
   "cell_type": "code",
   "execution_count": 96,
   "metadata": {},
   "outputs": [
    {
     "name": "stdout",
     "output_type": "stream",
     "text": [
      "{'name': 'wanxiaoxing', 'age': 18, 'sex': 'male'}\n"
     ]
    }
   ],
   "source": [
    "# 通用函数:len max min dict\n",
    "# str(字典):返回字典的字符串格式\n",
    "d = {\"name\":\"wanxiaoxing\",\"age\":18,\"sex\":\"male\"}\n",
    "print(str(d))"
   ]
  },
  {
   "cell_type": "code",
   "execution_count": 99,
   "metadata": {},
   "outputs": [
    {
     "name": "stdout",
     "output_type": "stream",
     "text": [
      "<class 'dict_items'>\n",
      "dict_items([('name', 'wanxiaoxing'), ('age', 18), ('sex', 'male')])\n"
     ]
    }
   ],
   "source": [
    "# clear:清空字典\n",
    "# items:返回键值对组成的元祖格式\n",
    "d = {\"name\":\"wanxiaoxing\",\"age\":18,\"sex\":\"male\"}\n",
    "print (type(d.items()))\n",
    "print (d.items())"
   ]
  },
  {
   "cell_type": "code",
   "execution_count": 101,
   "metadata": {},
   "outputs": [
    {
     "name": "stdout",
     "output_type": "stream",
     "text": [
      "<class 'dict_keys'>\n",
      "dict_keys(['name', 'age', 'sex'])\n",
      "<class 'dict_values'>\n",
      "dict_values(['wanxiaoxing', 18, 'male'])\n"
     ]
    }
   ],
   "source": [
    "# 返回字典组成的一个结构\n",
    "# keys\n",
    "# values\n",
    "d = {\"name\":\"wanxiaoxing\",\"age\":18,\"sex\":\"male\"}\n",
    "print (type(d.keys()))\n",
    "print (d.keys())\n",
    "print (type(d.values()))\n",
    "print (d.values())"
   ]
  },
  {
   "cell_type": "code",
   "execution_count": 106,
   "metadata": {},
   "outputs": [
    {
     "name": "stdout",
     "output_type": "stream",
     "text": [
      "wanxiaoxing\n",
      "None\n",
      "wanxiaoxing\n",
      "1008888\n"
     ]
    }
   ],
   "source": [
    "# get :根据指定键返回相应的值,好处是可以设置默认值\n",
    "d = {\"name\":\"wanxiaoxing\",\"age\":18,\"sex\":\"male\"}\n",
    "print (d.get('name'))\n",
    "# 以下不会报错\n",
    "print (d.get('name111'))\n",
    "\n",
    "# 还可以这样 get\n",
    "print (d.get('name','wanxiaoxing'))\n",
    "# 以下找不到 name111,就会把值赋值过去\n",
    "print (d.get('name111','1008888'))"
   ]
  },
  {
   "cell_type": "code",
   "execution_count": 116,
   "metadata": {},
   "outputs": [
    {
     "name": "stdout",
     "output_type": "stream",
     "text": [
      "{'name': ['xiaoxi', 23, '10087'], 'age': ['xiaoxi', 23, '10087'], 'phone': ['xiaoxi', 23, '10087']}\n"
     ]
    }
   ],
   "source": [
    "# fromkeys :使用指定的序列作为键,使用一个值作为字典的所有的键的值\n",
    "l = ['name','age','phone']\n",
    "v = ['xiaoxi',23,'10087']\n",
    "d = dict.fromkeys(list001,v)\n",
    "print (d)"
   ]
  },
  {
   "cell_type": "code",
   "execution_count": null,
   "metadata": {
    "collapsed": true
   },
   "outputs": [],
   "source": []
  }
 ],
 "metadata": {
  "kernelspec": {
   "display_name": "Python 3",
   "language": "python",
   "name": "python3"
  },
  "language_info": {
   "codemirror_mode": {
    "name": "ipython",
    "version": 3
   },
   "file_extension": ".py",
   "mimetype": "text/x-python",
   "name": "python",
   "nbconvert_exporter": "python",
   "pygments_lexer": "ipython3",
   "version": "3.6.1"
  }
 },
 "nbformat": 4,
 "nbformat_minor": 2
}
