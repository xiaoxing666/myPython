{
 "cells": [
  {
   "cell_type": "markdown",
   "metadata": {},
   "source": [
    "# 环境安装\n",
    "- 推荐 VirtualBox + Ubuntu\n",
    "- 套件推荐 Anaconda + pycharm\n",
    "- 如果机器内存大于4G，推荐虚拟机下启动系统\n",
    "- 小于4G的话，推荐 Windows 下的 Anaconda + pycharm"
   ]
  },
  {
   "cell_type": "code",
   "execution_count": 3,
   "metadata": {},
   "outputs": [
    {
     "name": "stdout",
     "output_type": "stream",
     "text": [
      "Hello World!\n"
     ]
    }
   ],
   "source": [
    "# 代码的作用\n",
    "# 1.给人看\n",
    "# 2.给机器看\n",
    "# 3.注释是给人看的内容\n",
    "print('Hello World!') # 打印 Hello World"
   ]
  },
  {
   "cell_type": "markdown",
   "metadata": {},
   "source": [
    "# 注释\n",
    "- 机器不去执行注释内容\n",
    "- 注释一般用自然语言书写\n",
    "- 注释的写法：\n",
    "    - 行注释：以 # 号开头，可以单独行，也可以在代码后面加\n",
    "    - 块注释：好几行代码或者内容 三个单引号开始，三个单引号结束"
   ]
  },
  {
   "cell_type": "markdown",
   "metadata": {},
   "source": [
    "# 变量\n",
    "- 程序 = 数据结构 + 算法\n",
    "- 变量就是可以重复使用的一个量，或者叫一个代号\n",
    "- 变量命名规则\n",
    "    - 变量名可以包含数字，大小写字母，下划线或者更多，但是不推荐其他符号\n",
    "    - 数字不可以打头\n",
    "        - 4you ，5for 等都是不可以的\n",
    "        - you4，for5 是可以的\n",
    "    - 一般在python中，以下划线开头的内容具有特殊意义，不建议使用\n",
    "        - 比如 _age,_name 理论上都是可以，但是强烈不推荐，包括多个下划线开头都不推荐\n",
    "    - 大小写不一样，大小写敏感\n",
    "        - ForMan Forman 不是一个变量名称\n",
    "    - 推荐\n",
    "        - 推荐具有固定含义的英文单词或者缩写\n",
    "        - 驼峰命名法\n",
    "            - 名称以单词自动连接，且每个单词首字母大写\n",
    "                - 大驼峰，每个单词第一个字母大写\n",
    "                    - 在 Python 中，给类名用此法\n",
    "                    - MyFirstLove,IntOne\n",
    "                - 小驼峰，第一个字母小写，后面单词大写\n",
    "                    - myFirstLove ,intOne\n",
    "                - posix写法\n",
    "                    - 多个单词用下划线连接\n",
    "                    - 单词全部小写\n",
    "                    - my_first_love,int_one\n",
    "    - 保留字和关键字\n",
    "        - 变量命名必须避开，不能跟关键字和保留字重复\n",
    "        - class def break for等\n",
    "        "
   ]
  },
  {
   "cell_type": "code",
   "execution_count": 4,
   "metadata": {},
   "outputs": [
    {
     "name": "stdout",
     "output_type": "stream",
     "text": [
      "['False', 'None', 'True', 'and', 'as', 'assert', 'break', 'class', 'continue', 'def', 'del', 'elif', 'else', 'except', 'finally', 'for', 'from', 'global', 'if', 'import', 'in', 'is', 'lambda', 'nonlocal', 'not', 'or', 'pass', 'raise', 'return', 'try', 'while', 'with', 'yield']\n"
     ]
    }
   ],
   "source": [
    "# 查看关键字的方法\n",
    "import keyword #引入关键字模块\n",
    "#打印出系统关键字和保留字\n",
    "print(keyword.kwlist)"
   ]
  },
  {
   "cell_type": "markdown",
   "metadata": {},
   "source": [
    "## 变量声明\n",
    "- var_name = var_value   一个等号：赋值\n",
    "- var1 = var2 = var3 = var_value  \n",
    "- var1,var2,var3 = v1,v2,v3"
   ]
  },
  {
   "cell_type": "code",
   "execution_count": 6,
   "metadata": {},
   "outputs": [
    {
     "name": "stdout",
     "output_type": "stream",
     "text": [
      "123\n",
      "345\n",
      "678\n"
     ]
    }
   ],
   "source": [
    "age1,age2,age3 = 123,345,678\n",
    "print(age1)\n",
    "print(age2)\n",
    "print(age3)"
   ]
  },
  {
   "cell_type": "markdown",
   "metadata": {},
   "source": [
    "## 变量类型\n",
    "- 严格意义上讲，python只有一个类型\n",
    "- 标准数据一共六种\n",
    "    - 数字类型 Number\n",
    "    - 字符串类型 str\n",
    "    - 列表 List\n",
    "    - 元祖 tuple\n",
    "    - 字典 Dictionary\n",
    "    - 集合 set"
   ]
  },
  {
   "cell_type": "markdown",
   "metadata": {},
   "source": [
    "## 数字类型\n",
    "- 数字类型没有大小限制，多大都行\n",
    "### 整数\n",
    "- 没有小数部分，表示个数的数字\n",
    "- 自然数，0，负数\n",
    "- 整数分机制\n",
    "    - 二进制\n",
    "        - 计算机常用\n",
    "        - 是计算机唯一能直接理解的数字\n",
    "        - 表示为0b开头的0,1代码\n",
    "        - 例如 0b1101,0b1100\n",
    "    - 八进制\n",
    "        - 不常用\n",
    "        - 以0o开头的包含0-7的数字\n",
    "    - 十六进制\n",
    "        - 逢16进1\n",
    "        - 其实是每4个二进制表示一位16进制数\n",
    "        - 包含0-9，a-f\n",
    "        - 数字以0x开头表示\n",
    "    - 十进制\n"
   ]
  },
  {
   "cell_type": "code",
   "execution_count": 15,
   "metadata": {},
   "outputs": [
    {
     "name": "stdout",
     "output_type": "stream",
     "text": [
      "18\n",
      "18\n",
      "18\n",
      "18\n"
     ]
    }
   ],
   "source": [
    "age = 18 #十进制赋值\n",
    "print (age)\n",
    "age = 0b00010010 #二进制赋值\n",
    "print (age)\n",
    "age = 0o0022 #八进制赋值\n",
    "print (age)\n",
    "age = 0x0012 #十六进制赋值\n",
    "print (age)"
   ]
  },
  {
   "cell_type": "markdown",
   "metadata": {},
   "source": [
    "### 浮点数\n",
    "- 小数\n",
    "- 计算机里边表示浮点数可以有条件省略\n",
    "- 3.1415\n",
    "- 3.0\n",
    "- 3.省略0也可以\n",
    "- 0.5\n",
    "- .5   省略0也可以\n",
    "- 科学记数法\n",
    "    - 定义跟数学定义一样\n",
    "    - 写法是e/E 后面跟整数的10次幂\n",
    "    - 173.45 = 1.7345e2\n",
    "    - 0.2323 = 2323e-4"
   ]
  },
  {
   "cell_type": "code",
   "execution_count": 1,
   "metadata": {},
   "outputs": [
    {
     "name": "stdout",
     "output_type": "stream",
     "text": [
      "188\n",
      "0.2\n",
      "0.6\n"
     ]
    }
   ],
   "source": [
    "height = 188\n",
    "print (height)\n",
    "\n",
    "xiaoshu = 0.2\n",
    "print (xiaoshu)\n",
    "\n",
    "xiaoshu = .6\n",
    "print (xiaoshu)\n",
    "\n"
   ]
  },
  {
   "cell_type": "markdown",
   "metadata": {},
   "source": [
    "### 复数 complex\n",
    "- 定义跟数学一样\n",
    "- 一个由实部和虚部构成的数字\n",
    "- 虚部用 j/J 表示\n",
    "- 5+3j\n",
    "-3J"
   ]
  },
  {
   "cell_type": "markdown",
   "metadata": {},
   "source": [
    "### 布尔值\n",
    "- 表示真假的值\n",
    "- 只有两个值，True False，首字母大写！\n",
    "- 布尔值可以跟数字直接操作"
   ]
  },
  {
   "cell_type": "code",
   "execution_count": 21,
   "metadata": {},
   "outputs": [
    {
     "name": "stdout",
     "output_type": "stream",
     "text": [
      "19\n"
     ]
    }
   ],
   "source": [
    "#布尔值操作\n",
    "age = 18 + True\n",
    "print (age)"
   ]
  },
  {
   "cell_type": "markdown",
   "metadata": {},
   "source": [
    "## 字符串\n",
    "- 用来表示一串文字信息\n",
    "- 如何表示\n",
    "    - 单引号\n",
    "    - 双引号\n",
    "    - 三引号 （三个单引号或者三个双引号）\n",
    "- 单双引号交错使用"
   ]
  },
  {
   "cell_type": "code",
   "execution_count": 29,
   "metadata": {},
   "outputs": [
    {
     "name": "stdout",
     "output_type": "stream",
     "text": [
      "I love it\n",
      "我爱它\n",
      "<a style='color:red'>链接</a>\n",
      "可以表示多行\n",
      "哈哈哈这是第一行\n",
      "我爱它\n",
      "狗子\n",
      "你变了\n",
      "\n"
     ]
    }
   ],
   "source": [
    "love = 'I love it'\n",
    "print (love)\n",
    "\n",
    "love = \"我爱它\"\n",
    "print (love)\n",
    "\n",
    "# 单双引号交替使用的例子\n",
    "# <a style='color:red'>链接</a>\n",
    "html = \"<a style='color:red'>链接</a>\"\n",
    "htmls = '''可以表示多行\n",
    "哈哈哈这是第一行\n",
    "我爱它\n",
    "狗子\n",
    "你变了\n",
    "'''\n",
    "print (html)\n",
    "print (htmls)"
   ]
  },
  {
   "cell_type": "code",
   "execution_count": null,
   "metadata": {
    "collapsed": true
   },
   "outputs": [],
   "source": []
  }
 ],
 "metadata": {
  "kernelspec": {
   "display_name": "Python 3",
   "language": "python",
   "name": "python3"
  },
  "language_info": {
   "codemirror_mode": {
    "name": "ipython",
    "version": 3
   },
   "file_extension": ".py",
   "mimetype": "text/x-python",
   "name": "python",
   "nbconvert_exporter": "python",
   "pygments_lexer": "ipython3",
   "version": "3.6.1"
  }
 },
 "nbformat": 4,
 "nbformat_minor": 2
}
