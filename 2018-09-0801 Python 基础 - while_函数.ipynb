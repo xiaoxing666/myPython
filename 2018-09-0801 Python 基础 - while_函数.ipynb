{
 "cells": [
  {
   "cell_type": "markdown",
   "metadata": {},
   "source": [
    "# while 循环\n",
    "- 一个循环语句\n",
    "- 表示当某条件成立的时候，就循环\n",
    "- 不知道具体循环次数，但能确定循环成立条件的时候用 while 循环\n",
    "- while 语法：\n",
    "        \n",
    "        while 条件表达式:\n",
    "            语句块\n",
    "            \n"
   ]
  },
  {
   "cell_type": "code",
   "execution_count": 10,
   "metadata": {},
   "outputs": [
    {
     "name": "stdout",
     "output_type": "stream",
     "text": [
      "1年后本息合计:1.067\n",
      "2年后本息合计:1.1384889999999999\n",
      "3年后本息合计:1.2147677629999998\n",
      "4年后本息合计:1.2961572031209998\n",
      "5年后本息合计:1.3829997357301067\n",
      "6年后本息合计:1.4756607180240238\n",
      "7年后本息合计:1.5745299861316333\n",
      "8年后本息合计:1.6800234952024526\n",
      "9年后本息合计:1.7925850693810168\n",
      "10年后本息合计:1.9126882690295448\n",
      "11年后本息合计:2.040838383054524\n",
      "第11年翻了2倍啦\n"
     ]
    }
   ],
   "source": [
    "# 如果说年利率是6.7%，本利每年翻滚，则多少年后本钱会翻倍\n",
    "\n",
    "money = 1\n",
    "year = 0\n",
    "while money < 2:\n",
    "    money *= (1+0.067)\n",
    "    year += 1\n",
    "    print ('{0}年后本息合计:{1}'.format(year,money))\n",
    "else:\n",
    "    print ('第%s年翻了2倍啦'%year)"
   ]
  },
  {
   "cell_type": "markdown",
   "metadata": {},
   "source": [
    "# 函数\n",
    "- 代码的一种组织形式\n",
    "- 一个函数一般完成一项特定的功能\n",
    "- 函数使用\n",
    "    - 函数需要先定义\n",
    "    - 使用函数，俗称调用"
   ]
  },
  {
   "cell_type": "code",
   "execution_count": 15,
   "metadata": {},
   "outputs": [],
   "source": [
    "# 定义一个函数\n",
    "# 只是定义的话不会执行\n",
    "# 1.def 关键字，后跟一个空格\n",
    "# 2.函数名，自己定义，起名需要遵循命名规则\n",
    "# 3.后面括号和冒号不能省略，括号内的参数可以省略\n",
    "# 4.函数内的代码都要有缩进\n",
    "def fun():\n",
    "    print ('我是一个函数')"
   ]
  },
  {
   "cell_type": "code",
   "execution_count": 17,
   "metadata": {},
   "outputs": [
    {
     "name": "stdout",
     "output_type": "stream",
     "text": [
      "我是一个函数\n"
     ]
    }
   ],
   "source": [
    "# 调用(执行)函数\n",
    "# 直接函数名后面跟括号\n",
    "fun()"
   ]
  },
  {
   "cell_type": "markdown",
   "metadata": {},
   "source": [
    "## 函数的参数和返回值\n",
    "- 参数：负责给函数传递一些必要的数据或者信息\n",
    "    - 形参（形式参数）：在函数定义的时候用到的参数没有具体指，只会一个占位符，成为形参\n",
    "    - 实参（实际参数）：在调用函数的时候输入的值\n",
    "- 返回值：函数的执行结果\n",
    "    - 使用 return 关键字\n",
    "    - 如果没有 return ，默认返回一个 None\n",
    "    - 函数一旦执行 return 语句，就结束了"
   ]
  },
  {
   "cell_type": "code",
   "execution_count": 32,
   "metadata": {},
   "outputs": [
    {
     "name": "stdout",
     "output_type": "stream",
     "text": [
      "小星,你怎么啦！\n"
     ]
    }
   ],
   "source": [
    "# 参数的定义和使用\n",
    "# person 形参，只是一个符号，随便起\n",
    "def hello(person):\n",
    "    return '{0},你怎么啦！'.format(person)\n",
    "\n",
    "# 带参数的函数调用, name='小星' 作为实参传过去\n",
    "name = '小星'\n",
    "print (hello(name))   "
   ]
  },
  {
   "cell_type": "code",
   "execution_count": 38,
   "metadata": {},
   "outputs": [
    {
     "name": "stdout",
     "output_type": "stream",
     "text": [
      "小星,你怎么啦！\n"
     ]
    }
   ],
   "source": [
    "# return 案例\n",
    "def hello(person):\n",
    "    return '{0},你怎么啦！'.format(person)\n",
    "    print ('这句话及以后的内容都不会被执行！')\n",
    "    return '{0},这句不会被执行！'.format(person)\n",
    "    print ('这句话还是不会被执行！')\n",
    "\n",
    "# 带参数的函数调用, name='小星' 作为实参传过去\n",
    "name = '小星'\n",
    "print (hello(name)) "
   ]
  },
  {
   "cell_type": "code",
   "execution_count": 39,
   "metadata": {},
   "outputs": [
    {
     "name": "stdout",
     "output_type": "stream",
     "text": [
      "Help on built-in function print in module builtins:\n",
      "\n",
      "print(...)\n",
      "    print(value, ..., sep=' ', end='\\n', file=sys.stdout, flush=False)\n",
      "    \n",
      "    Prints the values to a stream, or to sys.stdout by default.\n",
      "    Optional keyword arguments:\n",
      "    file:  a file-like object (stream); defaults to the current sys.stdout.\n",
      "    sep:   string inserted between values, default a space.\n",
      "    end:   string appended after the last value, default a newline.\n",
      "    flush: whether to forcibly flush the stream.\n",
      "\n"
     ]
    }
   ],
   "source": [
    "# 查找函数的文档\n",
    "# 1.用 help 函数\n",
    "help(print)"
   ]
  },
  {
   "cell_type": "code",
   "execution_count": 58,
   "metadata": {},
   "outputs": [
    {
     "name": "stdout",
     "output_type": "stream",
     "text": [
      "1 * 1 = 1  2 * 1 = 2  3 * 1 = 3  4 * 1 = 4  5 * 1 = 5  6 * 1 = 6  7 * 1 = 7  8 * 1 = 8  9 * 1 = 9  \n",
      "2 * 2 = 4  3 * 2 = 6  4 * 2 = 8  5 * 2 = 10  6 * 2 = 12  7 * 2 = 14  8 * 2 = 16  9 * 2 = 18  \n",
      "3 * 3 = 9  4 * 3 = 12  5 * 3 = 15  6 * 3 = 18  7 * 3 = 21  8 * 3 = 24  9 * 3 = 27  \n",
      "4 * 4 = 16  5 * 4 = 20  6 * 4 = 24  7 * 4 = 28  8 * 4 = 32  9 * 4 = 36  \n",
      "5 * 5 = 25  6 * 5 = 30  7 * 5 = 35  8 * 5 = 40  9 * 5 = 45  \n",
      "6 * 6 = 36  7 * 6 = 42  8 * 6 = 48  9 * 6 = 54  \n",
      "7 * 7 = 49  8 * 7 = 56  9 * 7 = 63  \n",
      "8 * 8 = 64  9 * 8 = 72  \n",
      "9 * 9 = 81  \n"
     ]
    }
   ],
   "source": [
    "# 乘法表\n",
    "def chengFaBiao(row,col):\n",
    "    for i in range(1,row+1):\n",
    "        for j in range(i,col+1):\n",
    "            # print 函数打印完毕默认打完会换行，想不换行怎么整?\n",
    "            # 用 help 函数看 print 换行参数\n",
    "            print (str(j),'*',str(i),'=',i*j,end='  ')\n",
    "        print ()\n",
    "chengFaBiao(9,9)"
   ]
  },
  {
   "cell_type": "markdown",
   "metadata": {},
   "source": [
    "## 参数详解\n",
    "- [参考资料][http://www.cnblogs.com/bingabcd/p/6671368.html]\n",
    "- python 参考资料： headfirst python -> 零基础入门学习 python (小甲鱼) --> 学习 --> 后期腾讯公开课\n",
    "- 参数分类\n",
    "    - 普通参数\n",
    "    - 默认参数\n",
    "    - 关键字参数\n",
    "    - 收集参数\n",
    "\n",
    "- 普通参数\n",
    "    - 参见上面的例子\n",
    "    - 定义的时候直接定义变量变量名\n",
    "    - 调用的时候吧变量或者值放入指定位置\n",
    "        \n",
    "            def 函数名(参数1,参数2,……):\n",
    "                函数体\n",
    "\n",
    "            #调用\n",
    "                函数名(参数1,参数2,……)\n",
    "            \n",
    "            #调用的时候，具体指参考的是位置，按位置赋值\n",
    "            \n",
    "- 默认参数\n",
    "    - 形参拥有默认值\n",
    "    - 调用的时候，如果没有对应形参赋值，则使用默认值\n",
    "    \n",
    "            def 函数名(参数1=value1,参数2=value2,……):\n",
    "                函数体\n",
    "\n",
    "            #调用\n",
    "                函数名()\n",
    "            \n",
    "            #调用的时候，不带参数就默认使用value1,value2作为值\n",
    "           \n",
    "            "
   ]
  },
  {
   "cell_type": "code",
   "execution_count": 77,
   "metadata": {},
   "outputs": [
    {
     "name": "stdout",
     "output_type": "stream",
     "text": [
      "wanxiaoxing 23 male\n"
     ]
    }
   ],
   "source": [
    "# 默认参数示例\n",
    "def reg(name='wanxiaoxing',age='23',sex=\"male\"):\n",
    "    print (name,age,sex)\n",
    "reg()"
   ]
  },
  {
   "cell_type": "code",
   "execution_count": null,
   "metadata": {
    "collapsed": true
   },
   "outputs": [],
   "source": []
  }
 ],
 "metadata": {
  "kernelspec": {
   "display_name": "Python 3",
   "language": "python",
   "name": "python3"
  },
  "language_info": {
   "codemirror_mode": {
    "name": "ipython",
    "version": 3
   },
   "file_extension": ".py",
   "mimetype": "text/x-python",
   "name": "python",
   "nbconvert_exporter": "python",
   "pygments_lexer": "ipython3",
   "version": "3.6.1"
  }
 },
 "nbformat": 4,
 "nbformat_minor": 2
}
