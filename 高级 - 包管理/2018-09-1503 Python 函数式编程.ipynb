{
 "cells": [
  {
   "cell_type": "markdown",
   "metadata": {
    "collapsed": true
   },
   "source": [
    "# Python语言的高级特性"
   ]
  },
  {
   "cell_type": "markdown",
   "metadata": {},
   "source": [
    "## 函数式编程(FunctionalProgramming)\n",
    "- 基于lambda盐酸的一种编程方式\n",
    "\t- 程序中只有函数\n",
    "\t- 函数可以作为参数,同样可以作为返回值\n",
    "\t- 纯函数式编程语言:LISP,Haskell\n",
    "\t- python 函数式编程知识借鉴函数式编程的一些特点,可以理解成一半 Python 一半函数式编程\n",
    "\n",
    "- 需要:\n",
    "\t- 高阶函数\n",
    "\t- 返回函数\n",
    "\t- 匿名函数\n",
    "\t- 装饰器\n",
    "\t- 偏函数\n"
   ]
  },
  {
   "cell_type": "markdown",
   "metadata": {},
   "source": [
    "### lambda 表达式\n",
    "- 函数:最大程度复用代码\n",
    "\t- 存在问题,如果函数很短小,会很啰嗦,浪费资源\n",
    "\t- 还不易阅读代码\n",
    "- lambda表达式(匿名函数):\n",
    "\t- 一个表达式,函数体相对简单\n",
    "\t- 不是一个代码块,仅仅是一个表达式\n",
    "\t- 可以有参数,也可以由多个参数,用逗号隔开"
   ]
  },
  {
   "cell_type": "code",
   "execution_count": 136,
   "metadata": {},
   "outputs": [],
   "source": [
    "# 小 函数举例\n",
    "\n",
    "def printA():\n",
    "    print ('AAAAAAA')\n",
    "printA()"
   ]
  },
  {
   "cell_type": "code",
   "execution_count": 137,
   "metadata": {},
   "outputs": [
    {
     "name": "stdout",
     "output_type": "stream",
     "text": [
      "8900\n"
     ]
    }
   ],
   "source": [
    "# lambda 表达式的用法\n",
    "# 1.用 lambda 开头\n",
    "# 2.紧跟一定的参数\n",
    "# 3.参数后面用冒号和表达式主题隔开\n",
    "# 4.只是一个表达式,所以没有 return\n",
    "\n",
    "# 计算一个数的100倍\n",
    "stm = lambda x:100 * x\n",
    "# 使用上和函数调用一毛一样\n",
    "print (stm(89))"
   ]
  },
  {
   "cell_type": "code",
   "execution_count": 138,
   "metadata": {},
   "outputs": [
    {
     "name": "stdout",
     "output_type": "stream",
     "text": [
      "52\n"
     ]
    }
   ],
   "source": [
    "stm2 = lambda x,y,z:x+10*y+5*z\n",
    "print (stm2(2,3,4))"
   ]
  },
  {
   "cell_type": "markdown",
   "metadata": {},
   "source": [
    "### 高阶函数\n",
    "- 把函数作为参数使用的函数,叫高阶函数\n",
    "- 函数名称是变量\n",
    "- 既然函数名称是变量,则应该可以被当做参数传入另一个函数"
   ]
  },
  {
   "cell_type": "code",
   "execution_count": 139,
   "metadata": {},
   "outputs": [
    {
     "name": "stdout",
     "output_type": "stream",
     "text": [
      "200\n60000\n200\n"
     ]
    }
   ],
   "source": [
    "# 高阶函数举例\n",
    "# funA 是普通函数\n",
    "def funA(a):\n",
    "    return a*100\n",
    "\n",
    "# 再写一个函数,把传入参数乘以300倍\n",
    "def funB(a):\n",
    "    return funA(a)*300\n",
    "print (funA(2))\n",
    "print (funB(2))\n",
    "\n",
    "# 写一个高阶函数\n",
    "def funC(n,f):\n",
    "    # 假定函数是把 n 乘以 100 倍\n",
    "    return f(n)\n",
    "print (funC(2,funA))\n",
    "\n",
    "# 比较 funC 和 funB ,显然 funC 的写法要优于 funB"
   ]
  },
  {
   "cell_type": "markdown",
   "metadata": {},
   "source": [
    "### 系统高阶函数-map\n",
    "- 原意是映射,即把集合或者列表的元素,每一个元素都按一定的规则进行操作,生成一个新的列表或者集合\n",
    "- map函数就是系统提供的具有映射功能的函数,返回值是一个迭代对象"
   ]
  },
  {
   "cell_type": "code",
   "execution_count": 140,
   "metadata": {},
   "outputs": [
    {
     "name": "stdout",
     "output_type": "stream",
     "text": [
      "1\n20\n3\n40\n5\n60\n7\n80\n9\n"
     ]
    }
   ],
   "source": [
    "# map 举例\n",
    "# help(map)\n",
    "lis = [1,2,3,4,5,6,7,8,9]\n",
    "def funA(a):\n",
    "    if a%2 ==0:\n",
    "        return a*10\n",
    "    else:\n",
    "        return a\n",
    "lis2 = map(funA,lis)\n",
    "for i in lis2:\n",
    "    print (i)\n"
   ]
  },
  {
   "cell_type": "markdown",
   "metadata": {},
   "source": [
    "### reduce\n",
    "- 把一个可迭代对象最后归并成一个结果\n",
    "- 对于作为参数的函数要求:必须 2 个参数,必须有返回结果\n",
    "- reduce 需要导入 functools 包"
   ]
  },
  {
   "cell_type": "code",
   "execution_count": 141,
   "metadata": {},
   "outputs": [
    {
     "name": "stdout",
     "output_type": "stream",
     "text": [
      "45\n"
     ]
    }
   ],
   "source": [
    "from functools import reduce\n",
    "\n",
    "# 定义一个操作函数\n",
    "# 加入操作函数只是相加\n",
    "lis = [1,2,3,4,5,6,7,8,9]\n",
    "def add(x,y):\n",
    "    return x+y\n",
    "\n",
    "result = reduce(add,lis)\n",
    "# 先执行 1+2,返回3\n",
    "# 再用返回的3+3,返回6\n",
    "# 再用返回的6+4,返回10\n",
    "# ....\n",
    "print (result)"
   ]
  },
  {
   "cell_type": "code",
   "execution_count": 143,
   "metadata": {},
   "outputs": [
    {
     "name": "stdout",
     "output_type": "stream",
     "text": [
      "1\n"
     ]
    }
   ],
   "source": [
    "def funA(a):\n",
    "    for i in a:\n",
    "        if i%2 ==0:\n",
    "            return i*100\n",
    "        else:\n",
    "            return i\n",
    "\n",
    "lis = [1,2,3,4,5,6,7,8,9]\n",
    "def funB(l,f):\n",
    "    print (f(l))\n",
    "funB(lis,funA)\n",
    "\n",
    "# 如何返回一个新列表，而不是一个值？？(map无法实现)"
   ]
  },
  {
   "cell_type": "markdown",
   "metadata": {},
   "source": [
    "### filter 函数\n",
    "- 过滤函数： 对一组数据进行过滤，符合条件的数据会生成一个新的列表并返回\n",
    "- 跟 map 相比较\n",
    "\t- 相同：\n",
    "\t\t- 都对列表的每一个元素逐一进行操作\n",
    "\t- 不同： \n",
    "\t\t- map 会生成跟原来数据对应的新队列，参考上述例子，会输出很多歌None\n",
    "\t\t- filter 不一定，只有符合条件的才会进入新的数据集合\n",
    "\t- filter 函数怎么写\n",
    "\t\t- 利用给定函数进行判断\n",
    "\t\t- 返回值一定是个布尔值\n",
    "\t\t- 调用格式：filter（f,date)\n"
   ]
  },
  {
   "cell_type": "code",
   "execution_count": 144,
   "metadata": {},
   "outputs": [
    {
     "name": "stdout",
     "output_type": "stream",
     "text": [
      "2\n4\n6\n8\n"
     ]
    }
   ],
   "source": [
    "# 注意：返回值一定是个布尔值（True/False），所以不能进行运算，不能 return a*100\n",
    "def funA(a):\n",
    "    if a%2 ==0:\n",
    "        return True\n",
    "\n",
    "lis = [1,2,3,4,5,6,7,8,9]\n",
    "lis2 =  filter(funA,lis)\n",
    "for i in lis2:\n",
    "    print (i)"
   ]
  },
  {
   "cell_type": "markdown",
   "metadata": {},
   "source": [
    "### 高阶函数 - 排序\n",
    "- 把一个序列按照给定算法进行排序\n",
    "- key ： 在排序前对每一个元素进行 key 函数运算\n",
    "- python2 和 python3 相差巨大"
   ]
  },
  {
   "cell_type": "code",
   "execution_count": 145,
   "metadata": {
    "collapsed": true
   },
   "outputs": [
    {
     "name": "stdout",
     "output_type": "stream",
     "text": [
      "[78, 65, 45, 23, 23, 12, 7, 5, 4, 3, 2]\n"
     ]
    }
   ],
   "source": [
    "# help(sorted)\n",
    "# 排序案例 - 1\n",
    "a = [23,45,4,12,5,65,3,7,78,23,2]\n",
    "al = sorted(a,reverse=True)\n",
    "print (al)"
   ]
  },
  {
   "cell_type": "code",
   "execution_count": 146,
   "metadata": {},
   "outputs": [
    {
     "name": "stdout",
     "output_type": "stream",
     "text": [
      "[-2, 3, 4, -5, 7, 12, 23, 23, -45, 65, -78]\n"
     ]
    }
   ],
   "source": [
    "# 排序案例 - 2\n",
    "# key=abs 绝对值排序\n",
    "a = [23,-45,4,12,-5,65,3,7,-78,23,-2]\n",
    "al = sorted(a,key=abs)\n",
    "print (al)"
   ]
  },
  {
   "cell_type": "code",
   "execution_count": 147,
   "metadata": {},
   "outputs": [
    {
     "name": "stdout",
     "output_type": "stream",
     "text": [
      "['Cwan', 'Zxing', 'wan', 'xiao', 'xing', 'yxiao']\n"
     ]
    }
   ],
   "source": [
    "# 排序案例 - 3\n",
    "# 字符串排序\n",
    "a = ['wan','xiao','xing','Cwan','yxiao','Zxing']\n",
    "al = sorted(a)\n",
    "print (al)"
   ]
  },
  {
   "cell_type": "markdown",
   "metadata": {},
   "source": [
    "## 返回函数\n",
    "- 函数可以返回具体的值\n",
    "- 也可以返回一个函数作为结果"
   ]
  },
  {
   "cell_type": "code",
   "execution_count": 148,
   "metadata": {},
   "outputs": [
    {
     "name": "stdout",
     "output_type": "stream",
     "text": [
      "这是一个函数myF\nNone\n"
     ]
    }
   ],
   "source": [
    "# 定义一个普通函数\n",
    "\n",
    "def myF(a):\n",
    "    print ('这是一个函数myF')\n",
    "    return None\n",
    "a = myF(199)\n",
    "print (a) #因为返回值是None"
   ]
  },
  {
   "cell_type": "code",
   "execution_count": 149,
   "metadata": {},
   "outputs": [
    {
     "name": "stdout",
     "output_type": "stream",
     "text": [
      "这是一个函数myF3\n<function myF2.<locals>.myF3 at 0x0000018F245B41E0>\n"
     ]
    }
   ],
   "source": [
    "# 函数作为返回值返回,被返回的函数在函数体内定义\n",
    "\n",
    "def myF2():\n",
    "    def myF3():\n",
    "        print ('这是一个函数myF3')\n",
    "        return 3\n",
    "    return myF3\n",
    "\n",
    "f3 = myF2()\n",
    "f3()\n",
    "print (f3)"
   ]
  },
  {
   "cell_type": "code",
   "execution_count": 150,
   "metadata": {},
   "outputs": [
    {
     "name": "stdout",
     "output_type": "stream",
     "text": [
      "270\n"
     ]
    }
   ],
   "source": [
    "# 复杂一点的返回函数的例子\n",
    "# args:参数列表\n",
    "# myF5 使用率 myF4 的变量\n",
    "def myF4(*args):\n",
    "    def myF5():\n",
    "        result = 0\n",
    "        for i in args:\n",
    "            result += i\n",
    "        return result\n",
    "    return myF5\n",
    "    \n",
    "f4 = myF4(12,34,56,78,90)\n",
    "print (f4())"
   ]
  },
  {
   "cell_type": "markdown",
   "metadata": {},
   "source": [
    "## 闭包 (closure)\n",
    "- 当一个函数在内部定义函数,并且内部的函数应用外部函数的参数或者局部变量,当内部函数被当做返回值的时候,相关参数和变量保存在返回的函数中,这种结果叫做闭包.\n",
    "- 上述的F4 就是一个标准闭包结构"
   ]
  },
  {
   "cell_type": "code",
   "execution_count": 151,
   "metadata": {},
   "outputs": [
    {
     "name": "stdout",
     "output_type": "stream",
     "text": [
      "9\n9\n9\n"
     ]
    }
   ],
   "source": [
    "# 闭包常见的坑\n",
    "def count():\n",
    "    # 定义列表,列表里存放的是定义的函数\n",
    "    fs = []\n",
    "    for i in range(1,4):\n",
    "        # 定义一个函数,使用外部变量 i\n",
    "        # f 是一个闭包函数\n",
    "        def f():\n",
    "            return i*i\n",
    "        fs.append(f)\n",
    "    return fs\n",
    "for i in count():\n",
    "    print (i())"
   ]
  },
  {
   "cell_type": "markdown",
   "metadata": {},
   "source": [
    "### 出现的问题:\n",
    "- 造成上述状况的原因是,返回函数引用了变量 i,i并非立即执行,而是等到三个函数都返回的时候才统一调用,此时 i 已经变成了 3,都返回的是 3*3\n",
    "- 此问题描述成:返回闭包时,返回函数不能引用任何循环变量\n",
    "- 解决方案:再创建一个函数,用该函数的参数绑定循环变量的当前值,无论该循环变量以后如何改变,已经绑定的函数参数值不再改变"
   ]
  },
  {
   "cell_type": "code",
   "execution_count": 152,
   "metadata": {},
   "outputs": [
    {
     "name": "stdout",
     "output_type": "stream",
     "text": [
      "1\n4\n9\n16\n25\n36\n49\n64\n"
     ]
    }
   ],
   "source": [
    "# 修改上述参数\n",
    "def count():\n",
    "    fs = []\n",
    "  \n",
    "    def f(j):\n",
    "        def g():\n",
    "            return j*j\n",
    "        return g\n",
    "\n",
    "\n",
    "    for i in range(1,9):\n",
    "        fs.append(f(i)) \n",
    "    return fs  \n",
    "for i in count():\n",
    "    print (i())"
   ]
  },
  {
   "cell_type": "markdown",
   "metadata": {},
   "source": [
    "## 装饰器"
   ]
  },
  {
   "cell_type": "code",
   "execution_count": 153,
   "metadata": {},
   "outputs": [
    {
     "name": "stdout",
     "output_type": "stream",
     "text": [
      "hello world!\nhello world!\n1714301570856\n1714301570856\nhello\nhello\n"
     ]
    }
   ],
   "source": [
    "def hello():\n",
    "    print ('hello world!')\n",
    "hello()\n",
    "f = hello\n",
    "f()\n",
    "\n",
    "# 检测是不是一个 id\n",
    "print (id(hello))\n",
    "print (id(f))\n",
    "print (f.__name__)\n",
    "print (hello.__name__)"
   ]
  },
  {
   "cell_type": "code",
   "execution_count": 154,
   "metadata": {},
   "outputs": [],
   "source": [
    "# 现在有新的需求:\n",
    "# 对 hello 功能进行扩展,每次打印 hello 之前打印系统时间\n",
    "# 不修改 hello 函数代码\n",
    "# 使用装饰器"
   ]
  },
  {
   "cell_type": "markdown",
   "metadata": {},
   "source": [
    "### 装饰器 (Decretor)\n",
    "- 允许向一个现有的对象添加新的功能,同时又不改变其结构。本质上装饰器是一个高阶函数\n",
    "- 装饰器的使用: 使用 @ 语法,在函数前面加一个 @ + 函数名\n"
   ]
  },
  {
   "cell_type": "code",
   "execution_count": 155,
   "metadata": {},
   "outputs": [],
   "source": [
    "import time\n",
    "\n",
    "# 高阶函数,以函数作为参数\n",
    "def printTime(f):\n",
    "    def wrapper(*args,**kwargs):\n",
    "        print (time.ctime())\n",
    "        return f(*args,**kwargs)\n",
    "    return wrapper"
   ]
  },
  {
   "cell_type": "code",
   "execution_count": 156,
   "metadata": {},
   "outputs": [
    {
     "name": "stdout",
     "output_type": "stream",
     "text": [
      "Sun Sep 16 22:48:17 2018\n你好呀~~\n"
     ]
    }
   ],
   "source": [
    "# 上面定义了装饰器,使用的时候需要用到 @ \n",
    "@printTime\n",
    "def hello():\n",
    "    print ('你好呀~~')\n",
    "    \n",
    "hello()"
   ]
  },
  {
   "cell_type": "code",
   "execution_count": 157,
   "metadata": {},
   "outputs": [
    {
     "name": "stdout",
     "output_type": "stream",
     "text": [
      "Sun Sep 16 22:48:17 2018\nSun Sep 16 22:48:17 2018\n今天很开心\n"
     ]
    }
   ],
   "source": [
    "# 装饰器的好处是可以装饰任何函数\n",
    "# 一旦被装饰直接把功能添加到定义函数的功能上\n",
    "@printTime\n",
    "def hello2():\n",
    "    print ('今天很开心')\n",
    "\n",
    "# 可以手动调用装饰器,也可以使用 @ 语法糖\n",
    "printTime(hello2)()\n",
    "\n",
    "# 手动执行为什么会打印出两次?????"
   ]
  },
  {
   "cell_type": "markdown",
   "metadata": {},
   "source": [
    "### 偏函数\n"
   ]
  },
  {
   "cell_type": "code",
   "execution_count": 158,
   "metadata": {},
   "outputs": [
    {
     "data": {
      "text/plain": [
       "5349"
      ]
     },
     "execution_count": 158,
     "metadata": {},
     "output_type": "execute_result"
    }
   ],
   "source": [
    "# 把字符串转化成十进制数字\n",
    "# help(int)\n",
    "# 把八进制的12345 转化成十进制的整数\n",
    "int('12345',base=8)\n"
   ]
  },
  {
   "cell_type": "code",
   "execution_count": 159,
   "metadata": {},
   "outputs": [
    {
     "name": "stdout",
     "output_type": "stream",
     "text": [
      "4095\n"
     ]
    }
   ],
   "source": [
    "# 新建一个函数,此函数是默认输入的字符串是16进制数字\n",
    "# 返回十进制的数字\n",
    "def int16(x):\n",
    "    return int(x,base=16)\n",
    "print (int16('FFF'))"
   ]
  },
  {
   "cell_type": "markdown",
   "metadata": {},
   "source": [
    "### 偏函数\n",
    "- 参数固定的函数,相当于一个有特定参数的函数体\n",
    "- functools.partial 的作用是,把一个函数某些函数固定,返回一个新函数"
   ]
  },
  {
   "cell_type": "code",
   "execution_count": 160,
   "metadata": {},
   "outputs": [
    {
     "name": "stdout",
     "output_type": "stream",
     "text": [
      "4095\n"
     ]
    }
   ],
   "source": [
    "import functools\n",
    "int16 = functools.partial(int,base=16)\n",
    "print (int16('FFF'))"
   ]
  },
  {
   "cell_type": "markdown",
   "metadata": {},
   "source": [
    "# zip\n",
    "- 把两个可迭代内容生成一个可迭代的tuple元素类型组成的内容"
   ]
  },
  {
   "cell_type": "code",
   "execution_count": 163,
   "metadata": {},
   "outputs": [
    {
     "name": "stdout",
     "output_type": "stream",
     "text": [
      "(1, 11)\n(2, 22)\n(3, 33)\n(4, 44)\n(5, 55)\n"
     ]
    }
   ],
   "source": [
    "# zip 案例\n",
    "list01 = [1,2,3,4,5]\n",
    "list02 = [11,22,33,44,55]\n",
    "z = zip(list01,list02)\n",
    "for i in z:\n",
    "    print (i)"
   ]
  },
  {
   "cell_type": "markdown",
   "metadata": {},
   "source": [
    "# enumerate\n",
    "- 跟 zip 比较相似\n",
    "- 对可迭代对象里的每一个元素,配上一个索引,然后索引和元素构成新的 tuple"
   ]
  },
  {
   "cell_type": "code",
   "execution_count": 176,
   "metadata": {},
   "outputs": [
    {
     "name": "stdout",
     "output_type": "stream",
     "text": [
      "(10086, 11)\n(10087, 22)\n(10088, 33)\n(10089, 44)\n(10090, 55)\n"
     ]
    }
   ],
   "source": [
    "\n",
    "list03 = [11,22,33,44,55]\n",
    "e = enumerate(list03,start=10086)\n",
    "for i in e:\n",
    "    print (i)"
   ]
  },
  {
   "cell_type": "markdown",
   "metadata": {},
   "source": [
    "# collections 模块\n",
    "- namedtuple\n",
    "- deque"
   ]
  },
  {
   "cell_type": "markdown",
   "metadata": {},
   "source": [
    "### namedtuple\n",
    "- tuple 类型\n",
    "- 是一个可命名的 tuple"
   ]
  },
  {
   "cell_type": "code",
   "execution_count": 177,
   "metadata": {},
   "outputs": [
    {
     "name": "stdout",
     "output_type": "stream",
     "text": [
      "11\n"
     ]
    }
   ],
   "source": [
    "import collections\n",
    "\n",
    "# help(collections.namedtuple)\n",
    "Point = collections.namedtuple('Point',['x','y'])\n",
    "p = Point(11,22)\n",
    "print (p.x)"
   ]
  },
  {
   "cell_type": "code",
   "execution_count": 182,
   "metadata": {},
   "outputs": [
    {
     "name": "stdout",
     "output_type": "stream",
     "text": [
      "Circle(x=100, y=150, r=50)\n<class 'type'>\nTrue\n"
     ]
    }
   ],
   "source": [
    "Circle = collections.namedtuple('Circle',['x','y','r'])\n",
    "c = Circle(100,150,50)\n",
    "print (c)\n",
    "print (type(Circle))\n",
    "print (isinstance(c,Circle))"
   ]
  },
  {
   "cell_type": "markdown",
   "metadata": {},
   "source": [
    "# deque\n",
    "- help(collections.deque)\n",
    "- 比较方便地解决了频繁删除插入带来的效率问题"
   ]
  },
  {
   "cell_type": "code",
   "execution_count": 193,
   "metadata": {},
   "outputs": [
    {
     "name": "stdout",
     "output_type": "stream",
     "text": [
      "deque(['www', 'we', 'sf', 'fw', 'zx', 'et', 'zw', 'xx'])\n"
     ]
    }
   ],
   "source": [
    "d = collections.deque(['we','sf','fw','zx','et','zw'])\n",
    "d.append('xx')\n",
    "d.appendleft('www')\n",
    "\n",
    "print(d)"
   ]
  },
  {
   "cell_type": "markdown",
   "metadata": {},
   "source": [
    "# defaultdict\n",
    "- 当直接读取 dict 不存在的属性时,直接返回默认值"
   ]
  },
  {
   "cell_type": "code",
   "execution_count": 228,
   "metadata": {},
   "outputs": [
    {
     "name": "stdout",
     "output_type": "stream",
     "text": [
      "male\n"
     ]
    }
   ],
   "source": [
    "#help(collections.defaultdict)\n",
    "from collections import defaultdict\n",
    "\n",
    "func = lambda :'下标超出范围啦!'\n",
    "d = defaultdict(func)\n",
    "d ={ 'name':'wanxiaoxing','age':19,'sex':'male'}\n",
    "print (d['sex'])"
   ]
  },
  {
   "cell_type": "markdown",
   "metadata": {},
   "source": [
    "# Counter\n",
    "- 统计字符串个数"
   ]
  },
  {
   "cell_type": "code",
   "execution_count": 234,
   "metadata": {},
   "outputs": [
    {
     "name": "stdout",
     "output_type": "stream",
     "text": [
      "Counter({'d': 6, 'g': 6, 'a': 5, 's': 5, 'h': 4, 'r': 3, 'e': 3, 'w': 2, 'q': 2, 'f': 1, 'y': 1, 'u': 1, 't': 1})\n"
     ]
    }
   ],
   "source": [
    "from collections import Counter\n",
    "c = Counter('asafsdghrwqegeryurhsdagtqaedsaddgshghgdw')\n",
    "print (c)"
   ]
  },
  {
   "cell_type": "code",
   "execution_count": 236,
   "metadata": {},
   "outputs": [
    {
     "name": "stdout",
     "output_type": "stream",
     "text": [
      "Counter({'wan': 2, 'xiao': 2, 'xiaox': 1, 'xx,': 1})\n"
     ]
    }
   ],
   "source": [
    "s = ['wan','xiaox','xiao','xx,','wan','xiao']\n",
    "print (Counter(s))"
   ]
  },
  {
   "cell_type": "code",
   "execution_count": null,
   "metadata": {},
   "outputs": [],
   "source": []
  }
 ],
 "metadata": {
  "kernelspec": {
   "display_name": "Python 2",
   "language": "python",
   "name": "python2"
  },
  "language_info": {
   "codemirror_mode": {
    "name": "ipython",
    "version": 2
   },
   "file_extension": ".py",
   "mimetype": "text/x-python",
   "name": "python",
   "nbconvert_exporter": "python",
   "pygments_lexer": "ipython2",
   "version": "2.7.6"
  }
 },
 "nbformat": 4,
 "nbformat_minor": 0
}
