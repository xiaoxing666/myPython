{
 "cells": [
  {
   "cell_type": "markdown",
   "metadata": {
    "collapsed": true
   },
   "source": [
    "# Python语言的高级特性"
   ]
  },
  {
   "cell_type": "markdown",
   "metadata": {},
   "source": [
    "## 函数式编程(FunctionalProgramming)\n",
    "- 基于lambda盐酸的一种编程方式\n",
    "\t- 程序中只有函数\n",
    "\t- 函数可以作为参数,同样可以作为返回值\n",
    "\t- 纯函数式编程语言:LISP,Haskell\n",
    "\t- python 函数式编程知识借鉴函数式编程的一些特点,可以理解成一半 Python 一半函数式编程\n",
    "\n",
    "- 需要:\n",
    "\t- 高阶函数\n",
    "\t- 返回函数\n",
    "\t- 匿名函数\n",
    "\t- 装饰器\n",
    "\t- 偏函数\n"
   ]
  },
  {
   "cell_type": "markdown",
   "metadata": {},
   "source": [
    "### lambda 表达式\n",
    "- 函数:最大程度复用代码\n",
    "\t- 存在问题,如果函数很短小,会很啰嗦,浪费资源\n",
    "\t- 还不易阅读代码\n",
    "- lambda表达式(匿名函数):\n",
    "\t- 一个表达式,函数体相对简单\n",
    "\t- 不是一个代码块,仅仅是一个表达式\n",
    "\t- 可以有参数,也可以由多个参数,用逗号隔开"
   ]
  },
  {
   "cell_type": "code",
   "execution_count": 1,
   "metadata": {},
   "outputs": [
    {
     "name": "stdout",
     "output_type": "stream",
     "text": [
      "AAAAAAA\n"
     ]
    }
   ],
   "source": [
    "# 小 函数举例\n",
    "\n",
    "def printA():\n",
    "    print ('AAAAAAA')\n",
    "printA()"
   ]
  },
  {
   "cell_type": "code",
   "execution_count": 8,
   "metadata": {},
   "outputs": [
    {
     "name": "stdout",
     "output_type": "stream",
     "text": [
      "8900\n"
     ]
    }
   ],
   "source": [
    "# lambda 表达式的用法\n",
    "# 1.用 lambda 开头\n",
    "# 2.紧跟一定的参数\n",
    "# 3.参数后面用冒号和表达式主题隔开\n",
    "# 4.只是一个表达式,所以没有 return\n",
    "\n",
    "# 计算一个数的100倍\n",
    "stm = lambda x:100 * x\n",
    "# 使用上和函数调用一毛一样\n",
    "print (stm(89))"
   ]
  },
  {
   "cell_type": "code",
   "execution_count": 7,
   "metadata": {},
   "outputs": [
    {
     "name": "stdout",
     "output_type": "stream",
     "text": [
      "52\n"
     ]
    }
   ],
   "source": [
    "stm2 = lambda x,y,z:x+10*y+5*z\n",
    "print (stm2(2,3,4))"
   ]
  },
  {
   "cell_type": "markdown",
   "metadata": {},
   "source": [
    "### 高阶函数\n",
    "- 把函数作为参数使用的函数,叫高阶函数\n",
    "- 函数名称是变量\n",
    "- 既然函数名称是变量,则应该可以被当做参数传入另一个函数"
   ]
  },
  {
   "cell_type": "code",
   "execution_count": 16,
   "metadata": {},
   "outputs": [
    {
     "name": "stdout",
     "output_type": "stream",
     "text": [
      "200\n60000\n200\n"
     ]
    }
   ],
   "source": [
    "# 高阶函数举例\n",
    "# funA 是普通函数\n",
    "def funA(a):\n",
    "    return a*100\n",
    "\n",
    "# 再写一个函数,把传入参数乘以300倍\n",
    "def funB(a):\n",
    "    return funA(a)*300\n",
    "print (funA(2))\n",
    "print (funB(2))\n",
    "\n",
    "# 写一个高阶函数\n",
    "def funC(n,f):\n",
    "    # 假定函数是把 n 乘以 100 倍\n",
    "    return f(n)\n",
    "print (funC(2,funA))\n",
    "\n",
    "# 比较 funC 和 funB ,显然 funC 的写法要优于 funB"
   ]
  },
  {
   "cell_type": "markdown",
   "metadata": {},
   "source": [
    "### 系统高阶函数-map\n",
    "- 原意是映射,即把集合或者列表的元素,每一个元素都按一定的规则进行操作,生成一个新的列表或者集合\n",
    "- map函数就是系统提供的具有映射功能的函数,返回值是一个迭代对象"
   ]
  },
  {
   "cell_type": "code",
   "execution_count": 30,
   "metadata": {},
   "outputs": [
    {
     "name": "stdout",
     "output_type": "stream",
     "text": [
      "1\n20\n3\n40\n5\n60\n7\n80\n9\n"
     ]
    }
   ],
   "source": [
    "# map 举例\n",
    "# help(map)\n",
    "lis = [1,2,3,4,5,6,7,8,9]\n",
    "def funA(a):\n",
    "    if a%2 ==0:\n",
    "        return a*10\n",
    "    else:\n",
    "        return a\n",
    "lis2 = map(funA,lis)\n",
    "for i in lis2:\n",
    "    print (i)\n"
   ]
  },
  {
   "cell_type": "markdown",
   "metadata": {},
   "source": [
    "### reduce\n",
    "- 把一个可迭代对象最后归并成一个结果\n",
    "- 对于作为参数的函数要求:必须 2 个参数,必须有返回结果\n",
    "- reduce 需要导入 functools 包"
   ]
  },
  {
   "cell_type": "code",
   "execution_count": 34,
   "metadata": {},
   "outputs": [
    {
     "name": "stdout",
     "output_type": "stream",
     "text": [
      "45\n"
     ]
    }
   ],
   "source": [
    "from functools import reduce\n",
    "\n",
    "# 定义一个操作函数\n",
    "# 加入操作函数只是相加\n",
    "lis = [1,2,3,4,5,6,7,8,9]\n",
    "def add(x,y):\n",
    "    return x+y\n",
    "\n",
    "result = reduce(add,lis)\n",
    "# 先执行 1+2,返回3\n",
    "# 再用返回的3+3,返回6\n",
    "# 再用返回的6+4,返回10\n",
    "# ....\n",
    "print (result)"
   ]
  },
  {
   "cell_type": "code",
   "execution_count": null,
   "metadata": {},
   "outputs": [],
   "source": []
  }
 ],
 "metadata": {
  "kernelspec": {
   "display_name": "Python 2",
   "language": "python",
   "name": "python2"
  },
  "language_info": {
   "codemirror_mode": {
    "name": "ipython",
    "version": 2
   },
   "file_extension": ".py",
   "mimetype": "text/x-python",
   "name": "python",
   "nbconvert_exporter": "python",
   "pygments_lexer": "ipython2",
   "version": "2.7.6"
  }
 },
 "nbformat": 4,
 "nbformat_minor": 0
}
