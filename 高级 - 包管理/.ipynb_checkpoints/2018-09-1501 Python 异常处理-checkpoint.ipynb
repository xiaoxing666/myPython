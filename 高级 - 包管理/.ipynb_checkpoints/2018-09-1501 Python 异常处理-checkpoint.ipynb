{
 "cells": [
  {
   "cell_type": "markdown",
   "metadata": {
    "collapsed": true
   },
   "source": [
    "# 异常\n",
    "- 广义上的错误分为错误和异常\n",
    "- 错误指的是可以认为避免\n",
    "- 异常是指语法逻辑正确的前提下,出现的问题\n",
    "- 在 python 里异常是一个类,可以处理和使用"
   ]
  },
  {
   "cell_type": "markdown",
   "metadata": {},
   "source": [
    "# 异常的分类\n",
    "        异常名称 描述\n",
    "        BaseException 所有异常的基类\n",
    "        SystemExit 解释器请求退出\n",
    "        KeyboardInterrupt 用户中断执行(通常是输入^C)\n",
    "        Exception 常规错误的基类\n",
    "        StopIteration 迭代器没有更多的值\n",
    "        GeneratorExit 生成器(generator)发生异常来通知退出\n",
    "        StandardError 所有的内建标准异常的基类\n",
    "        ArithmeticError 所有数值计算错误的基类\n",
    "        FloatingPointError 浮点计算错误\n",
    "        OverflowError 数值运算超出最大限制\n",
    "        ZeroDivisionError 除(或取模)零 (所有数据类型)\n",
    "        AssertionError 断言语句失败\n",
    "        AttributeError 对象没有这个属性\n",
    "        EOFError 没有内建输入,到达EOF 标记\n",
    "        EnvironmentError 操作系统错误的基类\n",
    "        IOError 输入/输出操作失败\n",
    "        OSError 操作系统错误\n",
    "        WindowsError 系统调用失败\n",
    "        ImportError 导入模块/对象失败\n",
    "        LookupError 无效数据查询的基类\n",
    "        IndexError 序列中没有此索引(index)\n",
    "        KeyError 映射中没有这个键\n",
    "        MemoryError 内存溢出错误(对于Python 解释器不是致命的)\n",
    "        NameError 未声明/初始化对象 (没有属性)\n",
    "        UnboundLocalError 访问未初始化的本地变量\n",
    "        ReferenceError 弱引用(Weak reference)试图访问已经垃圾回收了的对象\n",
    "        RuntimeError 一般的运行时错误\n",
    "        NotImplementedError 尚未实现的方法\n",
    "        SyntaxError Python 语法错误\n",
    "        IndentationError 缩进错误\n",
    "        TabError Tab 和空格混用\n",
    "        SystemError 一般的解释器系统错误\n",
    "        TypeError 对类型无效的操作\n",
    "        ValueError 传入无效的参数\n",
    "        UnicodeError Unicode 相关的错误\n",
    "        UnicodeDecodeError Unicode 解码时的错误\n",
    "        UnicodeEncodeError Unicode 编码时错误\n",
    "        UnicodeTranslateError Unicode 转换时错误\n",
    "        Warning 警告的基类\n",
    "        DeprecationWarning 关于被弃用的特征的警告\n",
    "        FutureWarning 关于构造将来语义会有改变的警告\n",
    "        OverflowWarning 旧的关于自动提升为长整型(long)的警告\n",
    "        PendingDeprecationWarning 关于特性将会被废弃的警告\n",
    "        RuntimeWarning 可疑的运行时行为(runtime behavior)的警告\n",
    "        SyntaxWarning 可疑的语法的警告\n",
    "        UserWarning 用户代码生成的警告"
   ]
  },
  {
   "cell_type": "code",
   "execution_count": null,
   "metadata": {
    "collapsed": true
   },
   "outputs": [],
   "source": [
    "num = int(input('请输入一个分母:'))\n",
    "print (100/num)"
   ]
  },
  {
   "cell_type": "markdown",
   "metadata": {},
   "source": [
    "# 异常处理\n",
    "- 不能保证程序永远正确运行\n",
    "- 但是,必须保证程序在最坏的情况下得到的问题被妥善处理\n",
    "- python 的异常处理模块全部语法为:\n",
    "        \n",
    "        try:\n",
    "            尝试某个操作,如果没有异常,则可以完成\n",
    "            如果有异常,则会执行 except 部分\n",
    "        execpt 异常类型1:\n",
    "            解决方案1\n",
    "        except 异常类型2:\n",
    "            解决方案2\n",
    "        else:\n",
    "            如果没有出现任何异常,则会执行这部分代码\n",
    "        finally:\n",
    "            无论有无异常,最后都会输出\n",
    "            \n",
    "- 流程\n",
    "    - 执行 try 下面的语句\n",
    "    - 如果出现异常,则在 except 语句里查找对应异常并进行处理\n",
    "    - 如果没有出现异常,则执行 else 语句内容\n",
    "    - 最后不管有无出现异常,都要执行 finally 语句\n",
    "- 出except 最少一个以外,else 和 finally 可选"
   ]
  },
  {
   "cell_type": "code",
   "execution_count": 1,
   "metadata": {},
   "outputs": [
    {
     "name": "stdout",
     "output_type": "stream",
     "text": [
      "请输入一个分母:ee\n",
      "请别输入数字外的其他玩意!\n",
      "错误代码: invalid literal for int() with base 10: 'ee'\n",
      "计算结束!\n"
     ]
    }
   ],
   "source": [
    "# 异常简单案例 \n",
    "try:\n",
    "    num = int(input(\"请输入一个分母:\"))\n",
    "    result = 100/num\n",
    "    print ('100/{1}计算的结果是{0}'.format(result,num))\n",
    "except ZeroDivisionError as e:\n",
    "    print ('请输入合法的数字!')\n",
    "    print ('错误代码:',e)\n",
    "except Exception as e:\n",
    "    print ('请别输入数字外的其他玩意!')\n",
    "    print ('错误代码:',e)\n",
    "finally:\n",
    "    print ('计算结束!')"
   ]
  },
  {
   "cell_type": "code",
   "execution_count": null,
   "metadata": {
    "collapsed": true
   },
   "outputs": [],
   "source": []
  }
 ],
 "metadata": {
  "kernelspec": {
   "display_name": "Python 3",
   "language": "python",
   "name": "python3"
  },
  "language_info": {
   "codemirror_mode": {
    "name": "ipython",
    "version": 3
   },
   "file_extension": ".py",
   "mimetype": "text/x-python",
   "name": "python",
   "nbconvert_exporter": "python",
   "pygments_lexer": "ipython3",
   "version": "3.6.1"
  }
 },
 "nbformat": 4,
 "nbformat_minor": 1
}
