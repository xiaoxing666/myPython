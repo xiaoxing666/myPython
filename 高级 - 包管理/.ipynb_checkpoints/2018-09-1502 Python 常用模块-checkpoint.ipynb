{
 "cells": [
  {
   "cell_type": "markdown",
   "metadata": {},
   "source": [
    "# 常用模块\n",
    " - calendar\n",
    " - time\n",
    " - datetime\n",
    " - timeit\n",
    " - os\n",
    " - shutil\n",
    " - zip\n",
    " - math\n",
    " - string\n",
    " - 上述模块理论上都应该先导入,string 是特例\n",
    " "
   ]
  },
  {
   "cell_type": "markdown",
   "metadata": {},
   "source": [
    "# calendar\n",
    "- 跟日历相关的模块"
   ]
  },
  {
   "cell_type": "code",
   "execution_count": 6,
   "metadata": {},
   "outputs": [],
   "source": [
    "import calendar\n",
    "# calendar : 获取一年的日历字符串\n",
    "# 参数\n",
    "# w = 每个日期之间的间隔字符数\n",
    "# l = 每周所占用的行数\n",
    "# c = 每个月之间的间隔字符数\n",
    "# 输出一年的日历\n",
    "# cal = calendar.calendar(2018)\n",
    "# print (cal)"
   ]
  },
  {
   "cell_type": "code",
   "execution_count": 18,
   "metadata": {},
   "outputs": [
    {
     "name": "stdout",
     "output_type": "stream",
     "text": [
      "True\n"
     ]
    }
   ],
   "source": [
    "import calendar\n",
    "# isleap :判断某一年是否是闰年\n",
    "print (calendar.isleap(2000))"
   ]
  },
  {
   "cell_type": "code",
   "execution_count": 23,
   "metadata": {},
   "outputs": [
    {
     "name": "stdout",
     "output_type": "stream",
     "text": [
      "Help on function leapdays in module calendar:\n",
      "\n",
      "leapdays(y1, y2)\n",
      "    Return number of leap years in range [y1, y2).\n",
      "    Assume y1 <= y2.\n",
      "\n",
      "5\n",
      "6\n"
     ]
    }
   ],
   "source": [
    "# leapdays : 获取指定年份闰年的个数\n",
    "help(calendar.leapdays)\n",
    "# 从 help 中可以看到 包含左侧不包含右侧年份\n",
    "print (calendar.leapdays(2000,2020))\n",
    "print (calendar.leapdays(2000,2021))"
   ]
  },
  {
   "cell_type": "code",
   "execution_count": 26,
   "metadata": {},
   "outputs": [
    {
     "name": "stdout",
     "output_type": "stream",
     "text": [
      "   September 2018\n",
      "Mo Tu We Th Fr Sa Su\n",
      "                1  2\n",
      " 3  4  5  6  7  8  9\n",
      "10 11 12 13 14 15 16\n",
      "17 18 19 20 21 22 23\n",
      "24 25 26 27 28 29 30\n",
      "\n"
     ]
    }
   ],
   "source": [
    "# month () 获取某个月的日历字符串\n",
    "# calendar.month()\n",
    "# help(calendar.month)\n",
    "print (calendar.month(2018,9))"
   ]
  },
  {
   "cell_type": "code",
   "execution_count": 30,
   "metadata": {},
   "outputs": [
    {
     "name": "stdout",
     "output_type": "stream",
     "text": [
      "Help on function monthrange in module calendar:\n",
      "\n",
      "monthrange(year, month)\n",
      "    Return weekday (0-6 ~ Mon-Sun) and number of days (28-31) for\n",
      "    year, month.\n",
      "\n",
      "(5, 30)\n"
     ]
    }
   ],
   "source": [
    "# monthrange () 获取一个月的周几开始 (0~6 表示周一到周日) 和一个月的天数\n",
    "# calendar.montheange()\n",
    "help(calendar.monthrange)\n",
    "print (calendar.monthrange(2018,9))"
   ]
  },
  {
   "cell_type": "code",
   "execution_count": 34,
   "metadata": {},
   "outputs": [
    {
     "name": "stdout",
     "output_type": "stream",
     "text": [
      "Help on method monthdayscalendar in module calendar:\n",
      "\n",
      "monthdayscalendar(year, month) method of calendar.TextCalendar instance\n",
      "    Return a matrix representing a month's calendar.\n",
      "    Each row represents a week; days outside this month are zero.\n",
      "\n",
      "[0, 0, 0, 0, 0, 1, 2]\n",
      "[3, 4, 5, 6, 7, 8, 9]\n",
      "[10, 11, 12, 13, 14, 15, 16]\n",
      "[17, 18, 19, 20, 21, 22, 23]\n",
      "[24, 25, 26, 27, 28, 29, 30]\n"
     ]
    }
   ],
   "source": [
    "# monthcalendar() 返回一个月每天的矩阵列表\n",
    "# 格式: calendar.monthcalendar(年,月)\n",
    "# 回值:二级列表\n",
    "# 注意:矩阵中没有天数用0表示\n",
    "help(calendar.monthcalendar)\n",
    "m = calendar.monthcalendar(2018,9)\n",
    "for mm in m:\n",
    "    print (mm)"
   ]
  },
  {
   "cell_type": "code",
   "execution_count": 40,
   "metadata": {},
   "outputs": [
    {
     "name": "stdout",
     "output_type": "stream",
     "text": [
      "Help on method pryear in module calendar:\n",
      "\n",
      "pryear(theyear, w=0, l=0, c=6, m=3) method of calendar.TextCalendar instance\n",
      "    Print a year's calendar.\n",
      "\n",
      "Help on method prmonth in module calendar:\n",
      "\n",
      "prmonth(theyear, themonth, w=0, l=0) method of calendar.TextCalendar instance\n",
      "    Print a month's calendar.\n",
      "\n"
     ]
    }
   ],
   "source": [
    "# prcal 打印一年的日历\n",
    "# prmonth 打印一个月的日历\n",
    "\n",
    "help(calendar.prcal)\n",
    "help(calendar.prmonth)"
   ]
  },
  {
   "cell_type": "code",
   "execution_count": 41,
   "metadata": {},
   "outputs": [
    {
     "name": "stdout",
     "output_type": "stream",
     "text": [
      "Help on function weekday in module calendar:\n",
      "\n",
      "weekday(year, month, day)\n",
      "    Return weekday (0-6 ~ Mon-Sun) for year (1970-...), month (1-12),\n",
      "    day (1-31).\n",
      "\n"
     ]
    }
   ],
   "source": [
    "# weekday() 获取周几\n",
    "help (calendar.weekday)"
   ]
  },
  {
   "cell_type": "markdown",
   "metadata": {},
   "source": [
    "# time 模块\n",
    "### 时间戳\n",
    "    - 一个时间表示,根据不同语言,可以是整数或者浮点数\n",
    "    - 从1970年1月1日0点开始计算到现在的秒数\n",
    "    - 如果表示的时间是之前或者未来太久,可能出现异常\n",
    "    - 32位操作系统能够支持到2038年1月19日凌晨03:14:07\n",
    "    - 64位操作系统能够支持到至约2900亿年后的292,277,026,596年12月4日15:30:08，星期日（UTC）\n",
    "   \n",
    "### UTC 时间\n",
    "    - 世界协调时间,英国格林威治天文台所在地时间作为参考时间\n",
    "    - 中国东八区 UTC+8\n",
    "\n",
    "### 夏令时\n",
    "    - 夏令时就是在夏天的时候将时间调快一小时,25小时\n",
    "\n",
    "### 时间元祖\n",
    "    - 一个包含时间内容的普通元祖\n",
    "    "
   ]
  },
  {
   "cell_type": "code",
   "execution_count": 1,
   "metadata": {
    "collapsed": true
   },
   "outputs": [],
   "source": [
    "import time"
   ]
  },
  {
   "cell_type": "code",
   "execution_count": 48,
   "metadata": {},
   "outputs": [
    {
     "name": "stdout",
     "output_type": "stream",
     "text": [
      "-28800\n",
      "-32400\n"
     ]
    }
   ],
   "source": [
    "# 时间模块的属性 \n",
    "# timezone :当前时区和 UTC 时间相差的秒数,不计算夏令时\n",
    "# 东八区是固定 -28800\n",
    "\n",
    "# altzone 获取相差的秒数,有夏令时的情况下计算\n",
    "print(time.timezone)\n",
    "print(time.altzone)\n",
    "# 有夏令时存在,相差 9 个小时了!"
   ]
  },
  {
   "cell_type": "code",
   "execution_count": 55,
   "metadata": {},
   "outputs": [
    {
     "name": "stdout",
     "output_type": "stream",
     "text": [
      "1536999373.9236367\n",
      "time.struct_time(tm_year=2018, tm_mon=9, tm_mday=15, tm_hour=16, tm_min=16, tm_sec=13, tm_wday=5, tm_yday=258, tm_isdst=0)\n"
     ]
    }
   ],
   "source": [
    "# 得到时间戳\n",
    "print (time.time())\n",
    "# 得到当前时间的时间结构\n",
    "\n",
    "print (time.localtime())"
   ]
  },
  {
   "cell_type": "code",
   "execution_count": 58,
   "metadata": {},
   "outputs": [
    {
     "name": "stdout",
     "output_type": "stream",
     "text": [
      "time.struct_time(tm_year=2018, tm_mon=9, tm_mday=15, tm_hour=16, tm_min=17, tm_sec=17, tm_wday=5, tm_yday=258, tm_isdst=0)\n",
      "Sat Sep 15 16:17:17 2018\n"
     ]
    }
   ],
   "source": [
    "# asctime() 返回元祖的正常字符串化之后的时间格式\n",
    "# 格式:time.asctime (时间元祖)\n",
    "# 返回值:字符串 \n",
    "print (time.localtime())\n",
    "print (time.asctime())"
   ]
  },
  {
   "cell_type": "code",
   "execution_count": 59,
   "metadata": {},
   "outputs": [
    {
     "name": "stdout",
     "output_type": "stream",
     "text": [
      "Sat Sep 15 16:18:21 2018\n"
     ]
    }
   ],
   "source": [
    "# ctime : 获取字符串化的时间\n",
    "print (time.ctime())"
   ]
  },
  {
   "cell_type": "code",
   "execution_count": 61,
   "metadata": {},
   "outputs": [
    {
     "name": "stdout",
     "output_type": "stream",
     "text": [
      "1536999590.0\n"
     ]
    }
   ],
   "source": [
    "# mktime() 使用时间元祖获取对应的时间戳 \n",
    "lt = time.localtime()\n",
    "print (time.mktime(lt))"
   ]
  },
  {
   "cell_type": "code",
   "execution_count": 5,
   "metadata": {},
   "outputs": [
    {
     "data": {
      "text/plain": [
       "'\\nt1 = time.clock()\\nfor i in range(1,20000):\\n    print (i)\\nt2 = time.clock()\\nprint (\\'程序执行时间:\\',t2-t1,\"秒\")\\n'"
      ]
     },
     "execution_count": 5,
     "metadata": {},
     "output_type": "execute_result"
    }
   ],
   "source": [
    "# clock: 获取  CPU 时间,可以用来计算程序执行时间\n",
    "'''\n",
    "t1 = time.clock()\n",
    "for i in range(1,20000):\n",
    "    print (i)\n",
    "t2 = time.clock()\n",
    "print ('程序执行时间:',t2-t1,\"秒\")\n",
    "'''"
   ]
  },
  {
   "cell_type": "code",
   "execution_count": 3,
   "metadata": {},
   "outputs": [
    {
     "name": "stdout",
     "output_type": "stream",
     "text": [
      "1\n",
      "2\n",
      "3\n",
      "4\n",
      "5\n",
      "6\n",
      "7\n",
      "8\n",
      "9\n"
     ]
    }
   ],
   "source": [
    "# sleep : 使程序进入睡眠, n 秒后继续\n",
    "\n",
    "for i in range(1,10):\n",
    "    print (i)\n",
    "    time.sleep(0.5)"
   ]
  },
  {
   "cell_type": "markdown",
   "metadata": {},
   "source": [
    "## strftime :将时间元祖转化为自定义的字符串格式\n",
    "\n",
    "        %y 两位数的年份表示（00-99）\n",
    "        %Y 四位数的年份表示（000-9999）\n",
    "        %m 月份（01-12）\n",
    "        %d 月内中的一天（0-31）\n",
    "        %H 24小时制小时数（0-23）\n",
    "        %I 12小时制小时数（01-12）\n",
    "        %M 分钟数（00=59）\n",
    "        %S 秒（00-59）\n",
    "        %a 本地简化星期名称\n",
    "        %A 本地完整星期名称\n",
    "        %b 本地简化的月份名称\n",
    "        %B 本地完整的月份名称\n",
    "        %c 本地相应的日期表示和时间表示\n",
    "        %j 年内的一天（001-366）\n",
    "        %p 本地A.M.或P.M.的等价符\n",
    "        %U 一年中的星期数（00-53）星期天为星期的开始\n",
    "        %w 星期（0-6），星期天为星期的开始\n",
    "        %W 一年中的星期数（00-53）星期一为星期的开始\n",
    "        %x 本地相应的日期表示\n",
    "        %X 本地相应的时间表示\n",
    "        %Z 当前时区的名称\n",
    "        %% %号本身\n"
   ]
  },
  {
   "cell_type": "code",
   "execution_count": 10,
   "metadata": {},
   "outputs": [
    {
     "name": "stdout",
     "output_type": "stream",
     "text": [
      "2018-09-15 16:34:40\n"
     ]
    }
   ],
   "source": [
    "# strftime\n",
    "t = time.localtime()\n",
    "print (time.strftime(\"%Y-%m-%d %H:%M:%S\",t))"
   ]
  },
  {
   "cell_type": "markdown",
   "metadata": {},
   "source": [
    "# datetime 模块\n",
    "- datetime 提供日期和时间的运算和表示"
   ]
  },
  {
   "cell_type": "code",
   "execution_count": 10,
   "metadata": {},
   "outputs": [
    {
     "ename": "SyntaxError",
     "evalue": "invalid syntax (<ipython-input-10-62690b57fc6d>, line 1)",
     "output_type": "error",
     "traceback": [
      "\u001b[1;36m  File \u001b[1;32m\"<ipython-input-10-62690b57fc6d>\"\u001b[1;36m, line \u001b[1;32m1\u001b[0m\n\u001b[1;33m    import datetime|\u001b[0m\n\u001b[1;37m                   ^\u001b[0m\n\u001b[1;31mSyntaxError\u001b[0m\u001b[1;31m:\u001b[0m invalid syntax\n"
     ]
    }
   ],
   "source": [
    "import datetime|"
   ]
  },
  {
   "cell_type": "code",
   "execution_count": 15,
   "metadata": {},
   "outputs": [
    {
     "name": "stdout",
     "output_type": "stream",
     "text": [
      "<class 'datetime.date'>\n",
      "2018-09-15\n",
      "<class 'datetime.time'>\n",
      "16:36:23\n"
     ]
    }
   ],
   "source": [
    "# datetime 常见属性\n",
    "# datetime.date :一个理想和的日期,提供 year,momth,day属性\n",
    "\n",
    "d =  (datetime.date(2018,9,15))\n",
    "print (type(d))\n",
    "print (d)\n",
    "# datetime.time :提供一个理想和的时间,提供 时分秒\n",
    "t =  datetime.time(16,36,23)\n",
    "print (type(t))\n",
    "print (t)\n"
   ]
  },
  {
   "cell_type": "code",
   "execution_count": 24,
   "metadata": {},
   "outputs": [
    {
     "name": "stdout",
     "output_type": "stream",
     "text": [
      "2018-09-15 16:40:35.424725\n",
      "2018-09-15 16:40:35.424726\n",
      "2018-09-15 08:40:35.424725\n",
      "2018-09-15 16:40:35.424726\n"
     ]
    }
   ],
   "source": [
    "# datetime.datetime\n",
    "from datetime import datetime\n",
    "# 常用类方法:\n",
    "# today:\n",
    "# now\n",
    "# utcnow\n",
    "# fromtimestamp :时间戳\n",
    "dt = datetime(2018,9,15)\n",
    "print (dt.now())\n",
    "print (dt.today())\n",
    "print (dt.utcnow())\n",
    "print (dt.fromtimestamp(time.time()))\n"
   ]
  },
  {
   "cell_type": "code",
   "execution_count": 28,
   "metadata": {},
   "outputs": [
    {
     "name": "stdout",
     "output_type": "stream",
     "text": [
      "2018-09-15 16:43:33.806982\n",
      "2018-09-15 16:43:33\n",
      "2018-09-15 16:43:33.806982\n",
      "2018-09-15 17:43:33\n"
     ]
    }
   ],
   "source": [
    "# datetime.timedelta\n",
    "# 表示一个时间间隔\n",
    "from datetime import datetime,timedelta\n",
    "# help(timedelta)\n",
    "\n",
    "t = datetime.now()\n",
    "\n",
    "print (t)\n",
    "print (t.strftime(\"%Y-%m-%d %H:%M:%S\"))\n",
    "\n",
    "t2 = timedelta(hours=1)\n",
    "print (t)\n",
    "print ((t+t2).strftime(\"%Y-%m-%d %H:%M:%S\"))"
   ]
  },
  {
   "cell_type": "code",
   "execution_count": 35,
   "metadata": {},
   "outputs": [
    {
     "name": "stdout",
     "output_type": "stream",
     "text": [
      "3.014248815449619\n",
      "3.0102288722991943\n"
     ]
    }
   ],
   "source": [
    "# timeit 时间测量工具\n",
    "# 测量程序运行时间间隔实验 \n",
    "\n",
    "def p():\n",
    "    time.sleep(3)\n",
    "t1 = time.clock()\n",
    "p()\n",
    "t2 = time.clock()\n",
    "print (t2-t1)\n",
    "\n",
    "def p():\n",
    "    time.sleep(3)\n",
    "t3 = time.time()\n",
    "p()\n",
    "t4 = time.time()\n",
    "print (t4-t3)\n",
    "\n",
    "# time.time 和 time.clock 测量时间差有什么区别 ?"
   ]
  },
  {
   "cell_type": "code",
   "execution_count": 1,
   "metadata": {},
   "outputs": [
    {
     "name": "stdout",
     "output_type": "stream",
     "text": [
      "10.075706881510751\n"
     ]
    }
   ],
   "source": [
    "# 单纯比较一个程序片段的时间\n",
    "import timeit\n",
    "timeit.timeit()\n",
    "c = '''\n",
    "def p():\n",
    "    time.sleep(2)\n",
    "t1 = time.clock()\n",
    "p()\n",
    "t2 = time.clock()\n",
    "'''\n",
    "\n",
    "tt = timeit.timeit(stmt=c,number=5)\n",
    "print (tt)"
   ]
  },
  {
   "cell_type": "code",
   "execution_count": 4,
   "metadata": {},
   "outputs": [
    {
     "name": "stdout",
     "output_type": "stream",
     "text": [
      "0.0014864610595086702\n"
     ]
    }
   ],
   "source": [
    "# timeit 可以执行一个函数,来测量一个函数的执行时间\n",
    "def do():\n",
    "    sum = 0\n",
    "    for i in range(1,1000):\n",
    "        sum += i\n",
    "        \n",
    "t = timeit.timeit(stmt=do,number=10)\n",
    "print (t)"
   ]
  },
  {
   "cell_type": "code",
   "execution_count": 14,
   "metadata": {},
   "outputs": [
    {
     "name": "stdout",
     "output_type": "stream",
     "text": [
      "10.073430720195233\n"
     ]
    }
   ],
   "source": [
    "c = '''\n",
    "def do(num):\n",
    "    time.sleep(2)\n",
    "'''\n",
    "tt = timeit.timeit('do(num)',setup=c+\"num=3\",number=5)\n",
    "print (tt)"
   ]
  },
  {
   "cell_type": "code",
   "execution_count": null,
   "metadata": {
    "collapsed": true
   },
   "outputs": [],
   "source": []
  }
 ],
 "metadata": {
  "kernelspec": {
   "display_name": "Python 3",
   "language": "python",
   "name": "python3"
  },
  "language_info": {
   "codemirror_mode": {
    "name": "ipython",
    "version": 3
   },
   "file_extension": ".py",
   "mimetype": "text/x-python",
   "name": "python",
   "nbconvert_exporter": "python",
   "pygments_lexer": "ipython3",
   "version": "3.6.1"
  }
 },
 "nbformat": 4,
 "nbformat_minor": 2
}
